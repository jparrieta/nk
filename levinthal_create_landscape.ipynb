{
 "cells": [
  {
   "cell_type": "markdown",
   "metadata": {},
   "source": [
    "# Tutorial on Creating Rugged Landscapes\n",
    "\n",
    "In this tutorial, you will be introduced to a simple model to create NK landscapes following Levinthal (1997). The tutorial does not include search in rugged landscapes, just the creation of the landscapes. You can find a code with the search process in the levinthal.ipynb file in this repository.  \n",
    "\n",
    "**Reference:** Levinthal, D. A. (1997). Adaptation on rugged landscapes. Management science, 43(7), 934-950."
   ]
  },
  {
   "cell_type": "markdown",
   "metadata": {},
   "source": [
    "<h1 id=\"tocheading\">Table of Contents</h1>\n",
    "<div id=\"toc\"></div>"
   ]
  },
  {
   "cell_type": "markdown",
   "metadata": {},
   "source": [
    "# NK landscape\n",
    "In Levinthal (1997) the agent is quite simple. The environment does have some intricancies. \n",
    "\n",
    "## 1. Create dependencies\n",
    "The k interdependencies in Levinthal's are created at random. Basically, one needs a matrix where the diagonal has a 1 and the off-diagonal has k ones and n-k zeroes. A one represents an interdependency and a zero the lack of it.  \n",
    "This function includes two variables N and K and outputs a NxN interdependency matrix. "
   ]
  },
  {
   "cell_type": "code",
   "execution_count": 2,
   "metadata": {},
   "outputs": [],
   "source": [
    "import numpy as np\n",
    "import pandas as pd\n",
    "import random \n",
    "import matplotlib.pyplot as plt\n",
    "\n",
    "def create_dependencies(n, k, land_style):\n",
    "    dep_mat = np.zeros((n,n)).astype(int)\n",
    "    inter_row = [1]*k+[0]*(n-k-1) # number of off-diagonals 1s and 0s\n",
    "    if land_style == \"Rand_mat\": \n",
    "        inter = random.sample(inter_row*n, n*(n-1))\n",
    "    for i in range(n):\n",
    "        if land_style == \"Rand_row\": inter = np.random.choice(inter_row, replace = False, size = (n-1))\n",
    "        elif land_style == \"Levinthal\": inter = inter_row # The original order is the one from Levinthal (1997)\n",
    "        range_row = list(range(n)[i:])+list(range(n)[:i])\n",
    "        for j in range_row:\n",
    "            if i != j: \n",
    "                dep_mat[i][j] = inter[0]\n",
    "                inter = inter[1:]\n",
    "            else: dep_mat[i][i] = 1\n",
    "    return(dep_mat)"
   ]
  },
  {
   "cell_type": "markdown",
   "metadata": {},
   "source": [
    "### 1.1 Example: How to create a interdependency matrix\n",
    "Below you see how an interdependency matrix is built. If you run the code again, the matrix will change. "
   ]
  },
  {
   "cell_type": "code",
   "execution_count": 246,
   "metadata": {},
   "outputs": [
    {
     "data": {
      "text/plain": [
       "array([[1, 0, 1],\n",
       "       [1, 1, 1],\n",
       "       [0, 0, 1]])"
      ]
     },
     "execution_count": 246,
     "metadata": {},
     "output_type": "execute_result"
    }
   ],
   "source": [
    "n = 3\n",
    "k = 1\n",
    "land_style = \"Rand_mat\"\n",
    "dep_mat = create_dependencies(n, k, land_style)\n",
    "\n",
    "dep_mat"
   ]
  },
  {
   "cell_type": "markdown",
   "metadata": {},
   "source": [
    "### 1.2. Miscellaneous function: Int2Pol\n",
    "This is a miscellaneous function. It is presented here to avoid confusion. It will be use by the next functions.  \n",
    "This function takes an integer value and outputs a string of 0s and 1s of length N. This is important as the binary function of Python truncates any zero to the left of the most significant 1. "
   ]
  },
  {
   "cell_type": "code",
   "execution_count": 247,
   "metadata": {},
   "outputs": [
    {
     "data": {
      "text/plain": [
       "'0101'"
      ]
     },
     "execution_count": 247,
     "metadata": {},
     "output_type": "execute_result"
    }
   ],
   "source": [
    "def int2pol(pol_int, n):\n",
    "    pol = bin(pol_int)[2:] # removes the '0b'\n",
    "    if len(pol) < n: pol = '0'*(n-len(pol)) + pol\n",
    "    return(pol)\n",
    "\n",
    "int2pol(pol_int = 5, n = 4)"
   ]
  },
  {
   "cell_type": "markdown",
   "metadata": {},
   "source": [
    "## 2. Fitness contributions\n",
    "The second step is building the fitness contributions for each item in the interdependency matrix. Before showing the code, it is important to present the logic of it, here we do so by an example.\n",
    "\n",
    "### 2.1 Example\n",
    "Let's imagine that our interdependency matrix is: \n",
    "   \n",
    "|1 0 0|  \n",
    "|0 1 1|  \n",
    "|1 1 1|  \n",
    "\n",
    "What this means is that the fitness contributions of the first value of a policy P = [a,b,c] will depend ONLY on the value of the first policy value, namely whether a is 1 or 0. Formally the fitness contribution will have twwo values:  \n",
    "* f1[0] = z0  \n",
    "* F1[1] = z1  \n",
    "Where z0 and z1 are numbers drawn from a uniform distribution. \n",
    "  \n",
    "The second row is more complicated as there is one interdependency. Here we will have that the second and third policy values are needed to calculate the fitness contribution. For this we need a function with four values as there are four possible combinations of a and b. The functions have the form f2[b,c].  \n",
    "* f2[00] = y0\n",
    "* f2[01] = y1\n",
    "* f2[10] = y2\n",
    "* f2[11] = y3\n",
    "\n",
    "The final row has 3 interdependencies. Now the fitness contributions depends on the values of a, b, and c. The fitness contribution has the for f3[a,b,c]. To depict it, we draw a truth table.   \n",
    "  \n",
    "a  b  c  |  f3  \n",
    "0  0  0  |  x0  \n",
    "0  0  1  |  x1  \n",
    "0  1  0  |  x2  \n",
    "0  1  1  |  x3  \n",
    "1  0  0  |  x4  \n",
    "1  0  1  |  x5  \n",
    "1  1  0  |  x6  \n",
    "1  1  1  |  x7  \n",
    "\n",
    "To create the fitness contributions we need a function that takes one interdependence matrix and outputs the fitness contributions functions for each position. That is, a function that outputs the two f1, four f2, and eight f3.  \n",
    "The function later on should have a structure such that if one tells it that a = 0 and b = 1 it can give f2[b,a] = y2. For this the ideal structure is a list of dictionaries. Each fitness contribution function is a dictionary that one gives the values and it outputs the  and the dictionaries are joined together in a list. Below you find a function that does just that.\n",
    "\n",
    "### 2.2 Fitness contribution generator\n",
    "The function first creates an empty list. This list will be filled with the dictionaries of fitness contribution functions.   \n",
    "The next step is entering a for-loop over the N rows of the interdependency matrix. For each iteration in the for-loop, we do a list comprehension where the binary value of the counter is stored as the key of a dictionary with the value drawn from a uniform distribution. The second for-loop will go over 2^q iterations, where q is the number of 1's in the row. As in the example=, q is on average k+1 but not always. At the end the function output a list of with the dictionaries as its entry.  \n",
    "You see the code below and the outputs is the list of dictionaries of the dependency matrix created in the prior section. "
   ]
  },
  {
   "cell_type": "code",
   "execution_count": 248,
   "metadata": {},
   "outputs": [
    {
     "data": {
      "text/plain": [
       "[{'00': 0.643226095739905,\n",
       "  '01': 0.44330571681388387,\n",
       "  '10': 0.7479749616639022,\n",
       "  '11': 0.05304410875403964},\n",
       " {'000': 0.32291730605336477,\n",
       "  '001': 0.8785855263241943,\n",
       "  '010': 0.06529304137540781,\n",
       "  '011': 0.6517349336353131,\n",
       "  '100': 0.6836953358340567,\n",
       "  '101': 0.6164256818967311,\n",
       "  '110': 0.34557715607522854,\n",
       "  '111': 0.09848293601299074},\n",
       " {'0': 0.5204446905740752, '1': 0.646141864010333}]"
      ]
     },
     "execution_count": 248,
     "metadata": {},
     "output_type": "execute_result"
    }
   ],
   "source": [
    "def fitness_contribution(dep_mat, land_style, k):\n",
    "    fit_con = []\n",
    "    for i in range(len(dep_mat)):\n",
    "        if  land_style != \"Rand_mat\": q = k+1\n",
    "        elif land_style == \"Rand_mat\": q = sum(dep_mat[i])\n",
    "        fit_con.append({int2pol(j,q):random.random() for j in range(2**q)})\n",
    "    return(fit_con)\n",
    "\n",
    "fit_con = fitness_contribution(dep_mat, land_style, k)\n",
    "fit_con"
   ]
  },
  {
   "cell_type": "markdown",
   "metadata": {},
   "source": [
    "## 3. Calculate policy payoffs\n",
    "The next step is to calculate the payoff of a policy based upon the fitness contribution functions. To do this we require two things. First to calculate the payoff contribution of every value in a policy and then sum all of them together. We start with the first task. \n",
    "  \n",
    "### 3.1 Transform Row\n",
    "Let's continue with the example. But now we have the policy P = '101'. This policy has three elements and is stored as a string of 0s and 1s.  \n",
    "In the case of the first value we know we should get z0 as fitness contribution. In the second row, y2 and so on. To do this we need to create a function that takes the values of the policy and matches them to the values other values that are interdependent with it.  \n",
    "The function below is given two inputs, a policy and a row of a dependency matrix.  It creates an empty list and starts to populate it. It does this by starting a for-loop for every element of the policy. If the item of that index is 1 in the interdependency row then it appends the value of policy to the list. If not, it continues to the next policy value. In this way, only the interdependent items are stored. With this, the programs has a list with items that are relevant to calculate the fitness contribution for this policy.  \n",
    "For example, in the case from before we would have as an output of the for-loop '1' in the first row, '01' in the second row and '101' for the last row. This output is called interact_row.  \n",
    "These values however are not understandable by the dictionaries of the fitness contribution. The last rows of the function translate the list into a binary value. So that later the dictonary can be queried.  \n",
    "The process starts by starting trans_pol = 0. This value will store the key value for the dictionary. Then a for-loop starts. The for-loop has the range reversed so that the we keep the items to the left of the list being more significant. This is important because in the the next step we multiply the value of interact_row[i] with the 2^index value. By reversing the order we have that the item most to left in the list will be multiplied by 2^3 if we follow the example from before, the item next to it by 2^2 and so on. The product of the multiplications is added on every loop to the trans_pol value. At the end we have a decimal value. We transform the decimal value and the output is a key we can use in the dictionaries from the fitness contribution. For example for the first row from before we get '1', for the second '01', and for the last row, '101'.  \n",
    "Below you see an example of this function for the same policy we have used in this example but for the randomly generate dependency matrix from before.  "
   ]
  },
  {
   "cell_type": "code",
   "execution_count": 249,
   "metadata": {},
   "outputs": [
    {
     "data": {
      "text/plain": [
       "'101'"
      ]
     },
     "execution_count": 249,
     "metadata": {},
     "output_type": "execute_result"
    }
   ],
   "source": [
    "def transform_row(policy, dep_row):\n",
    "    interact_row = [policy[i] for i in range(len(policy)) if dep_row[i] == 1]\n",
    "    trans_pol = ''\n",
    "    for pol_i in interact_row: trans_pol += pol_i\n",
    "    return(trans_pol)\n",
    "\n",
    "transform_row('101', dep_mat[1])"
   ]
  },
  {
   "cell_type": "markdown",
   "metadata": {},
   "source": [
    "### 3.2 Transform Matrix\n",
    "The transform_row function is called by a transform_matrix function whose job is to take a policy and output a set of keys for the the list of fitness contributions. To do this basically what it does is to to call the transform_row N times can fill out a list with the output of each of the calls of the function. In the example from above we would have: ['0b0',  '0b11', '0b101'] as an output. Below you see an example of the function working.  "
   ]
  },
  {
   "cell_type": "code",
   "execution_count": 250,
   "metadata": {},
   "outputs": [
    {
     "data": {
      "text/plain": [
       "['11', '101', '1']"
      ]
     },
     "execution_count": 250,
     "metadata": {},
     "output_type": "execute_result"
    }
   ],
   "source": [
    "def transform_matrix(policy, dep_mat):\n",
    "    int_mat = [transform_row(policy, dep_mat[i]) for i in range(len(dep_mat))]\n",
    "    return(int_mat)\n",
    "\n",
    "transform_matrix('101',dep_mat)"
   ]
  },
  {
   "cell_type": "markdown",
   "metadata": {},
   "source": [
    "### 3.3 Payoff\n",
    "The payoff function has three inputs, the policy for which to calculate a payoff, the interdependency matrix, and the list of fitness contributions.  The first action it does it to transform the policy into keys to the fitness cotnribution dictionaries. After this is done it sums the entries of all the fitness contributions of the key values and divides the sum by the length of the policy. The last part is done to get a value between 0 and 1. Below we see and example of the code working. "
   ]
  },
  {
   "cell_type": "code",
   "execution_count": 251,
   "metadata": {},
   "outputs": [
    {
     "data": {
      "text/plain": [
       "0.43853721822036795"
      ]
     },
     "execution_count": 251,
     "metadata": {},
     "output_type": "execute_result"
    }
   ],
   "source": [
    "def payoff(policy,dep_mat,fit_con):\n",
    "    keys = transform_matrix(policy, dep_mat)\n",
    "    pay = np.sum([fit_con[i][keys[i]]/len(policy) for i in range(len(policy))])\n",
    "    return(pay)\n",
    "\n",
    "payoff('101',dep_mat,fit_con)"
   ]
  },
  {
   "cell_type": "markdown",
   "metadata": {},
   "source": [
    "## 4. Make full-landscape\n",
    "Now that we can calculate the payoff for one policy we can make the full-landscape. However, to calculate the landscape we need to make a function that takes integers and makes policies.  \n",
    "\n",
    "### 4.1 Calculate Landscape\n",
    "Having the translating function, the function that calculates the landscape is just a for-loop that fills up a dataframe. The dataframe consists of three entries per policy: The policy in list-value, the policy in integer-value, and the payoff. The integer value of the policy is used for accessing the dataframe, the list-value for searching the landscape.   \n",
    "Below you will see an example.  "
   ]
  },
  {
   "cell_type": "code",
   "execution_count": 252,
   "metadata": {},
   "outputs": [
    {
     "data": {
      "text/plain": [
       "{'000': 0.4955293641224483,\n",
       " '001': 0.6560110357161371,\n",
       " '010': 0.409654609229796,\n",
       " '011': 0.58039417148651,\n",
       " '100': 0.6507049960240113,\n",
       " '101': 0.43853721822036795,\n",
       " '110': 0.537998936104402,\n",
       " '111': 0.26588963625912115}"
      ]
     },
     "execution_count": 252,
     "metadata": {},
     "output_type": "execute_result"
    }
   ],
   "source": [
    "def calc_landscape(dep_mat, fit_con):\n",
    "    land = {}\n",
    "    for i in range(2**len(fit_con)):\n",
    "        pol = int2pol(i,n)\n",
    "        land[pol] = payoff(pol, dep_mat, fit_con)\n",
    "    return(land)\n",
    "\n",
    "lands = calc_landscape(dep_mat, fit_con)\n",
    "lands"
   ]
  },
  {
   "cell_type": "markdown",
   "metadata": {},
   "source": [
    "### 4.3 Descriptives of the environment\n",
    "We can characterize the environment. Find the maximum, minimum, number of peaks.  \n",
    "For this we need a function that finds the peaks, which has to find whether a policy gives the highest performance for every neighbor. \n",
    "#### 4.3.1 FInd neighbors\n",
    "For every policy there are N neighboring positions. These are policies that differ by one change from the current policy. The function shown here takes the starting policy and generates at random the N neighbors. It outputs the integer value of each of these N neighbors. The code asks if the neighbors will be given in a random or list order. This is useful during search.  \n",
    "Below you see an example. "
   ]
  },
  {
   "cell_type": "code",
   "execution_count": 253,
   "metadata": {},
   "outputs": [
    {
     "data": {
      "text/plain": [
       "['001', '111', '100']"
      ]
     },
     "execution_count": 253,
     "metadata": {},
     "output_type": "execute_result"
    }
   ],
   "source": [
    "def find_neighbors(policy, randomizer):\n",
    "    policy = (policy) #policy changed \n",
    "    neighbors = []\n",
    "    if randomizer: random_order = random.sample(range(len(policy)), len(policy)) # 10x faster than np.random.choice!\n",
    "    else: random_order = range(len(policy))\n",
    "    for i in random_order:\n",
    "        neighbor = list(policy)\n",
    "        if policy[i] == '1': neighbor[i] = '0'\n",
    "        else: neighbor[i] = '1'\n",
    "        neighbors.append(''.join(neighbor))\n",
    "    return(neighbors)\n",
    "\n",
    "find_neighbors('101', False)"
   ]
  },
  {
   "cell_type": "markdown",
   "metadata": {},
   "source": [
    "#### 4.3.1 Summary\n",
    "This functions gives a summary of the landscape. The maximum, minimum, and number of peaks. It is most useful for collecting statistics of different landscape configurations (i.e., different n and ks).\n"
   ]
  },
  {
   "cell_type": "code",
   "execution_count": 254,
   "metadata": {},
   "outputs": [
    {
     "data": {
      "text/plain": [
       "[0.6560110357161371, 0.26588963625912115, 2]"
      ]
     },
     "execution_count": 254,
     "metadata": {},
     "output_type": "execute_result"
    }
   ],
   "source": [
    "def summary(lands):\n",
    "    num_peaks = 0\n",
    "    for current_row in lands.keys():\n",
    "        counter = 1\n",
    "        for neighbor in find_neighbors(current_row, randomizer = False):\n",
    "            if lands[current_row] < lands[neighbor]: \n",
    "                counter = 0\n",
    "                break\n",
    "        num_peaks += counter\n",
    "    return([max(lands.values()), min(lands.values()), num_peaks])\n",
    "\n",
    "summary(lands)"
   ]
  },
  {
   "cell_type": "markdown",
   "metadata": {},
   "source": [
    "# Create landscape from scratch  \n",
    "  \n",
    "Below you can find the short way of creating the landscape from scratch"
   ]
  },
  {
   "cell_type": "code",
   "execution_count": 255,
   "metadata": {},
   "outputs": [
    {
     "data": {
      "text/plain": [
       "[0.7811466515183305, 0.25147889476322277, 3]"
      ]
     },
     "execution_count": 255,
     "metadata": {},
     "output_type": "execute_result"
    }
   ],
   "source": [
    "n = 6\n",
    "k = 2\n",
    "land_style = \"Rand_row\" # \"Levinthal\", \"Rand_mat\", \"Rand_row\"\n",
    "dep_mat = create_dependencies(n, k, land_style)\n",
    "fit_con = fitness_contribution(dep_mat,land_style,k)\n",
    "Environment = calc_landscape(dep_mat, fit_con)    \n",
    "\n",
    "summary(Environment)"
   ]
  },
  {
   "cell_type": "code",
   "execution_count": 256,
   "metadata": {},
   "outputs": [
    {
     "data": {
      "text/plain": [
       "{'000000': 0.5389218111146179,\n",
       " '000001': 0.3879497280702369,\n",
       " '000010': 0.5019031476026011,\n",
       " '000011': 0.35093106455822015,\n",
       " '000100': 0.49976642564993,\n",
       " '000101': 0.44908241602592763,\n",
       " '000110': 0.6282456814336304,\n",
       " '000111': 0.5775616718096279,\n",
       " '001000': 0.5250806808447677,\n",
       " '001001': 0.5154398103004902,\n",
       " '001010': 0.5445097256198991,\n",
       " '001011': 0.5348688550756217,\n",
       " '001100': 0.7136581192275065,\n",
       " '001101': 0.7811466515183305,\n",
       " '001110': 0.6058845921804273,\n",
       " '001111': 0.6733731244712514,\n",
       " '010000': 0.46137881746285114,\n",
       " '010001': 0.31040673441847016,\n",
       " '010010': 0.4243601539508344,\n",
       " '010011': 0.2733880709064534,\n",
       " '010100': 0.5165712249684336,\n",
       " '010101': 0.4658872153444312,\n",
       " '010110': 0.6450504807521339,\n",
       " '010111': 0.5943664711281316,\n",
       " '011000': 0.40577323826927203,\n",
       " '011001': 0.39613236772499444,\n",
       " '011010': 0.42520228304440344,\n",
       " '011011': 0.4155614125001259,\n",
       " '011100': 0.6419704975968127,\n",
       " '011101': 0.7094590298876366,\n",
       " '011110': 0.5341969705497334,\n",
       " '011111': 0.6016855028405574,\n",
       " '100000': 0.5667631205104986,\n",
       " '100001': 0.4232861679059778,\n",
       " '100010': 0.47249884101951023,\n",
       " '100011': 0.32902188841498947,\n",
       " '100100': 0.4412845979612109,\n",
       " '100101': 0.37183841976016857,\n",
       " '100110': 0.5125182377659396,\n",
       " '100111': 0.4430720595648974,\n",
       " '101000': 0.5577834085316054,\n",
       " '101001': 0.555637668427188,\n",
       " '101010': 0.4432792073109595,\n",
       " '101011': 0.44113346720654206,\n",
       " '101100': 0.6600377098297443,\n",
       " '101101': 0.7087640735435283,\n",
       " '101110': 0.4183309367868878,\n",
       " '101111': 0.46705730050067185,\n",
       " '110000': 0.48922012685873184,\n",
       " '110001': 0.345743174254211,\n",
       " '110010': 0.3949558473677436,\n",
       " '110011': 0.25147889476322277,\n",
       " '110100': 0.4580893972797144,\n",
       " '110101': 0.38864321907867216,\n",
       " '110110': 0.5293230370844433,\n",
       " '110111': 0.459876858883401,\n",
       " '111000': 0.4384759659561097,\n",
       " '111001': 0.4363302258516923,\n",
       " '111010': 0.32397176473546374,\n",
       " '111011': 0.3218260246310463,\n",
       " '111100': 0.5883500881990503,\n",
       " '111101': 0.6370764519128345,\n",
       " '111110': 0.3466433151561939,\n",
       " '111111': 0.395369678869978}"
      ]
     },
     "execution_count": 256,
     "metadata": {},
     "output_type": "execute_result"
    }
   ],
   "source": [
    "Environment"
   ]
  },
  {
   "cell_type": "markdown",
   "metadata": {},
   "source": [
    "# Characterize landscapes  \n",
    "  \n",
    "Below we characterize a thousand landscapes by describing their maxima, minima, and number of peaks "
   ]
  },
  {
   "cell_type": "code",
   "execution_count": 257,
   "metadata": {},
   "outputs": [
    {
     "name": "stdout",
     "output_type": "stream",
     "text": [
      "Computation time: 4.04 s\n"
     ]
    }
   ],
   "source": [
    "import time\n",
    "start_time = time.time()\n",
    "all_max = []\n",
    "all_min = []\n",
    "all_num_peaks = []\n",
    "num_reps = 1000\n",
    "for i in range(num_reps): \n",
    "    dep_mat = create_dependencies(n, k, land_style)\n",
    "    fit_con = fitness_contribution(dep_mat, land_style, k)\n",
    "    Environment = calc_landscape(dep_mat, fit_con)   \n",
    "    max_val, min_val, peaks = summary(Environment)\n",
    "    all_max.append(max_val)\n",
    "    all_min.append(min_val)\n",
    "    all_num_peaks.append(peaks)\n",
    "print(\"Computation time: \" + str(round(time.time()-start_time, 2)) + \" s\")"
   ]
  },
  {
   "cell_type": "code",
   "execution_count": 258,
   "metadata": {},
   "outputs": [
    {
     "data": {
      "text/plain": [
       "(array([ 12.,  37.,  97., 141., 187., 198., 173.,  99.,  46.,  10.]),\n",
       " array([0.08453691, 0.11821921, 0.15190151, 0.18558381, 0.21926611,\n",
       "        0.25294841, 0.28663071, 0.32031301, 0.35399531, 0.38767761,\n",
       "        0.4213599 ]),\n",
       " <a list of 10 Patch objects>)"
      ]
     },
     "execution_count": 258,
     "metadata": {},
     "output_type": "execute_result"
    },
    {
     "data": {
      "image/png": "[encoded data removed]",
      "text/plain": [
       "<Figure size 432x288 with 1 Axes>"
      ]
     },
     "metadata": {
      "needs_background": "light"
     },
     "output_type": "display_data"
    }
   ],
   "source": [
    "plt.hist(all_min)"
   ]
  },
  {
   "cell_type": "code",
   "execution_count": 259,
   "metadata": {},
   "outputs": [
    {
     "data": {
      "text/plain": [
       "(array([  5.,  18.,  54., 157., 225., 251., 179.,  79.,  28.,   4.]),\n",
       " array([0.53006583, 0.57101003, 0.61195422, 0.65289842, 0.69384262,\n",
       "        0.73478681, 0.77573101, 0.81667521, 0.8576194 , 0.8985636 ,\n",
       "        0.9395078 ]),\n",
       " <a list of 10 Patch objects>)"
      ]
     },
     "execution_count": 259,
     "metadata": {},
     "output_type": "execute_result"
    },
    {
     "data": {
      "image/png": "[encoded data removed]",
      "text/plain": [
       "<Figure size 432x288 with 1 Axes>"
      ]
     },
     "metadata": {
      "needs_background": "light"
     },
     "output_type": "display_data"
    }
   ],
   "source": [
    "plt.hist(all_max)"
   ]
  },
  {
   "cell_type": "code",
   "execution_count": 260,
   "metadata": {},
   "outputs": [
    {
     "data": {
      "text/plain": [
       "(array([ 39., 181., 330., 259., 133.,  43.,  10.,   4.,   0.,   1.]),\n",
       " array([ 1. ,  1.9,  2.8,  3.7,  4.6,  5.5,  6.4,  7.3,  8.2,  9.1, 10. ]),\n",
       " <a list of 10 Patch objects>)"
      ]
     },
     "execution_count": 260,
     "metadata": {},
     "output_type": "execute_result"
    },
    {
     "data": {
      "image/png": "[encoded data removed]",
      "text/plain": [
       "<Figure size 432x288 with 1 Axes>"
      ]
     },
     "metadata": {
      "needs_background": "light"
     },
     "output_type": "display_data"
    }
   ],
   "source": [
    "plt.hist(all_num_peaks)"
   ]
  },
  {
   "cell_type": "markdown",
   "metadata": {},
   "source": [
    "# Search\n",
    "With the environment finished it is time to search in this rugged landscape. \n",
    "\n",
    "  \n",
    "**Note:** The code below builds the table of content."
   ]
  },
  {
   "cell_type": "code",
   "execution_count": 17,
   "metadata": {},
   "outputs": [
    {
     "data": {
      "application/javascript": [
       "$.getScript('https://kmahelona.github.io/ipython_notebook_goodies/ipython_notebook_toc.js')\n"
      ],
      "text/plain": [
       "<IPython.core.display.Javascript object>"
      ]
     },
     "metadata": {},
     "output_type": "display_data"
    }
   ],
   "source": [
    "%%javascript\n",
    "$.getScript('https://kmahelona.github.io/ipython_notebook_goodies/ipython_notebook_toc.js')"
   ]
  }
 ],
 "metadata": {
  "kernelspec": {
   "display_name": "Python 3",
   "language": "python",
   "name": "python3"
  },
  "language_info": {
   "codemirror_mode": {
    "name": "ipython",
    "version": 3
   },
   "file_extension": ".py",
   "mimetype": "text/x-python",
   "name": "python",
   "nbconvert_exporter": "python",
   "pygments_lexer": "ipython3",
   "version": "3.7.3"
  }
 },
 "nbformat": 4,
 "nbformat_minor": 2
}
