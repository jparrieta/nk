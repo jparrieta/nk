{
 "cells": [
  {
   "cell_type": "markdown",
   "metadata": {},
   "source": [
    "# Tutorial on Levinthal (1997)\n",
    "\n",
    "In this tutorial, you will be introduced to a simple model that replicates the main finding from the paper by Dan Levinthal, published in 1997 in Management Science. \n",
    "\n",
    "This tutorial provides a step by step description on the logic about how to build NK landscapes.\n",
    "\n",
    "**Reference:** Levinthal, D. A. (1997). Adaptation on rugged landscapes. Management science, 43(7), 934-950."
   ]
  },
  {
   "cell_type": "markdown",
   "metadata": {},
   "source": [
    "<h1 id=\"tocheading\">Table of Contents</h1>\n",
    "<div id=\"toc\"></div>\n",
    "<script type=\"text/javascript\" src=\"https://raw.github.com/kmahelona/ipython_notebook_goodies/master/ipython_notebook_toc.js\">"
   ]
  },
  {
   "cell_type": "markdown",
   "metadata": {},
   "source": [
    "# NK Landscape\n",
    "In Levinthal (1997) the agent is quite simple. The environment does have some intricancies. \n",
    "\n",
    "## 1. Create Dependencies\n",
    "The k interdependencies in Levinthal's are created at random. Basically, one needs a matrix where the diagonal has a 1 and the off-diagonal has k ones and n-k zeroes. A one represents an interdependency and a zero the lack of it.  \n",
    "This function includes two variables N and K and outputs a NxN interdependency matrix. "
   ]
  },
  {
   "cell_type": "code",
   "execution_count": 1,
   "metadata": {},
   "outputs": [],
   "source": [
    "import numpy as np\n",
    "import pandas as pd\n",
    "import matplotlib.pyplot as plt\n",
    "\n",
    "def create_dependencies(n, k):\n",
    "    dep_mat = np.zeros((n,n)).astype(int)\n",
    "    for i in range(n):\n",
    "        inter = np.random.choice([1]*k+[0]*(n-k-1), replace = False, size = n-1)\n",
    "        for j in range(n):\n",
    "            if i != j: \n",
    "                dep_mat[i][j] = inter[0]\n",
    "                inter = inter[1:]\n",
    "            else: dep_mat[i][i] = 1\n",
    "    return(dep_mat)"
   ]
  },
  {
   "cell_type": "markdown",
   "metadata": {},
   "source": [
    "### 1.1 Example: How to create a interdependency matrix\n",
    "Below you see how an interdependency matrix is built. If you run the code again, the matrix will change. "
   ]
  },
  {
   "cell_type": "code",
   "execution_count": 2,
   "metadata": {},
   "outputs": [
    {
     "data": {
      "text/plain": [
       "array([[1, 0, 1],\n",
       "       [0, 1, 1],\n",
       "       [1, 0, 1]])"
      ]
     },
     "execution_count": 2,
     "metadata": {},
     "output_type": "execute_result"
    }
   ],
   "source": [
    "n = 3\n",
    "k = 1\n",
    "dep_mat = create_dependencies(n, k)\n",
    "\n",
    "dep_mat"
   ]
  },
  {
   "cell_type": "markdown",
   "metadata": {},
   "source": [
    "## 2. Fitness Contributions\n",
    "The second step is building the fitness contributions for each item in the interdependency matrix. Before showing the code, it is important to present the logic of it, here we do so by an example.\n",
    "\n",
    "### 2.1 Example\n",
    "Let's imagine that our interdependency matrix is: \n",
    "   \n",
    "|1 0 0|  \n",
    "|0 1 1|  \n",
    "|1 1 1|  \n",
    "\n",
    "What this means is that the fitness contributions of the first value of a policy P = [a,b,c] will depend ONLY on the value of the first policy value, namely whether a is 1 or 0. Formally the fitness contribution will have twwo values:  \n",
    "* f1[0] = z0  \n",
    "* F1[1] = z1  \n",
    "Where z0 and z1 are numbers drawn from a uniform distribution. \n",
    "  \n",
    "The second row is more complicated as there is one interdependency. Here we will have that the second and third policy values are needed to calculate the fitness contribution. For this we need a function with four values as there are four possible combinations of a and b. The functions have the form f2[b,a].  \n",
    "* f2[00] = y0\n",
    "* f2[01] = y1\n",
    "* f2[10] = y2\n",
    "* f2[11] = y3\n",
    "\n",
    "The final row has 3 interdependencies. Now the fitness contributions depends on the values of a, 2, and c. The fitness contribution has the for f3[c,a,b]. To depict it, we draw a truth table.   \n",
    "  \n",
    "c  a  b  |  f3  \n",
    "0  0  0  |  x0  \n",
    "0  0  1  |  x1  \n",
    "0  1  0  |  x2  \n",
    "0  1  1  |  x3  \n",
    "1  0  0  |  x4  \n",
    "1  0  1  |  x5  \n",
    "1  1  0  |  x6  \n",
    "1  1  1  |  x7  \n",
    "\n",
    "To create the fitness contributions we need a function that takes one interdependence matrix and outputs the fitness contributions functions for each position. That is, a function that outputs the two f1, four f2, and eight f3.  \n",
    "The function later on should have a structure such that if one tells it that a = 0 and b = 1 it can give f2[b,a] = y2. For this the ideal structure is a list of dictionaries. Each fitness contribution function is a dictionary that one gives the values and it outputs the  and the dictionaries are joined together in a list. Below you find a function that does just that.\n",
    "\n",
    "### 2.2 Fitness contribution generator\n",
    "The function first creates an empty list. This list will be filled with the dictionaries of fitness contribution functions.   \n",
    "The next step is entering a for-loop over the N rows of the interdependency matrix. For each iteration in the for-loop, we do a list comprehension where the binary value of the counter is stored as the key of a dictionary with the value drawn from a uniform distribution. The second for-loop will go over 2^k+1 iterations, where k is the number of 1's in the off-diagonal. At the end the function output a list of with the dictionaries as its entry.  \n",
    "You see the code below and the outputs is the list of dictionaries of the dependency matrix created in the prior section. "
   ]
  },
  {
   "cell_type": "code",
   "execution_count": 3,
   "metadata": {},
   "outputs": [
    {
     "data": {
      "text/plain": [
       "[{'0b0': 0.6679285645135936,\n",
       "  '0b1': 0.023185584942832405,\n",
       "  '0b10': 0.39266929469305156,\n",
       "  '0b11': 0.9061631550414734},\n",
       " {'0b0': 0.20725522070943825,\n",
       "  '0b1': 0.908181434031553,\n",
       "  '0b10': 0.09967881848014404,\n",
       "  '0b11': 0.6780128398463998},\n",
       " {'0b0': 0.40030013448495605,\n",
       "  '0b1': 0.29919388868473307,\n",
       "  '0b10': 0.08551169571331507,\n",
       "  '0b11': 0.4275000053834487}]"
      ]
     },
     "execution_count": 3,
     "metadata": {},
     "output_type": "execute_result"
    }
   ],
   "source": [
    "def fitness_contribution(dep_mat):\n",
    "    fit_con = []\n",
    "    n = len(dep_mat)\n",
    "    for i in range(n): \n",
    "        epi_row = {bin(j): np.random.random() for j in range(2**sum(dep_mat[i]))}\n",
    "        fit_con.append(epi_row)\n",
    "    return(fit_con)\n",
    "\n",
    "fit_con = fitness_contribution(dep_mat)\n",
    "fit_con"
   ]
  },
  {
   "cell_type": "markdown",
   "metadata": {},
   "source": [
    "## 3. Calculate policy payoffs\n",
    "The next step is to calculate the payoff of a policy based upon the fitness contribution functions. To do this we require two things. First to calculate the payoff contribution of every value in a policy and then sum all of them together. We start with the first task. \n",
    "\n",
    "### 3.1 Transform Row\n",
    "Let's continue with the example. But now we have the polict P = [0,1,1].  \n",
    "In the case of the first value we know we should get z0 as fitness contribution. In the second row, y2 and so on. To do this we need to create a function that takes the values of the policy and matches them to the values other values that are interdependent with it.  \n",
    "THe function below is given two inputs, a policy and a row of a dependency matrix.  It creates an empty list and starts to populate it. It does this by starting a for-loop for every element of the policy. If the item of that index is 1 in the interdependency row then it appends the value of policy to the list. If not, it continues to the next policy value. In this way, only the interdependent items are stored. With this, the programs has a list with items that are relevant to calculate the fitness contribution for this policy.     \n",
    "For example, in the case from before we would have as an output of the for-loop [0] in the first row, [1,1] in the second row and [1,0,1] for the last row. This output is called interact_row.\n",
    "These values however are not understandable by the dictionaries of the fitness contribution. The last rows of the function translate the list into a binary value. So that later the dictonary can be queried.   \n",
    "The process starts by starting trans_pol = 0. This value will store the key value for the dictionary. Then a for-loop starts. The for-loop has the range reversed so that the we keep the items to the left of the list being more significant. This is important because in the the next step we multiply the value of interact_row[i] with the 2^index value. By reversing the order we have that the item most to left in the list will be multiplied by 2^3 if we follow the example from before, the item next to it by 2^2 and so on. The product of the multiplications is added on every loop to the trans_pol value. At the end we have a decimal value. We transform the decimal value and the output is a key we can use in the dictionaries from the fitness contribution. For example for the first row from before we get '0b0', for the second '0b11', and for the last row, '0b101'.  \n",
    "Below you see an example of this function for the same policy we have used in this example but for the randomly generate dependency matrix from before. "
   ]
  },
  {
   "cell_type": "code",
   "execution_count": 4,
   "metadata": {},
   "outputs": [
    {
     "data": {
      "text/plain": [
       "'0b1'"
      ]
     },
     "execution_count": 4,
     "metadata": {},
     "output_type": "execute_result"
    }
   ],
   "source": [
    "def list2int(pol_list):\n",
    "    pol_list.reverse()\n",
    "    pol_int = np.sum([(2**j)*pol_list[j] for j in range(len(pol_list))])\n",
    "    return(pol_int)\n",
    "\n",
    "def transform_row(policy, dep_row):\n",
    "    interact_row = [policy[i] for i in range(len(policy)) if dep_row[i] == 1]\n",
    "    trans_pol = list2int(interact_row)\n",
    "    return(bin(trans_pol))\n",
    "\n",
    "transform_row([1,0,1], dep_mat[1])"
   ]
  },
  {
   "cell_type": "markdown",
   "metadata": {},
   "source": [
    "### 3.2 Transform Matrix\n",
    "The transform_row function is called by a transform_matrix function whose job is to take a policy and output a set of keys for the the list of fitness contributions. To do this basically what it does is to to call the transform_row N times can fill out a list with the output of each of the calls of the function. In the example from above we would have: ['0b0',  '0b11', '0b101'] as an output. Below you see an example of the function working.  "
   ]
  },
  {
   "cell_type": "code",
   "execution_count": 5,
   "metadata": {},
   "outputs": [
    {
     "data": {
      "text/plain": [
       "['0b11', '0b1', '0b11']"
      ]
     },
     "execution_count": 5,
     "metadata": {},
     "output_type": "execute_result"
    }
   ],
   "source": [
    "def transform_matrix(policy, dep_mat):\n",
    "    int_mat = [transform_row(policy, dep_mat[i]) for i in range(len(dep_mat))]\n",
    "    return(int_mat)\n",
    "\n",
    "transform_matrix([1,0,1],dep_mat)"
   ]
  },
  {
   "cell_type": "markdown",
   "metadata": {},
   "source": [
    "### 3.3 Payoff\n",
    "The payoff function has three inputs, the policy for which to calculate a payoff, the interdependency matrix, and the list of fitness contributions.  The first action it does it to transform the policy into keys to the fitness cotnribution dictionaries. After this is done it sums the entries of all the fitness contributions of the key values and divides the sum by the length of the policy. The last part is done to get a value between 0 and 1. Below we see and example of the code working. "
   ]
  },
  {
   "cell_type": "code",
   "execution_count": 6,
   "metadata": {},
   "outputs": [
    {
     "data": {
      "text/plain": [
       "0.7472815314854917"
      ]
     },
     "execution_count": 6,
     "metadata": {},
     "output_type": "execute_result"
    }
   ],
   "source": [
    "def payoff(policy,dep_mat,fit_con):\n",
    "    keys = transform_matrix(policy, dep_mat)\n",
    "    pay = np.sum([fit_con[i][keys[i]]/len(policy) for i in range(len(policy))])\n",
    "    return(pay)\n",
    "\n",
    "payoff([1,0,1],dep_mat,fit_con)"
   ]
  },
  {
   "cell_type": "markdown",
   "metadata": {},
   "source": [
    "## 4. Make full-landscape\n",
    "Now that we can calculate the payoff for one policy we can make the full-landscape. However, to calculate the landscape we need to make a function that takes integers and makes policies.\n",
    "\n",
    "### 4.1 Integer to List\n",
    "This function takes two arguments first a number in integer and then the length of the desired list. This is important because when one transforms an integer to binary in Python, the output cuts the 0s to the left. So the policy length is altered. This function prevents that.  Below you can see an example.  \n",
    "\n",
    "**Note:** In prior functions we had to translate policies from list to integer, this function does the opposite. If we used this functions only here, then it would be a waste. However, there are benefits to having policies as lists. Especially when regarding agents searching in the landscape."
   ]
  },
  {
   "cell_type": "code",
   "execution_count": 7,
   "metadata": {
    "scrolled": true
   },
   "outputs": [
    {
     "data": {
      "text/plain": [
       "[0, 1, 0, 1]"
      ]
     },
     "execution_count": 7,
     "metadata": {},
     "output_type": "execute_result"
    }
   ],
   "source": [
    "def int2list(pol_int, n):\n",
    "    pol_str = bin(pol_int)\n",
    "    policy = [int(pol) for pol in pol_str[2:]]\n",
    "    if len(policy) < n: policy = [0]*(n-len(policy))+policy\n",
    "    return(policy)\n",
    "\n",
    "int2list(5, 4)"
   ]
  },
  {
   "cell_type": "markdown",
   "metadata": {},
   "source": [
    "### 4.2 Calculate Landscape\n",
    "Having the translating function, the function that calculates the landscape is just a for-loop that fills up a dataframe. The dataframe consists of three entries per policy: The policy in list-value, the policy in integer-value, and the payoff. The integer value of the policy is used for accessing the dataframe, the list-value for searching the landscape.   \n",
    "Below you will see an example.  "
   ]
  },
  {
   "cell_type": "code",
   "execution_count": 8,
   "metadata": {},
   "outputs": [
    {
     "data": {
      "text/html": [
       "<div>\n",
       "<style scoped>\n",
       "    .dataframe tbody tr th:only-of-type {\n",
       "        vertical-align: middle;\n",
       "    }\n",
       "\n",
       "    .dataframe tbody tr th {\n",
       "        vertical-align: top;\n",
       "    }\n",
       "\n",
       "    .dataframe thead th {\n",
       "        text-align: right;\n",
       "    }\n",
       "</style>\n",
       "<table border=\"1\" class=\"dataframe\">\n",
       "  <thead>\n",
       "    <tr style=\"text-align: right;\">\n",
       "      <th></th>\n",
       "      <th>int_pol</th>\n",
       "      <th>payoff</th>\n",
       "      <th>policy</th>\n",
       "    </tr>\n",
       "  </thead>\n",
       "  <tbody>\n",
       "    <tr>\n",
       "      <th>0</th>\n",
       "      <td>0</td>\n",
       "      <td>0.425161</td>\n",
       "      <td>[0, 0, 0]</td>\n",
       "    </tr>\n",
       "    <tr>\n",
       "      <th>1</th>\n",
       "      <td>1</td>\n",
       "      <td>0.410187</td>\n",
       "      <td>[0, 0, 1]</td>\n",
       "    </tr>\n",
       "    <tr>\n",
       "      <th>2</th>\n",
       "      <td>2</td>\n",
       "      <td>0.389303</td>\n",
       "      <td>[0, 1, 0]</td>\n",
       "    </tr>\n",
       "    <tr>\n",
       "      <th>3</th>\n",
       "      <td>3</td>\n",
       "      <td>0.333464</td>\n",
       "      <td>[0, 1, 1]</td>\n",
       "    </tr>\n",
       "    <tr>\n",
       "      <th>4</th>\n",
       "      <td>4</td>\n",
       "      <td>0.228479</td>\n",
       "      <td>[1, 0, 0]</td>\n",
       "    </tr>\n",
       "    <tr>\n",
       "      <th>5</th>\n",
       "      <td>5</td>\n",
       "      <td>0.747282</td>\n",
       "      <td>[1, 0, 1]</td>\n",
       "    </tr>\n",
       "    <tr>\n",
       "      <th>6</th>\n",
       "      <td>6</td>\n",
       "      <td>0.192620</td>\n",
       "      <td>[1, 1, 0]</td>\n",
       "    </tr>\n",
       "    <tr>\n",
       "      <th>7</th>\n",
       "      <td>7</td>\n",
       "      <td>0.670559</td>\n",
       "      <td>[1, 1, 1]</td>\n",
       "    </tr>\n",
       "  </tbody>\n",
       "</table>\n",
       "</div>"
      ],
      "text/plain": [
       "   int_pol    payoff     policy\n",
       "0        0  0.425161  [0, 0, 0]\n",
       "1        1  0.410187  [0, 0, 1]\n",
       "2        2  0.389303  [0, 1, 0]\n",
       "3        3  0.333464  [0, 1, 1]\n",
       "4        4  0.228479  [1, 0, 0]\n",
       "5        5  0.747282  [1, 0, 1]\n",
       "6        6  0.192620  [1, 1, 0]\n",
       "7        7  0.670559  [1, 1, 1]"
      ]
     },
     "execution_count": 8,
     "metadata": {},
     "output_type": "execute_result"
    }
   ],
   "source": [
    "def calc_landscape(dep_mat, fit_con):\n",
    "    land = []\n",
    "    for i in range(2**n):\n",
    "        pol_list = int2list(i, n)\n",
    "        land.append({'int_pol':i, 'policy': np.asarray(pol_list), 'payoff': payoff(pol_list, dep_mat, fit_con)})\n",
    "    return(pd.DataFrame(land))\n",
    "\n",
    "lands = calc_landscape(dep_mat, fit_con)\n",
    "lands"
   ]
  },
  {
   "cell_type": "markdown",
   "metadata": {},
   "source": [
    "### 4.3 Descriptives of the environment\n",
    "We can characterize the environment. Find the maximum, minimum, number of peaks.  \n",
    "For this we need a function that finds the peaks, which has to find whether a policy gives the highest performance for every neighbor. \n",
    "#### 4.3.1 FInd neighbors\n",
    "For every policy there are N neighboring positions. These are policies that differ by one change from the current policy. The function shown here takes the starting policy and generates at random the N neighbors. It outputs the integer value of each of these N neighbors. The neighbors are given at random becuase this is useful for the search algorithm. It is not necessary here but does not affect the code. \n",
    "Below you see an example. "
   ]
  },
  {
   "cell_type": "code",
   "execution_count": 9,
   "metadata": {},
   "outputs": [
    {
     "data": {
      "text/plain": [
       "[4, 1, 7]"
      ]
     },
     "execution_count": 9,
     "metadata": {},
     "output_type": "execute_result"
    }
   ],
   "source": [
    "def find_neighbors(policy):\n",
    "    policy = (policy) #policy changed \n",
    "    neighbors = []\n",
    "    random_order = np.random.choice(range(len(policy)), replace = False, size = len(policy))\n",
    "    for i in random_order:\n",
    "        neighbor = list(policy)\n",
    "        if policy[i] == 1: neighbor[i] = 0\n",
    "        else: neighbor[i] = 1\n",
    "        neighbors.append(list2int(neighbor))\n",
    "    return(neighbors)\n",
    "\n",
    "find_neighbors([1,0,1])"
   ]
  },
  {
   "cell_type": "markdown",
   "metadata": {},
   "source": [
    "#### 4.3.1 Summary\n",
    "This functions gives a summary of the landscape. The maximum, minimum, and number of peaks. It is most useful for collecting statistics of different landscape configurations (i.e., different n and ks).\n"
   ]
  },
  {
   "cell_type": "code",
   "execution_count": 10,
   "metadata": {},
   "outputs": [
    {
     "data": {
      "text/plain": [
       "[0.7472815314854917, 0.19261993629550356, 2]"
      ]
     },
     "execution_count": 10,
     "metadata": {},
     "output_type": "execute_result"
    }
   ],
   "source": [
    "def summary(lands):\n",
    "    max_global = max(lands.payoff)\n",
    "    min_global = min(lands.payoff)\n",
    "    num_peaks = 0\n",
    "    for i in range(lands.shape[0]):\n",
    "        randomized_neighbors = find_neighbors(lands.policy[i])\n",
    "        if lands.loc[i, \"payoff\"] > np.max(lands.loc[randomized_neighbors, \"payoff\"]): num_peaks += 1\n",
    "    return([max_global, min_global, num_peaks])\n",
    "\n",
    "summary(lands)"
   ]
  },
  {
   "cell_type": "markdown",
   "metadata": {},
   "source": [
    "# Create Landscape from Scratch\n",
    "Below you can find the short way of creating the landscape from scratch"
   ]
  },
  {
   "cell_type": "code",
   "execution_count": 11,
   "metadata": {},
   "outputs": [
    {
     "data": {
      "text/plain": [
       "[0.778249620309681, 0.24948975392466677, 2]"
      ]
     },
     "execution_count": 11,
     "metadata": {},
     "output_type": "execute_result"
    }
   ],
   "source": [
    "n = 6\n",
    "k = 2\n",
    "dep_mat = create_dependencies(n, k)\n",
    "fit_con = fitness_contribution(dep_mat)\n",
    "Environment = calc_landscape(dep_mat, fit_con)    \n",
    "\n",
    "summary(Environment)"
   ]
  },
  {
   "cell_type": "code",
   "execution_count": 12,
   "metadata": {},
   "outputs": [
    {
     "data": {
      "text/html": [
       "<div>\n",
       "<style scoped>\n",
       "    .dataframe tbody tr th:only-of-type {\n",
       "        vertical-align: middle;\n",
       "    }\n",
       "\n",
       "    .dataframe tbody tr th {\n",
       "        vertical-align: top;\n",
       "    }\n",
       "\n",
       "    .dataframe thead th {\n",
       "        text-align: right;\n",
       "    }\n",
       "</style>\n",
       "<table border=\"1\" class=\"dataframe\">\n",
       "  <thead>\n",
       "    <tr style=\"text-align: right;\">\n",
       "      <th></th>\n",
       "      <th>int_pol</th>\n",
       "      <th>payoff</th>\n",
       "      <th>policy</th>\n",
       "    </tr>\n",
       "  </thead>\n",
       "  <tbody>\n",
       "    <tr>\n",
       "      <th>0</th>\n",
       "      <td>0</td>\n",
       "      <td>0.500237</td>\n",
       "      <td>[0, 0, 0, 0, 0, 0]</td>\n",
       "    </tr>\n",
       "    <tr>\n",
       "      <th>1</th>\n",
       "      <td>1</td>\n",
       "      <td>0.440791</td>\n",
       "      <td>[0, 0, 0, 0, 0, 1]</td>\n",
       "    </tr>\n",
       "    <tr>\n",
       "      <th>2</th>\n",
       "      <td>2</td>\n",
       "      <td>0.641528</td>\n",
       "      <td>[0, 0, 0, 0, 1, 0]</td>\n",
       "    </tr>\n",
       "    <tr>\n",
       "      <th>3</th>\n",
       "      <td>3</td>\n",
       "      <td>0.582081</td>\n",
       "      <td>[0, 0, 0, 0, 1, 1]</td>\n",
       "    </tr>\n",
       "    <tr>\n",
       "      <th>4</th>\n",
       "      <td>4</td>\n",
       "      <td>0.388620</td>\n",
       "      <td>[0, 0, 0, 1, 0, 0]</td>\n",
       "    </tr>\n",
       "    <tr>\n",
       "      <th>5</th>\n",
       "      <td>5</td>\n",
       "      <td>0.279790</td>\n",
       "      <td>[0, 0, 0, 1, 0, 1]</td>\n",
       "    </tr>\n",
       "    <tr>\n",
       "      <th>6</th>\n",
       "      <td>6</td>\n",
       "      <td>0.529910</td>\n",
       "      <td>[0, 0, 0, 1, 1, 0]</td>\n",
       "    </tr>\n",
       "    <tr>\n",
       "      <th>7</th>\n",
       "      <td>7</td>\n",
       "      <td>0.421080</td>\n",
       "      <td>[0, 0, 0, 1, 1, 1]</td>\n",
       "    </tr>\n",
       "    <tr>\n",
       "      <th>8</th>\n",
       "      <td>8</td>\n",
       "      <td>0.299198</td>\n",
       "      <td>[0, 0, 1, 0, 0, 0]</td>\n",
       "    </tr>\n",
       "    <tr>\n",
       "      <th>9</th>\n",
       "      <td>9</td>\n",
       "      <td>0.385091</td>\n",
       "      <td>[0, 0, 1, 0, 0, 1]</td>\n",
       "    </tr>\n",
       "    <tr>\n",
       "      <th>10</th>\n",
       "      <td>10</td>\n",
       "      <td>0.574890</td>\n",
       "      <td>[0, 0, 1, 0, 1, 0]</td>\n",
       "    </tr>\n",
       "    <tr>\n",
       "      <th>11</th>\n",
       "      <td>11</td>\n",
       "      <td>0.660782</td>\n",
       "      <td>[0, 0, 1, 0, 1, 1]</td>\n",
       "    </tr>\n",
       "    <tr>\n",
       "      <th>12</th>\n",
       "      <td>12</td>\n",
       "      <td>0.250589</td>\n",
       "      <td>[0, 0, 1, 1, 0, 0]</td>\n",
       "    </tr>\n",
       "    <tr>\n",
       "      <th>13</th>\n",
       "      <td>13</td>\n",
       "      <td>0.453249</td>\n",
       "      <td>[0, 0, 1, 1, 0, 1]</td>\n",
       "    </tr>\n",
       "    <tr>\n",
       "      <th>14</th>\n",
       "      <td>14</td>\n",
       "      <td>0.526280</td>\n",
       "      <td>[0, 0, 1, 1, 1, 0]</td>\n",
       "    </tr>\n",
       "    <tr>\n",
       "      <th>15</th>\n",
       "      <td>15</td>\n",
       "      <td>0.728940</td>\n",
       "      <td>[0, 0, 1, 1, 1, 1]</td>\n",
       "    </tr>\n",
       "    <tr>\n",
       "      <th>16</th>\n",
       "      <td>16</td>\n",
       "      <td>0.415411</td>\n",
       "      <td>[0, 1, 0, 0, 0, 0]</td>\n",
       "    </tr>\n",
       "    <tr>\n",
       "      <th>17</th>\n",
       "      <td>17</td>\n",
       "      <td>0.489468</td>\n",
       "      <td>[0, 1, 0, 0, 0, 1]</td>\n",
       "    </tr>\n",
       "    <tr>\n",
       "      <th>18</th>\n",
       "      <td>18</td>\n",
       "      <td>0.372889</td>\n",
       "      <td>[0, 1, 0, 0, 1, 0]</td>\n",
       "    </tr>\n",
       "    <tr>\n",
       "      <th>19</th>\n",
       "      <td>19</td>\n",
       "      <td>0.446946</td>\n",
       "      <td>[0, 1, 0, 0, 1, 1]</td>\n",
       "    </tr>\n",
       "    <tr>\n",
       "      <th>20</th>\n",
       "      <td>20</td>\n",
       "      <td>0.442819</td>\n",
       "      <td>[0, 1, 0, 1, 0, 0]</td>\n",
       "    </tr>\n",
       "    <tr>\n",
       "      <th>21</th>\n",
       "      <td>21</td>\n",
       "      <td>0.467492</td>\n",
       "      <td>[0, 1, 0, 1, 0, 1]</td>\n",
       "    </tr>\n",
       "    <tr>\n",
       "      <th>22</th>\n",
       "      <td>22</td>\n",
       "      <td>0.400297</td>\n",
       "      <td>[0, 1, 0, 1, 1, 0]</td>\n",
       "    </tr>\n",
       "    <tr>\n",
       "      <th>23</th>\n",
       "      <td>23</td>\n",
       "      <td>0.424970</td>\n",
       "      <td>[0, 1, 0, 1, 1, 1]</td>\n",
       "    </tr>\n",
       "    <tr>\n",
       "      <th>24</th>\n",
       "      <td>24</td>\n",
       "      <td>0.436612</td>\n",
       "      <td>[0, 1, 1, 0, 0, 0]</td>\n",
       "    </tr>\n",
       "    <tr>\n",
       "      <th>25</th>\n",
       "      <td>25</td>\n",
       "      <td>0.513750</td>\n",
       "      <td>[0, 1, 1, 0, 0, 1]</td>\n",
       "    </tr>\n",
       "    <tr>\n",
       "      <th>26</th>\n",
       "      <td>26</td>\n",
       "      <td>0.533283</td>\n",
       "      <td>[0, 1, 1, 0, 1, 0]</td>\n",
       "    </tr>\n",
       "    <tr>\n",
       "      <th>27</th>\n",
       "      <td>27</td>\n",
       "      <td>0.610421</td>\n",
       "      <td>[0, 1, 1, 0, 1, 1]</td>\n",
       "    </tr>\n",
       "    <tr>\n",
       "      <th>28</th>\n",
       "      <td>28</td>\n",
       "      <td>0.249490</td>\n",
       "      <td>[0, 1, 1, 1, 0, 0]</td>\n",
       "    </tr>\n",
       "    <tr>\n",
       "      <th>29</th>\n",
       "      <td>29</td>\n",
       "      <td>0.443395</td>\n",
       "      <td>[0, 1, 1, 1, 0, 1]</td>\n",
       "    </tr>\n",
       "    <tr>\n",
       "      <th>...</th>\n",
       "      <td>...</td>\n",
       "      <td>...</td>\n",
       "      <td>...</td>\n",
       "    </tr>\n",
       "    <tr>\n",
       "      <th>34</th>\n",
       "      <td>34</td>\n",
       "      <td>0.778250</td>\n",
       "      <td>[1, 0, 0, 0, 1, 0]</td>\n",
       "    </tr>\n",
       "    <tr>\n",
       "      <th>35</th>\n",
       "      <td>35</td>\n",
       "      <td>0.628726</td>\n",
       "      <td>[1, 0, 0, 0, 1, 1]</td>\n",
       "    </tr>\n",
       "    <tr>\n",
       "      <th>36</th>\n",
       "      <td>36</td>\n",
       "      <td>0.524344</td>\n",
       "      <td>[1, 0, 0, 1, 0, 0]</td>\n",
       "    </tr>\n",
       "    <tr>\n",
       "      <th>37</th>\n",
       "      <td>37</td>\n",
       "      <td>0.325436</td>\n",
       "      <td>[1, 0, 0, 1, 0, 1]</td>\n",
       "    </tr>\n",
       "    <tr>\n",
       "      <th>38</th>\n",
       "      <td>38</td>\n",
       "      <td>0.666632</td>\n",
       "      <td>[1, 0, 0, 1, 1, 0]</td>\n",
       "    </tr>\n",
       "    <tr>\n",
       "      <th>39</th>\n",
       "      <td>39</td>\n",
       "      <td>0.467725</td>\n",
       "      <td>[1, 0, 0, 1, 1, 1]</td>\n",
       "    </tr>\n",
       "    <tr>\n",
       "      <th>40</th>\n",
       "      <td>40</td>\n",
       "      <td>0.450168</td>\n",
       "      <td>[1, 0, 1, 0, 0, 0]</td>\n",
       "    </tr>\n",
       "    <tr>\n",
       "      <th>41</th>\n",
       "      <td>41</td>\n",
       "      <td>0.445982</td>\n",
       "      <td>[1, 0, 1, 0, 0, 1]</td>\n",
       "    </tr>\n",
       "    <tr>\n",
       "      <th>42</th>\n",
       "      <td>42</td>\n",
       "      <td>0.707015</td>\n",
       "      <td>[1, 0, 1, 0, 1, 0]</td>\n",
       "    </tr>\n",
       "    <tr>\n",
       "      <th>43</th>\n",
       "      <td>43</td>\n",
       "      <td>0.702830</td>\n",
       "      <td>[1, 0, 1, 0, 1, 1]</td>\n",
       "    </tr>\n",
       "    <tr>\n",
       "      <th>44</th>\n",
       "      <td>44</td>\n",
       "      <td>0.401558</td>\n",
       "      <td>[1, 0, 1, 1, 0, 0]</td>\n",
       "    </tr>\n",
       "    <tr>\n",
       "      <th>45</th>\n",
       "      <td>45</td>\n",
       "      <td>0.514140</td>\n",
       "      <td>[1, 0, 1, 1, 0, 1]</td>\n",
       "    </tr>\n",
       "    <tr>\n",
       "      <th>46</th>\n",
       "      <td>46</td>\n",
       "      <td>0.658406</td>\n",
       "      <td>[1, 0, 1, 1, 1, 0]</td>\n",
       "    </tr>\n",
       "    <tr>\n",
       "      <th>47</th>\n",
       "      <td>47</td>\n",
       "      <td>0.770988</td>\n",
       "      <td>[1, 0, 1, 1, 1, 1]</td>\n",
       "    </tr>\n",
       "    <tr>\n",
       "      <th>48</th>\n",
       "      <td>48</td>\n",
       "      <td>0.452642</td>\n",
       "      <td>[1, 1, 0, 0, 0, 0]</td>\n",
       "    </tr>\n",
       "    <tr>\n",
       "      <th>49</th>\n",
       "      <td>49</td>\n",
       "      <td>0.482691</td>\n",
       "      <td>[1, 1, 0, 0, 0, 1]</td>\n",
       "    </tr>\n",
       "    <tr>\n",
       "      <th>50</th>\n",
       "      <td>50</td>\n",
       "      <td>0.411118</td>\n",
       "      <td>[1, 1, 0, 0, 1, 0]</td>\n",
       "    </tr>\n",
       "    <tr>\n",
       "      <th>51</th>\n",
       "      <td>51</td>\n",
       "      <td>0.441166</td>\n",
       "      <td>[1, 1, 0, 0, 1, 1]</td>\n",
       "    </tr>\n",
       "    <tr>\n",
       "      <th>52</th>\n",
       "      <td>52</td>\n",
       "      <td>0.480050</td>\n",
       "      <td>[1, 1, 0, 1, 0, 0]</td>\n",
       "    </tr>\n",
       "    <tr>\n",
       "      <th>53</th>\n",
       "      <td>53</td>\n",
       "      <td>0.460715</td>\n",
       "      <td>[1, 1, 0, 1, 0, 1]</td>\n",
       "    </tr>\n",
       "    <tr>\n",
       "      <th>54</th>\n",
       "      <td>54</td>\n",
       "      <td>0.438526</td>\n",
       "      <td>[1, 1, 0, 1, 1, 0]</td>\n",
       "    </tr>\n",
       "    <tr>\n",
       "      <th>55</th>\n",
       "      <td>55</td>\n",
       "      <td>0.419191</td>\n",
       "      <td>[1, 1, 0, 1, 1, 1]</td>\n",
       "    </tr>\n",
       "    <tr>\n",
       "      <th>56</th>\n",
       "      <td>56</td>\n",
       "      <td>0.489089</td>\n",
       "      <td>[1, 1, 1, 0, 0, 0]</td>\n",
       "    </tr>\n",
       "    <tr>\n",
       "      <th>57</th>\n",
       "      <td>57</td>\n",
       "      <td>0.522218</td>\n",
       "      <td>[1, 1, 1, 0, 0, 1]</td>\n",
       "    </tr>\n",
       "    <tr>\n",
       "      <th>58</th>\n",
       "      <td>58</td>\n",
       "      <td>0.566917</td>\n",
       "      <td>[1, 1, 1, 0, 1, 0]</td>\n",
       "    </tr>\n",
       "    <tr>\n",
       "      <th>59</th>\n",
       "      <td>59</td>\n",
       "      <td>0.600046</td>\n",
       "      <td>[1, 1, 1, 0, 1, 1]</td>\n",
       "    </tr>\n",
       "    <tr>\n",
       "      <th>60</th>\n",
       "      <td>60</td>\n",
       "      <td>0.301966</td>\n",
       "      <td>[1, 1, 1, 1, 0, 0]</td>\n",
       "    </tr>\n",
       "    <tr>\n",
       "      <th>61</th>\n",
       "      <td>61</td>\n",
       "      <td>0.451863</td>\n",
       "      <td>[1, 1, 1, 1, 0, 1]</td>\n",
       "    </tr>\n",
       "    <tr>\n",
       "      <th>62</th>\n",
       "      <td>62</td>\n",
       "      <td>0.379795</td>\n",
       "      <td>[1, 1, 1, 1, 1, 0]</td>\n",
       "    </tr>\n",
       "    <tr>\n",
       "      <th>63</th>\n",
       "      <td>63</td>\n",
       "      <td>0.529691</td>\n",
       "      <td>[1, 1, 1, 1, 1, 1]</td>\n",
       "    </tr>\n",
       "  </tbody>\n",
       "</table>\n",
       "<p>64 rows × 3 columns</p>\n",
       "</div>"
      ],
      "text/plain": [
       "    int_pol    payoff              policy\n",
       "0         0  0.500237  [0, 0, 0, 0, 0, 0]\n",
       "1         1  0.440791  [0, 0, 0, 0, 0, 1]\n",
       "2         2  0.641528  [0, 0, 0, 0, 1, 0]\n",
       "3         3  0.582081  [0, 0, 0, 0, 1, 1]\n",
       "4         4  0.388620  [0, 0, 0, 1, 0, 0]\n",
       "5         5  0.279790  [0, 0, 0, 1, 0, 1]\n",
       "6         6  0.529910  [0, 0, 0, 1, 1, 0]\n",
       "7         7  0.421080  [0, 0, 0, 1, 1, 1]\n",
       "8         8  0.299198  [0, 0, 1, 0, 0, 0]\n",
       "9         9  0.385091  [0, 0, 1, 0, 0, 1]\n",
       "10       10  0.574890  [0, 0, 1, 0, 1, 0]\n",
       "11       11  0.660782  [0, 0, 1, 0, 1, 1]\n",
       "12       12  0.250589  [0, 0, 1, 1, 0, 0]\n",
       "13       13  0.453249  [0, 0, 1, 1, 0, 1]\n",
       "14       14  0.526280  [0, 0, 1, 1, 1, 0]\n",
       "15       15  0.728940  [0, 0, 1, 1, 1, 1]\n",
       "16       16  0.415411  [0, 1, 0, 0, 0, 0]\n",
       "17       17  0.489468  [0, 1, 0, 0, 0, 1]\n",
       "18       18  0.372889  [0, 1, 0, 0, 1, 0]\n",
       "19       19  0.446946  [0, 1, 0, 0, 1, 1]\n",
       "20       20  0.442819  [0, 1, 0, 1, 0, 0]\n",
       "21       21  0.467492  [0, 1, 0, 1, 0, 1]\n",
       "22       22  0.400297  [0, 1, 0, 1, 1, 0]\n",
       "23       23  0.424970  [0, 1, 0, 1, 1, 1]\n",
       "24       24  0.436612  [0, 1, 1, 0, 0, 0]\n",
       "25       25  0.513750  [0, 1, 1, 0, 0, 1]\n",
       "26       26  0.533283  [0, 1, 1, 0, 1, 0]\n",
       "27       27  0.610421  [0, 1, 1, 0, 1, 1]\n",
       "28       28  0.249490  [0, 1, 1, 1, 0, 0]\n",
       "29       29  0.443395  [0, 1, 1, 1, 0, 1]\n",
       "..      ...       ...                 ...\n",
       "34       34  0.778250  [1, 0, 0, 0, 1, 0]\n",
       "35       35  0.628726  [1, 0, 0, 0, 1, 1]\n",
       "36       36  0.524344  [1, 0, 0, 1, 0, 0]\n",
       "37       37  0.325436  [1, 0, 0, 1, 0, 1]\n",
       "38       38  0.666632  [1, 0, 0, 1, 1, 0]\n",
       "39       39  0.467725  [1, 0, 0, 1, 1, 1]\n",
       "40       40  0.450168  [1, 0, 1, 0, 0, 0]\n",
       "41       41  0.445982  [1, 0, 1, 0, 0, 1]\n",
       "42       42  0.707015  [1, 0, 1, 0, 1, 0]\n",
       "43       43  0.702830  [1, 0, 1, 0, 1, 1]\n",
       "44       44  0.401558  [1, 0, 1, 1, 0, 0]\n",
       "45       45  0.514140  [1, 0, 1, 1, 0, 1]\n",
       "46       46  0.658406  [1, 0, 1, 1, 1, 0]\n",
       "47       47  0.770988  [1, 0, 1, 1, 1, 1]\n",
       "48       48  0.452642  [1, 1, 0, 0, 0, 0]\n",
       "49       49  0.482691  [1, 1, 0, 0, 0, 1]\n",
       "50       50  0.411118  [1, 1, 0, 0, 1, 0]\n",
       "51       51  0.441166  [1, 1, 0, 0, 1, 1]\n",
       "52       52  0.480050  [1, 1, 0, 1, 0, 0]\n",
       "53       53  0.460715  [1, 1, 0, 1, 0, 1]\n",
       "54       54  0.438526  [1, 1, 0, 1, 1, 0]\n",
       "55       55  0.419191  [1, 1, 0, 1, 1, 1]\n",
       "56       56  0.489089  [1, 1, 1, 0, 0, 0]\n",
       "57       57  0.522218  [1, 1, 1, 0, 0, 1]\n",
       "58       58  0.566917  [1, 1, 1, 0, 1, 0]\n",
       "59       59  0.600046  [1, 1, 1, 0, 1, 1]\n",
       "60       60  0.301966  [1, 1, 1, 1, 0, 0]\n",
       "61       61  0.451863  [1, 1, 1, 1, 0, 1]\n",
       "62       62  0.379795  [1, 1, 1, 1, 1, 0]\n",
       "63       63  0.529691  [1, 1, 1, 1, 1, 1]\n",
       "\n",
       "[64 rows x 3 columns]"
      ]
     },
     "execution_count": 12,
     "metadata": {},
     "output_type": "execute_result"
    }
   ],
   "source": [
    "Environment"
   ]
  },
  {
   "cell_type": "markdown",
   "metadata": {},
   "source": [
    "# Search\n",
    "With the environment finished it is time to search in this rugged landscape. \n",
    "\n",
    "  \n",
    "**Note:** The code below builds the table of content."
   ]
  },
  {
   "cell_type": "code",
   "execution_count": 13,
   "metadata": {},
   "outputs": [
    {
     "data": {
      "application/javascript": [
       "$.getScript('https://kmahelona.github.io/ipython_notebook_goodies/ipython_notebook_toc.js')\n"
      ],
      "text/plain": [
       "<IPython.core.display.Javascript object>"
      ]
     },
     "metadata": {},
     "output_type": "display_data"
    }
   ],
   "source": [
    "%%javascript\n",
    "$.getScript('https://kmahelona.github.io/ipython_notebook_goodies/ipython_notebook_toc.js')"
   ]
  }
 ],
 "metadata": {
  "kernelspec": {
   "display_name": "Python 3",
   "language": "python",
   "name": "python3"
  },
  "language_info": {
   "codemirror_mode": {
    "name": "ipython",
    "version": 3
   },
   "file_extension": ".py",
   "mimetype": "text/x-python",
   "name": "python",
   "nbconvert_exporter": "python",
   "pygments_lexer": "ipython3",
   "version": "3.7.3"
  }
 },
 "nbformat": 4,
 "nbformat_minor": 2
}
