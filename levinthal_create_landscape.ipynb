{
 "cells": [
  {
   "cell_type": "markdown",
   "metadata": {},
   "source": [
    "# Tutorial on Levinthal (1997)\n",
    "\n",
    "In this tutorial, you will be introduced to a simple model that replicates the main finding from the paper by Dan Levinthal, published in 1997 in Management Science. \n",
    "\n",
    "This tutorial provides a step by step description on the logic about how to build NK landscapes.\n",
    "\n",
    "**Reference:** Levinthal, D. A. (1997). Adaptation on rugged landscapes. Management science, 43(7), 934-950."
   ]
  },
  {
   "cell_type": "markdown",
   "metadata": {},
   "source": [
    "<h1 id=\"tocheading\">Table of Contents</h1>\n",
    "<div id=\"toc\"></div>"
   ]
  },
  {
   "cell_type": "markdown",
   "metadata": {},
   "source": [
    "# NK Landscape\n",
    "In Levinthal (1997) the agent is quite simple. The environment does have some intricancies. \n",
    "\n",
    "## 1. Create Dependencies\n",
    "The k interdependencies in Levinthal's are created at random. Basically, one needs a matrix where the diagonal has a 1 and the off-diagonal has k ones and n-k zeroes. A one represents an interdependency and a zero the lack of it.  \n",
    "This function includes two variables N and K and outputs a NxN interdependency matrix. "
   ]
  },
  {
   "cell_type": "code",
   "execution_count": 1,
   "metadata": {},
   "outputs": [],
   "source": [
    "import numpy as np\n",
    "import pandas as pd\n",
    "import matplotlib.pyplot as plt\n",
    "\n",
    "def create_dependencies(n, k):\n",
    "    dep_mat = np.zeros((n,n)).astype(int)\n",
    "    inter = np.random.choice([1]*k*n+[0]*(n-k-1)*n, replace = False, size = n*(n-1))\n",
    "    for i in range(n):\n",
    "        for j in range(n):\n",
    "            if i != j: \n",
    "                dep_mat[i][j] = inter[0]\n",
    "                inter = inter[1:]\n",
    "            else: dep_mat[i][i] = 1\n",
    "    return(dep_mat)"
   ]
  },
  {
   "cell_type": "markdown",
   "metadata": {},
   "source": [
    "### 1.1 Example: How to create a interdependency matrix\n",
    "Below you see how an interdependency matrix is built. If you run the code again, the matrix will change. "
   ]
  },
  {
   "cell_type": "code",
   "execution_count": 2,
   "metadata": {},
   "outputs": [
    {
     "data": {
      "text/plain": [
       "array([[1, 1, 1],\n",
       "       [0, 1, 1],\n",
       "       [0, 0, 1]])"
      ]
     },
     "execution_count": 2,
     "metadata": {},
     "output_type": "execute_result"
    }
   ],
   "source": [
    "n = 3\n",
    "k = 1\n",
    "dep_mat = create_dependencies(n, k)\n",
    "\n",
    "dep_mat"
   ]
  },
  {
   "cell_type": "markdown",
   "metadata": {},
   "source": [
    "### 1.2. Miscellaneous function: Int2Pol\n",
    "This is a miscellaneous function. It is presented here to avoid confusion. It will be use by the next functions.  \n",
    "This function takes an integer value and outputs a string of 0s and 1s of length N. This is important as the binary function of Python truncates any zero to the left of the most significant 1. "
   ]
  },
  {
   "cell_type": "code",
   "execution_count": 3,
   "metadata": {},
   "outputs": [],
   "source": [
    "def int2pol(pol_int, n):\n",
    "    pol = bin(pol_int)\n",
    "    pol = pol[2:] # removes the '0b'\n",
    "    if len(pol) < n: pol = '0'*(n-len(pol)) + pol\n",
    "    return(pol)"
   ]
  },
  {
   "cell_type": "markdown",
   "metadata": {},
   "source": [
    "## 2. Fitness Contributions\n",
    "The second step is building the fitness contributions for each item in the interdependency matrix. Before showing the code, it is important to present the logic of it, here we do so by an example.\n",
    "\n",
    "### 2.1 Example\n",
    "Let's imagine that our interdependency matrix is: \n",
    "   \n",
    "|1 0 0|  \n",
    "|0 1 1|  \n",
    "|1 1 1|  \n",
    "\n",
    "What this means is that the fitness contributions of the first value of a policy P = [a,b,c] will depend ONLY on the value of the first policy value, namely whether a is 1 or 0. Formally the fitness contribution will have twwo values:  \n",
    "* f1[0] = z0  \n",
    "* F1[1] = z1  \n",
    "Where z0 and z1 are numbers drawn from a uniform distribution. \n",
    "  \n",
    "The second row is more complicated as there is one interdependency. Here we will have that the second and third policy values are needed to calculate the fitness contribution. For this we need a function with four values as there are four possible combinations of a and b. The functions have the form f2[b,c].  \n",
    "* f2[00] = y0\n",
    "* f2[01] = y1\n",
    "* f2[10] = y2\n",
    "* f2[11] = y3\n",
    "\n",
    "The final row has 3 interdependencies. Now the fitness contributions depends on the values of a, b, and c. The fitness contribution has the for f3[a,b,c]. To depict it, we draw a truth table.   \n",
    "  \n",
    "a  b  c  |  f3  \n",
    "0  0  0  |  x0  \n",
    "0  0  1  |  x1  \n",
    "0  1  0  |  x2  \n",
    "0  1  1  |  x3  \n",
    "1  0  0  |  x4  \n",
    "1  0  1  |  x5  \n",
    "1  1  0  |  x6  \n",
    "1  1  1  |  x7  \n",
    "\n",
    "To create the fitness contributions we need a function that takes one interdependence matrix and outputs the fitness contributions functions for each position. That is, a function that outputs the two f1, four f2, and eight f3.  \n",
    "The function later on should have a structure such that if one tells it that a = 0 and b = 1 it can give f2[b,a] = y2. For this the ideal structure is a list of dictionaries. Each fitness contribution function is a dictionary that one gives the values and it outputs the  and the dictionaries are joined together in a list. Below you find a function that does just that.\n",
    "\n",
    "### 2.2 Fitness contribution generator\n",
    "The function first creates an empty list. This list will be filled with the dictionaries of fitness contribution functions.   \n",
    "The next step is entering a for-loop over the N rows of the interdependency matrix. For each iteration in the for-loop, we do a list comprehension where the binary value of the counter is stored as the key of a dictionary with the value drawn from a uniform distribution. The second for-loop will go over 2^q iterations, where q is the number of 1's in the row. As in the example=, q is on average k+1 but not always. At the end the function output a list of with the dictionaries as its entry.  \n",
    "You see the code below and the outputs is the list of dictionaries of the dependency matrix created in the prior section. "
   ]
  },
  {
   "cell_type": "code",
   "execution_count": 4,
   "metadata": {},
   "outputs": [
    {
     "data": {
      "text/plain": [
       "[{'000': 0.6746735007698917,\n",
       "  '001': 0.4894029968492345,\n",
       "  '010': 0.5101593444706184,\n",
       "  '011': 0.7024110715169483,\n",
       "  '100': 0.523773712515925,\n",
       "  '101': 0.49143563925983247,\n",
       "  '110': 0.8017200115113896,\n",
       "  '111': 0.16459085631558612},\n",
       " {'00': 0.3716012069787368,\n",
       "  '01': 0.22739056161446103,\n",
       "  '10': 0.8368758825296619,\n",
       "  '11': 0.22742526100879779},\n",
       " {'0': 0.9676676621219938, '1': 0.30153127009779845}]"
      ]
     },
     "execution_count": 4,
     "metadata": {},
     "output_type": "execute_result"
    }
   ],
   "source": [
    "def fitness_contribution(dep_mat):\n",
    "    fit_con = []\n",
    "    n = len(dep_mat)\n",
    "    for i in range(n): \n",
    "        epi_row = {int2pol(j,sum(dep_mat[i])): np.random.random() for j in range(2**sum(dep_mat[i]))}\n",
    "        fit_con.append(epi_row)\n",
    "    return(fit_con)\n",
    "\n",
    "fit_con = fitness_contribution(dep_mat)\n",
    "fit_con"
   ]
  },
  {
   "cell_type": "markdown",
   "metadata": {},
   "source": [
    "## 3. Calculate policy payoffs\n",
    "The next step is to calculate the payoff of a policy based upon the fitness contribution functions. To do this we require two things. First to calculate the payoff contribution of every value in a policy and then sum all of them together. We start with the first task. \n",
    "  \n",
    "### 3.1 Transform Row\n",
    "Let's continue with the example. But now we have the policy P = '101'. This policy has three elements and is stored as a string of 0s and 1s.  \n",
    "In the case of the first value we know we should get z0 as fitness contribution. In the second row, y2 and so on. To do this we need to create a function that takes the values of the policy and matches them to the values other values that are interdependent with it.  \n",
    "The function below is given two inputs, a policy and a row of a dependency matrix.  It creates an empty list and starts to populate it. It does this by starting a for-loop for every element of the policy. If the item of that index is 1 in the interdependency row then it appends the value of policy to the list. If not, it continues to the next policy value. In this way, only the interdependent items are stored. With this, the programs has a list with items that are relevant to calculate the fitness contribution for this policy.  \n",
    "For example, in the case from before we would have as an output of the for-loop '1' in the first row, '01' in the second row and '101' for the last row. This output is called interact_row.  \n",
    "These values however are not understandable by the dictionaries of the fitness contribution. The last rows of the function translate the list into a binary value. So that later the dictonary can be queried.  \n",
    "The process starts by starting trans_pol = 0. This value will store the key value for the dictionary. Then a for-loop starts. The for-loop has the range reversed so that the we keep the items to the left of the list being more significant. This is important because in the the next step we multiply the value of interact_row[i] with the 2^index value. By reversing the order we have that the item most to left in the list will be multiplied by 2^3 if we follow the example from before, the item next to it by 2^2 and so on. The product of the multiplications is added on every loop to the trans_pol value. At the end we have a decimal value. We transform the decimal value and the output is a key we can use in the dictionaries from the fitness contribution. For example for the first row from before we get '1', for the second '01', and for the last row, '101'.  \n",
    "Below you see an example of this function for the same policy we have used in this example but for the randomly generate dependency matrix from before.  "
   ]
  },
  {
   "cell_type": "code",
   "execution_count": 5,
   "metadata": {},
   "outputs": [
    {
     "data": {
      "text/plain": [
       "'01'"
      ]
     },
     "execution_count": 5,
     "metadata": {},
     "output_type": "execute_result"
    }
   ],
   "source": [
    "def transform_row(policy, dep_row):\n",
    "    interact_row = [policy[i] for i in range(len(policy)) if dep_row[i] == 1]\n",
    "    trans_pol = ''\n",
    "    for pol_i in interact_row: trans_pol += pol_i\n",
    "    return(trans_pol)\n",
    "\n",
    "transform_row('101', dep_mat[1])"
   ]
  },
  {
   "cell_type": "markdown",
   "metadata": {},
   "source": [
    "### 3.2 Transform Matrix\n",
    "The transform_row function is called by a transform_matrix function whose job is to take a policy and output a set of keys for the the list of fitness contributions. To do this basically what it does is to to call the transform_row N times can fill out a list with the output of each of the calls of the function. In the example from above we would have: ['0b0',  '0b11', '0b101'] as an output. Below you see an example of the function working.  "
   ]
  },
  {
   "cell_type": "code",
   "execution_count": 6,
   "metadata": {},
   "outputs": [
    {
     "data": {
      "text/plain": [
       "['101', '01', '1']"
      ]
     },
     "execution_count": 6,
     "metadata": {},
     "output_type": "execute_result"
    }
   ],
   "source": [
    "def transform_matrix(policy, dep_mat):\n",
    "    int_mat = [transform_row(policy, dep_mat[i]) for i in range(len(dep_mat))]\n",
    "    return(int_mat)\n",
    "\n",
    "transform_matrix('101',dep_mat)"
   ]
  },
  {
   "cell_type": "markdown",
   "metadata": {},
   "source": [
    "### 3.3 Payoff\n",
    "The payoff function has three inputs, the policy for which to calculate a payoff, the interdependency matrix, and the list of fitness contributions.  The first action it does it to transform the policy into keys to the fitness cotnribution dictionaries. After this is done it sums the entries of all the fitness contributions of the key values and divides the sum by the length of the policy. The last part is done to get a value between 0 and 1. Below we see and example of the code working. "
   ]
  },
  {
   "cell_type": "code",
   "execution_count": 7,
   "metadata": {},
   "outputs": [
    {
     "data": {
      "text/plain": [
       "0.3401191569906973"
      ]
     },
     "execution_count": 7,
     "metadata": {},
     "output_type": "execute_result"
    }
   ],
   "source": [
    "def payoff(policy,dep_mat,fit_con):\n",
    "    keys = transform_matrix(policy, dep_mat)\n",
    "    pay = np.sum([fit_con[i][keys[i]]/len(policy) for i in range(len(policy))])\n",
    "    return(pay)\n",
    "\n",
    "payoff('101',dep_mat,fit_con)"
   ]
  },
  {
   "cell_type": "markdown",
   "metadata": {},
   "source": [
    "## 4. Make full-landscape\n",
    "Now that we can calculate the payoff for one policy we can make the full-landscape. However, to calculate the landscape we need to make a function that takes integers and makes policies.  \n",
    "\n",
    "### 4.1 Calculate Landscape\n",
    "Having the translating function, the function that calculates the landscape is just a for-loop that fills up a dataframe. The dataframe consists of three entries per policy: The policy in list-value, the policy in integer-value, and the payoff. The integer value of the policy is used for accessing the dataframe, the list-value for searching the landscape.   \n",
    "Below you will see an example.  "
   ]
  },
  {
   "cell_type": "code",
   "execution_count": 8,
   "metadata": {},
   "outputs": [
    {
     "data": {
      "text/plain": [
       "{'000': 0.6713141232902075,\n",
       " '001': 0.33944160952049796,\n",
       " '010': 0.7715676297074248,\n",
       " '011': 0.41045586754118146,\n",
       " '100': 0.6210141938722185,\n",
       " '101': 0.3401191569906973,\n",
       " '110': 0.8687545187210151,\n",
       " '111': 0.23118246247406077}"
      ]
     },
     "execution_count": 8,
     "metadata": {},
     "output_type": "execute_result"
    }
   ],
   "source": [
    "def calc_landscape(dep_mat, fit_con):\n",
    "    land = {}\n",
    "    n = len(fit_con)\n",
    "    for i in range(2**n):\n",
    "        pol = int2pol(i,n)\n",
    "        land[pol] = payoff(pol, dep_mat, fit_con)\n",
    "    return(land)\n",
    "\n",
    "lands = calc_landscape(dep_mat, fit_con)\n",
    "lands"
   ]
  },
  {
   "cell_type": "markdown",
   "metadata": {},
   "source": [
    "### 4.3 Descriptives of the environment\n",
    "We can characterize the environment. Find the maximum, minimum, number of peaks.  \n",
    "For this we need a function that finds the peaks, which has to find whether a policy gives the highest performance for every neighbor. \n",
    "#### 4.3.1 FInd neighbors\n",
    "For every policy there are N neighboring positions. These are policies that differ by one change from the current policy. The function shown here takes the starting policy and generates at random the N neighbors. It outputs the integer value of each of these N neighbors. The neighbors are given at random becuase this is useful for the search algorithm. It is not necessary here but does not affect the code. \n",
    "Below you see an example. "
   ]
  },
  {
   "cell_type": "code",
   "execution_count": 9,
   "metadata": {},
   "outputs": [
    {
     "data": {
      "text/plain": [
       "['100', '001', '111']"
      ]
     },
     "execution_count": 9,
     "metadata": {},
     "output_type": "execute_result"
    }
   ],
   "source": [
    "def find_neighbors(policy):\n",
    "    policy = (policy) #policy changed \n",
    "    neighbors = []\n",
    "    random_order = np.random.choice(range(len(policy)), replace = False, size = len(policy))\n",
    "    for i in random_order:\n",
    "        neighbor = list(policy)\n",
    "        if policy[i] == '1': neighbor[i] = '0'\n",
    "        else: neighbor[i] = '1'\n",
    "        neighbors.append(''.join(neighbor))\n",
    "    return(neighbors)\n",
    "\n",
    "find_neighbors('101')"
   ]
  },
  {
   "cell_type": "markdown",
   "metadata": {},
   "source": [
    "#### 4.3.1 Summary\n",
    "This functions gives a summary of the landscape. The maximum, minimum, and number of peaks. It is most useful for collecting statistics of different landscape configurations (i.e., different n and ks).\n"
   ]
  },
  {
   "cell_type": "code",
   "execution_count": 10,
   "metadata": {},
   "outputs": [
    {
     "data": {
      "text/plain": [
       "[0.8687545187210151, 0.23118246247406077, 1]"
      ]
     },
     "execution_count": 10,
     "metadata": {},
     "output_type": "execute_result"
    }
   ],
   "source": [
    "def summary(lands):\n",
    "    max_global = max(lands.values())\n",
    "    min_global = min(lands.values())\n",
    "    num_peaks = 0\n",
    "    for current_row in lands.keys():\n",
    "        randomized_neighbors = find_neighbors(current_row)\n",
    "        counter = 0\n",
    "        for neighbor in randomized_neighbors:\n",
    "            if lands[current_row] < lands[neighbor]: counter += 1\n",
    "        if counter == 0: num_peaks += 1\n",
    "    return([max_global, min_global, num_peaks])\n",
    "\n",
    "summary(lands)"
   ]
  },
  {
   "cell_type": "markdown",
   "metadata": {},
   "source": [
    "# Create Landscape from Scratch\n",
    "Below you can find the short way of creating the landscape from scratch"
   ]
  },
  {
   "cell_type": "code",
   "execution_count": 11,
   "metadata": {},
   "outputs": [
    {
     "data": {
      "text/plain": [
       "[0.7879651285162208, 0.21915591222282352, 6]"
      ]
     },
     "execution_count": 11,
     "metadata": {},
     "output_type": "execute_result"
    }
   ],
   "source": [
    "n = 6\n",
    "k = 2\n",
    "dep_mat = create_dependencies(n, k)\n",
    "fit_con = fitness_contribution(dep_mat)\n",
    "Environment = calc_landscape(dep_mat, fit_con)    \n",
    "\n",
    "summary(Environment)"
   ]
  },
  {
   "cell_type": "code",
   "execution_count": 12,
   "metadata": {},
   "outputs": [
    {
     "data": {
      "text/plain": [
       "{'000000': 0.41911084818050065,\n",
       " '000001': 0.4638026567291653,\n",
       " '000010': 0.3070394887016913,\n",
       " '000011': 0.4652086744691767,\n",
       " '000100': 0.4688951080560196,\n",
       " '000101': 0.30642069556592677,\n",
       " '000110': 0.4156739028852829,\n",
       " '000111': 0.3666768676140109,\n",
       " '001000': 0.49230742761265633,\n",
       " '001001': 0.37409100877228485,\n",
       " '001010': 0.4135075175712396,\n",
       " '001011': 0.4087684759496889,\n",
       " '001100': 0.6137832110661898,\n",
       " '001101': 0.48721242437084994,\n",
       " '001110': 0.45659445786587427,\n",
       " '001111': 0.4435010483893552,\n",
       " '010000': 0.5325105528802224,\n",
       " '010001': 0.577202361428887,\n",
       " '010010': 0.39005378146709574,\n",
       " '010011': 0.5482229672345812,\n",
       " '010100': 0.3816303247129163,\n",
       " '010101': 0.21915591222282352,\n",
       " '010110': 0.43907739577878335,\n",
       " '010111': 0.3900803605075114,\n",
       " '011000': 0.5486321635079137,\n",
       " '011001': 0.43041574466754207,\n",
       " '011010': 0.5592599590815162,\n",
       " '011011': 0.5545209174599655,\n",
       " '011100': 0.583795204908186,\n",
       " '011101': 0.45722441821284604,\n",
       " '011110': 0.4045877557733233,\n",
       " '011111': 0.3914943462968042,\n",
       " '100000': 0.6138638428531044,\n",
       " '100001': 0.5228389911782361,\n",
       " '100010': 0.44380644660832735,\n",
       " '100011': 0.46625897215227996,\n",
       " '100100': 0.6785484010756879,\n",
       " '100101': 0.49755753126163665,\n",
       " '100110': 0.6002462631791978,\n",
       " '100111': 0.5327327705839673,\n",
       " '101000': 0.6464821267554712,\n",
       " '101001': 0.4869482906824357,\n",
       " '101010': 0.666512601272335,\n",
       " '101011': 0.6204561424181204,\n",
       " '101100': 0.5077690026673953,\n",
       " '101101': 0.40241732053754137,\n",
       " '101110': 0.47430221687359714,\n",
       " '101111': 0.48242791196256407,\n",
       " '110000': 0.5486428035368498,\n",
       " '110001': 0.4576179518619815,\n",
       " '110010': 0.576642834667016,\n",
       " '110011': 0.5990953602109687,\n",
       " '110100': 0.5036677643398821,\n",
       " '110101': 0.3226768945258307,\n",
       " '110110': 0.44560710100179607,\n",
       " '110111': 0.37809360840656553,\n",
       " '111000': 0.7879651285162208,\n",
       " '111001': 0.6284312924431853,\n",
       " '111010': 0.6407785338121448,\n",
       " '111011': 0.59472207495793,\n",
       " '111100': 0.558111443433601,\n",
       " '111101': 0.45275976130374695,\n",
       " '111110': 0.337345221178879,\n",
       " '111111': 0.3454709162678458}"
      ]
     },
     "execution_count": 12,
     "metadata": {},
     "output_type": "execute_result"
    }
   ],
   "source": [
    "Environment"
   ]
  },
  {
   "cell_type": "markdown",
   "metadata": {},
   "source": [
    "# Search\n",
    "With the environment finished it is time to search in this rugged landscape. \n",
    "\n",
    "  \n",
    "**Note:** The code below builds the table of content."
   ]
  },
  {
   "cell_type": "code",
   "execution_count": 1,
   "metadata": {},
   "outputs": [
    {
     "data": {
      "application/javascript": [
       "$.getScript('https://kmahelona.github.io/ipython_notebook_goodies/ipython_notebook_toc.js')\n"
      ],
      "text/plain": [
       "<IPython.core.display.Javascript object>"
      ]
     },
     "metadata": {},
     "output_type": "display_data"
    }
   ],
   "source": [
    "%%javascript\n",
    "$.getScript('https://kmahelona.github.io/ipython_notebook_goodies/ipython_notebook_toc.js')"
   ]
  }
 ],
 "metadata": {
  "kernelspec": {
   "display_name": "Python 3",
   "language": "python",
   "name": "python3"
  },
  "language_info": {
   "codemirror_mode": {
    "name": "ipython",
    "version": 3
   },
   "file_extension": ".py",
   "mimetype": "text/x-python",
   "name": "python",
   "nbconvert_exporter": "python",
   "pygments_lexer": "ipython3",
   "version": "3.7.3"
  }
 },
 "nbformat": 4,
 "nbformat_minor": 2
}
