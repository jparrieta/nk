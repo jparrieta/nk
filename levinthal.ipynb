{
 "cells": [
  {
   "cell_type": "markdown",
   "metadata": {},
   "source": [
    "# Tutorial on Levinthal (1997)\n",
    "\n",
    "In this tutorial, you will be introduced to a simple model that replicates the main finding from the paper by Dan Levinthal, published in 1997 in Management Science. \n",
    "\n",
    "This tutorial provides a barebones description of the model. If you want to explore a more flexible version or explore how different agents or bandit distributions would affect Jerker's and Jim's results please Maciej Workiewicz's full code. There you will find code on how to replicate also other seminal papers on NK landscapes.  \n",
    "\n",
    "**Reference:** Levinthal, D. A. (1997). Adaptation on rugged landscapes. Management science, 43(7), 934-950."
   ]
  },
  {
   "cell_type": "markdown",
   "metadata": {},
   "source": [
    "## NK Landscape\n",
    "In Levinthal (1997) the agent is quite simple. The environment does have some intricancies. \n",
    "\n",
    "### 1. Create Dependencies\n",
    "The k interdependencies in Levinthal's are created at random. Basically, one needs a matrix where the diagonal has 1s and the off-diagonals have a probabilty k/n of drawing a 1. A one represents an interdependency and a zero the lack of it.  \n",
    "This function includes two variables N and K and outputs a NxN interdependency matrix. "
   ]
  },
  {
   "cell_type": "code",
   "execution_count": 1,
   "metadata": {},
   "outputs": [],
   "source": [
    "import numpy as np\n",
    "import matplotlib.pyplot as plt\n",
    "\n",
    "def create_dependencies(n, k):\n",
    "    prob = float(k)/(n-1)\n",
    "    dep_mat = np.zeros((n,n)).astype(int)\n",
    "    for i in range(n):\n",
    "        for j in range(n):\n",
    "            if i != j: dep_mat[i][j] = np.random.choice([1,0], p = [prob,1-prob])\n",
    "            else: dep_mat[i][i] = 1\n",
    "    return(dep_mat)"
   ]
  },
  {
   "cell_type": "markdown",
   "metadata": {},
   "source": [
    "### Example: How to create a interdependency matrix\n",
    "Below you see how an interdependency matrix is built. If you run the code again, the matrix will change. "
   ]
  },
  {
   "cell_type": "code",
   "execution_count": 2,
   "metadata": {},
   "outputs": [
    {
     "data": {
      "text/plain": [
       "array([[1, 0, 1, 1],\n",
       "       [1, 1, 1, 1],\n",
       "       [0, 1, 1, 1],\n",
       "       [0, 0, 0, 1]])"
      ]
     },
     "execution_count": 2,
     "metadata": {},
     "output_type": "execute_result"
    }
   ],
   "source": [
    "n = 4\n",
    "k = 2\n",
    "dep_mat = create_dependencies(n, k)\n",
    "\n",
    "dep_mat"
   ]
  },
  {
   "cell_type": "markdown",
   "metadata": {},
   "source": [
    "### 2. Fitness Contributions\n",
    "The second step is building the fitness contributions for each item in the interdependency matrix.  \n",
    "\n",
    "#### Example\n",
    "For example let's imagine that our interdependency matrix is: \n",
    "   \n",
    "|1 0 0 0|  \n",
    "|0 1 1 0|  \n",
    "|1 0 1 1|  \n",
    "|1 1 1 1|  \n",
    "\n",
    "What this means is that the fitness contributions of the first value of a policy P = [a,b,c,d] will depend ONLY on the value of the first policy value, namely whether a is 1 or 0. Formally the fitness contribution will have twwo values:  \n",
    "* f1[0] = z0  \n",
    "* F1[1] = z1  \n",
    "Where z0 and z1 are numbers drawn from a uniform distribution. \n",
    "  \n",
    "The second row is more complicated as there is one interdependency. Here we will have that the second and third policy values are needed to calculate the fitness contribution. For this we need a function with four values as there are four possible combinations of a and b. The functions have the form f2[b,a].  \n",
    "* f2[00] = y0\n",
    "* f2[01] = y1\n",
    "* f2[10] = y2\n",
    "* f2[11] = y3\n",
    "\n",
    "The third row has 2 interdependencies. Now the fitness contributions depends on the values of a, c, and d. The fitness contribution has the for f3[c,d,a]. To depict it, we draw a truth table.   \n",
    "  \n",
    "c  d  a  |  f3  \n",
    "0  0  0  |  x0  \n",
    "0  0  1  |  x1  \n",
    "0  1  0  |  x2  \n",
    "0  1  1  |  x3  \n",
    "1  0  0  |  x4  \n",
    "1  0  1  |  x5  \n",
    "1  1  0  |  x6  \n",
    "1  1  1  |  x7  \n",
    "\n",
    "Finally the last item dependes on so the fitness contribution will need 2^16 values to be created: f4[d,a,b,c].   \n",
    "\n",
    "To create the fitness contributions we need a function that takes one interdependence matrix and outputs the fitness contributions functions for each position. That is, a function thatout puts the two f1, four f2, eight f3, and 16 f4 of the previous example. The function later on should have a structure such that if one tells it that a = 0 and b = 1 it can give f2[b,a] = y2. For this the ideal structure is a list of dictionaries. Each fitness contribution function is a dictionary that one gives the values and it outputs the  and the dictionaries are joined together in a list. Below you find a function that does just that.\n",
    "\n",
    "#### Fitness contribution generator\n",
    "The function first creates an empty list. This list will be filled with the dictionaries of fitness contribution functions.   \n",
    "The next step is entering a for-loop over the N rows of the interdependency matrix. For each iteration in the for-loop, we create an empty dictionary and start a new for-loop. The second for-loop will go over 2^q iterations, where q is the number of 1's in the interdependency matrix (**note:** on average q = k+1 but not every time), On every iteration a new entry is created in the dictionary. The entry has the binary translation of the iteration as its key and a draw from a uniform distribution as its value. At the end the function output a list of with the dictionaries as its entry. \n",
    "You see the code below and the outputs is the list of dictionaries of the dependency matrix created in the prior section. "
   ]
  },
  {
   "cell_type": "code",
   "execution_count": 3,
   "metadata": {},
   "outputs": [
    {
     "data": {
      "text/plain": [
       "[{'0b0': 0.9758056148188538,\n",
       "  '0b1': 0.895913374259347,\n",
       "  '0b10': 0.11253408270229015,\n",
       "  '0b11': 0.9199425449690082,\n",
       "  '0b100': 0.9060017613510333,\n",
       "  '0b101': 0.8073997692479259,\n",
       "  '0b110': 0.0839041730889476,\n",
       "  '0b111': 0.2066202247295975},\n",
       " {'0b0': 0.25694289947832616,\n",
       "  '0b1': 0.5783208639018712,\n",
       "  '0b10': 0.9056328783812567,\n",
       "  '0b11': 0.0694592747215953,\n",
       "  '0b100': 0.37793323408635215,\n",
       "  '0b101': 0.8245352098422758,\n",
       "  '0b110': 0.5051848961941592,\n",
       "  '0b111': 0.08459886121552818,\n",
       "  '0b1000': 0.8212904295944548,\n",
       "  '0b1001': 0.7114509003660286,\n",
       "  '0b1010': 0.9086950655654895,\n",
       "  '0b1011': 0.5223563304216662,\n",
       "  '0b1100': 0.22981207225638545,\n",
       "  '0b1101': 0.1666350142112598,\n",
       "  '0b1110': 0.11593594095224957,\n",
       "  '0b1111': 0.7478934783920103},\n",
       " {'0b0': 0.6423681639584014,\n",
       "  '0b1': 0.8419060098174804,\n",
       "  '0b10': 0.08548467365052204,\n",
       "  '0b11': 0.5680719618592532,\n",
       "  '0b100': 0.6310176360186911,\n",
       "  '0b101': 0.1816301034598875,\n",
       "  '0b110': 0.9107369263171388,\n",
       "  '0b111': 0.9246782529226188},\n",
       " {'0b0': 0.3101098162671001, '0b1': 0.6387455264447726}]"
      ]
     },
     "execution_count": 3,
     "metadata": {},
     "output_type": "execute_result"
    }
   ],
   "source": [
    "def fitness(dep_mat):\n",
    "    epis = []\n",
    "    for i in range(len(dep_mat)): \n",
    "        epi_row = {}\n",
    "        for j in range(2**sum(dep_mat[i])): epi_row[bin(j)] = np.random.random()\n",
    "        epis.append(epi_row)\n",
    "    return(epis)\n",
    "\n",
    "fit_con = fitness(dep_mat)\n",
    "fit_con"
   ]
  },
  {
   "cell_type": "markdown",
   "metadata": {},
   "source": [
    "## 3. Calculate policy payoffs\n",
    "The next step is to calculate the payoff of a policy based upon the fitness contribution functions. To do this we require two things. First to calculate the payoff contribution of every value in a policy and then sum all of them together. We start with the first task. \n",
    "\n",
    "### 3.1 Transform Row\n",
    "Let's continue with the example. But now we have the polict P = [0101].  \n",
    "In the case of the first value we know we should get z0 as fitness contribution. In the second row, y2 and so on. To do this we need to create a function that takes the values of the policy and matches them to the values other values that are interdependent with it.  \n",
    "THe function below is given two inputs, a policy and a row of a dependency matrix.  It creates an empty list and starts to populate it. It does this by starting a for-loop for every element of the policy. If the item of that index is 1 in the interdependency row then it appends the value of policy to the list. If not, it continues to the next policy value. In this way, only the interdependent items are stored. With this, the programs has a list with items that are relevant to calculate the fitness contribution for this policy.     \n",
    "For example, in the case from before we would have as an output of the for-loop [0] in the first row, [1,0] in the second row, [0,1,1] in the third row and [1,0,1,0] for the last row. This output is called interact_row\n",
    "These values however are not understandable by the dictionaries of the fitness contribution. The last rows of the function translate the list into a binary value. So that later the dictonary can be queried.   \n",
    "The process starts by starting trans_pol = 0. This value will store the key value for the dictionary. Then a for-loop starts. The for-loop has the range reversed so that the we keep the items to the left of the list being more significant. This is important because in the the next step we multiply the value of interact_row[i] with the 2^index value. By reversing the order we have that the item most to left in the list will be multiplied by 2^4 if we follow the example from before, the item next to it by 2^3 and so on. The product of the multiplications is added on every loop to the trans_pol value. At the end we have a decimal value. We transform the decimal value and the output is a key we can use in the dictionaries from the fitness contribution. For example for the first row from before we get '0b0', for the second '0b10', for the third '0b011' and for the last row, '0b1010'.  \n",
    "Below you see an example of this function for the same policy we have used in this example but for the randomly generate dependency matrix from before. "
   ]
  },
  {
   "cell_type": "code",
   "execution_count": 4,
   "metadata": {},
   "outputs": [
    {
     "data": {
      "text/plain": [
       "'0b1010'"
      ]
     },
     "execution_count": 4,
     "metadata": {},
     "output_type": "execute_result"
    }
   ],
   "source": [
    "def transform_row(policy,dep_row):\n",
    "    interact_row = []\n",
    "    for i in range(len(policy)):\n",
    "        if dep_row[i] == 1: interact_row.append(policy[i])\n",
    "    trans_pol = 0\n",
    "    for j in reversed(range(len(interact_row))): trans_pol += (2**j)*interact_row[j]\n",
    "    return(bin(trans_pol))\n",
    "\n",
    "transform_row([0,1,0,1], dep_mat[1])"
   ]
  },
  {
   "cell_type": "markdown",
   "metadata": {},
   "source": [
    "### 3.2 Transform Matrix\n",
    "The transform_row function is called by a transform_matrix function whose job is to take a policy and output a set of keys for the the list of fitness contributions. To do this basically what it does is to to call the transform_row N times can fill out a list with the output of each of the calls of the function. In the example from above we would have: ['0b0',  '0b10', '0b011', '0b1010'] as an output. Below you see an example of the function working.  "
   ]
  },
  {
   "cell_type": "code",
   "execution_count": 5,
   "metadata": {},
   "outputs": [
    {
     "data": {
      "text/plain": [
       "['0b100', '0b1010', '0b101', '0b1']"
      ]
     },
     "execution_count": 5,
     "metadata": {},
     "output_type": "execute_result"
    }
   ],
   "source": [
    "def transform_matrix(policy,dep_mat):\n",
    "    int_mat = []\n",
    "    for i in range(len(dep_mat)): int_mat.append(transform_row(policy,dep_mat[i]))\n",
    "    return(int_mat)\n",
    "\n",
    "transform_matrix([0,1,0,1],dep_mat)"
   ]
  },
  {
   "cell_type": "markdown",
   "metadata": {},
   "source": [
    "### 3.3 Payoff\n",
    "The payoff function has three inputs, the policy for which to calculate a payoff, the interdependency matrix, and the list of fitness contributions.  The first action it does it to transform the policy into keys to the fitness cotnribution dictionaries. After this is done it sums the entries of all the fitness contributions of the key values and divides the sum by the length of the policy. The last part is done to get a value between 0 and 1. Below we see and example of the code working. "
   ]
  },
  {
   "cell_type": "code",
   "execution_count": 6,
   "metadata": {},
   "outputs": [
    {
     "data": {
      "text/plain": [
       "0.6587681142052957"
      ]
     },
     "execution_count": 6,
     "metadata": {},
     "output_type": "execute_result"
    }
   ],
   "source": [
    "def payoff(policy,dep_mat,fit_con):\n",
    "    pay = 0.0\n",
    "    keys = transform_matrix(policy, dep_mat)\n",
    "    for i in range(len(policy)): pay += fit_con[i][keys[i]]/len(policy)\n",
    "    return(pay)\n",
    "\n",
    "payoff([0,1,0,1],dep_mat,fit_con)"
   ]
  },
  {
   "cell_type": "markdown",
   "metadata": {},
   "source": [
    "## 4. Make full-landscape\n",
    "Now that we can calculate the payoff for one policy we can make the full-landscape. However, to calculate the landscape we need to make a function that takes integers and makes policies.\n",
    "\n",
    "### 4.1 Integer to List\n",
    "This function takes two arguments first a number in integer and then the length of the desired list. This is important because when one transforms an integer to binary in Python, the output cuts the 0s to the left. So the policy length is altered. This function prevents that.  Below you can see an example.  \n",
    "\n",
    "**Note:** In prior functions we had to translate policies from list to integer, this function does the opposite. If we used this functions only here, then it would be a waste. However, there are benefits to having policies as lists. Especially when regarding agents searching in the landscape."
   ]
  },
  {
   "cell_type": "code",
   "execution_count": 7,
   "metadata": {
    "scrolled": true
   },
   "outputs": [
    {
     "data": {
      "text/plain": [
       "[0, 1, 0, 1]"
      ]
     },
     "execution_count": 7,
     "metadata": {},
     "output_type": "execute_result"
    }
   ],
   "source": [
    "def int2list(pol_int, n):\n",
    "    pol_str = bin(pol_int)\n",
    "    policy = [int(pol) for pol in pol_str[2:]]\n",
    "    if len(policy) < n: policy = [0]*(n-len(policy))+policy\n",
    "    return(policy)\n",
    "\n",
    "int2list(5, 4)"
   ]
  },
  {
   "cell_type": "markdown",
   "metadata": {},
   "source": [
    "### 4.2 Calculate Landscape\n",
    "Having the translating function, the function that calculates the landscape is just a for-loop that fills up a dictionary with the payoffs for each policy. Below you can see an example of the full landscape. "
   ]
  },
  {
   "cell_type": "code",
   "execution_count": 8,
   "metadata": {},
   "outputs": [
    {
     "data": {
      "text/plain": [
       "{'[0, 0, 0, 0]': 0.5463066236306704,\n",
       " '[0, 0, 0, 1]': 0.7492638383522379,\n",
       " '[0, 0, 1, 0]': 0.2215154516765661,\n",
       " '[0, 0, 1, 1]': 0.4657996745268111,\n",
       " '[0, 1, 0, 0]': 0.7583635798211728,\n",
       " '[0, 1, 0, 1]': 0.6587681142052957,\n",
       " '[0, 1, 1, 0]': 0.37397518925570067,\n",
       " '[0, 1, 1, 1]': 0.4408159733521471,\n",
       " '[1, 0, 0, 0]': 0.6066780545966799,\n",
       " '[1, 0, 0, 1]': 0.6971534580193546,\n",
       " '[1, 0, 1, 0]': 0.5350180611822266,\n",
       " '[1, 0, 1, 1]': 0.4806844229256922,\n",
       " '[1, 1, 0, 0]': 0.5293471187663807,\n",
       " '[1, 1, 0, 1]': 0.537532932393563,\n",
       " '[1, 1, 1, 0]': 0.47068079607772245,\n",
       " '[1, 1, 1, 1]': 0.6294843706222497}"
      ]
     },
     "execution_count": 8,
     "metadata": {},
     "output_type": "execute_result"
    }
   ],
   "source": [
    "def calc_landscape(dep_mat, fit_con):\n",
    "    lands = {}\n",
    "    n = dep_mat.shape[0]\n",
    "    for i in range(2**n): lands[str(int2list(i,n))] = payoff(int2list(i,n), dep_mat, fit_con)\n",
    "    return(lands)\n",
    "\n",
    "calc_landscape(dep_mat, fit_con)"
   ]
  },
  {
   "cell_type": "markdown",
   "metadata": {},
   "source": [
    "## Creating a Landscape from Scratch. \n",
    "Below you can see the code to generate a landscape from scratch. This landscape should be different from the ones shown before.\n",
    "\n"
   ]
  },
  {
   "cell_type": "code",
   "execution_count": 9,
   "metadata": {},
   "outputs": [
    {
     "data": {
      "text/plain": [
       "{'[0, 0, 0, 0]': 0.2768063565363619,\n",
       " '[0, 0, 0, 1]': 0.41928522590947304,\n",
       " '[0, 0, 1, 0]': 0.5489353428055544,\n",
       " '[0, 0, 1, 1]': 0.6312220267589057,\n",
       " '[0, 1, 0, 0]': 0.49369033685326724,\n",
       " '[0, 1, 0, 1]': 0.6781641104018514,\n",
       " '[0, 1, 1, 0]': 0.3392780225926444,\n",
       " '[0, 1, 1, 1]': 0.7386607475460263,\n",
       " '[1, 0, 0, 0]': 0.36016126129086057,\n",
       " '[1, 0, 0, 1]': 0.5511422501839423,\n",
       " '[1, 0, 1, 0]': 0.5642915068326426,\n",
       " '[1, 0, 1, 1]': 0.7108371680730846,\n",
       " '[1, 1, 0, 0]': 0.369955725154123,\n",
       " '[1, 1, 0, 1]': 0.42817561893717504,\n",
       " '[1, 1, 1, 0]': 0.2620008302375219,\n",
       " '[1, 1, 1, 1]': 0.49633078572146616}"
      ]
     },
     "execution_count": 9,
     "metadata": {},
     "output_type": "execute_result"
    }
   ],
   "source": [
    "n = 4\n",
    "k = 2\n",
    "dep_mat = create_dependencies(n, k)\n",
    "fit_con = fitness(dep_mat)\n",
    "lands = calc_landscape(dep_mat, fit_con)\n",
    "lands"
   ]
  },
  {
   "cell_type": "code",
   "execution_count": 10,
   "metadata": {},
   "outputs": [],
   "source": [
    "def learn(dep_mat, fit_con, n_turns, long_jump = 0.1):\n",
    "    start = np.random.choice(range(len(truth_table[\"policy\"])))\n",
    "    pol2 = truth_table[\"policy\"][start]\n",
    "    pay2 = truth_table[\"payoff\"][start]\n",
    "    distance = pd.DataFrame(abs(pd.DataFrame(truth_table[\"policy\"])-pd.Series(pol2))).sum(axis=1)\n",
    "    neighbors_pol =  pd.Series(truth_table[\"policy\"]).loc[distance==1]\n",
    "    neighbors_pi = pd.Series(truth_table[\"payoff\"]).loc[distance==1]\n",
    "    sim_pol = [pol2]\n",
    "    sim_pay = [pay2]\n",
    "    final = n_turns\n",
    "    for iteration in range(n_turns):\n",
    "        if pay2 < max(truth_table[\"payoff\"]):\n",
    "            for trial in np.random.choice(range(len(neighbors_pi)),size=len(neighbors_pol),replace=False):\n",
    "                if pay2 < neighbors_pi.iloc[trial]:\n",
    "                    pol2 = neighbors_pol.iloc[trial]\n",
    "                    pay2 = neighbors_pi.iloc[trial]\n",
    "                    distance = pd.DataFrame(abs(pd.DataFrame(truth_table[\"policy\"])-pd.Series(pol2))).sum(axis=1)\n",
    "                    neighbors_pol =  pd.Series(truth_table[\"policy\"]).loc[distance==1]\n",
    "                    neighbors_pi = pd.Series(truth_table[\"payoff\"]).loc[distance==1]\n",
    "                    sim_pol.append(pol2)\n",
    "                    sim_pay.append(pay2)\n",
    "                    break\n",
    "            if np.random.choice([True,False], p = [long_jump,1-long_jump]):\n",
    "                lon = np.random.choice(range(len(truth_table[\"policy\"])))\n",
    "                pol3 = truth_table[\"policy\"][lon]\n",
    "                pay3 = truth_table[\"payoff\"][lon]\n",
    "                distance = pd.DataFrame(abs(pd.DataFrame(truth_table[\"policy\"])-pd.Series(pol3))).sum(axis=1)\n",
    "                neighbors_pol =  pd.Series(truth_table[\"policy\"]).loc[distance==1]\n",
    "                neighbors_pi = pd.Series(truth_table[\"payoff\"]).loc[distance==1]\n",
    "                for trial in np.random.choice(range(len(neighbors_pi)),size=len(neighbors_pol),replace=False):\n",
    "                    if max(sim_pay) < neighbors_pi.iloc[trial]:\n",
    "                        pol2 = neighbors_pol.iloc[trial]\n",
    "                        pay2 = neighbors_pi.iloc[trial]\n",
    "                        distance = pd.DataFrame(abs(pd.DataFrame(truth_table[\"policy\"])-pd.Series(pol2))).sum(axis=1)\n",
    "                        neighbors_pol =  pd.Series(truth_table[\"policy\"]).loc[distance==1]\n",
    "                        neighbors_pi = pd.Series(truth_table[\"payoff\"]).loc[distance==1]\n",
    "                        sim_pol.append(pol2)\n",
    "                        sim_pay.append(pay2)\n",
    "                        break\n",
    "                    elif pay3 > max(sim_pay):\n",
    "                        sim_pol.append(pol3)\n",
    "                        sim_pay.append(pay3)\n",
    "                        break\n",
    "        else: final = min(iteration, final)\n",
    "    if pay2 == max(truth_table[\"payoff\"]): print(\"Sucess in iteration: \" + str(final))                    \n",
    "    return(pd.DataFrame(dict(policy=sim_pol, payoff = sim_pay)))"
   ]
  },
  {
   "cell_type": "code",
   "execution_count": 11,
   "metadata": {},
   "outputs": [
    {
     "name": "stdout",
     "output_type": "stream",
     "text": [
      "Interaction Matrix\n",
      "[[1 1 0 1 0 0]\n",
      " [0 1 0 1 0 0]\n",
      " [0 0 1 0 0 0]\n",
      " [0 1 0 1 0 0]\n",
      " [0 0 0 0 1 1]\n",
      " [1 0 1 1 0 1]]\n"
     ]
    },
    {
     "ename": "KeyError",
     "evalue": "'policy'",
     "output_type": "error",
     "traceback": [
      "\u001b[1;31m---------------------------------------------------------------------------\u001b[0m",
      "\u001b[1;31mKeyError\u001b[0m                                  Traceback (most recent call last)",
      "\u001b[1;32m<ipython-input-11-6d486f5ffe9b>\u001b[0m in \u001b[0;36m<module>\u001b[1;34m\u001b[0m\n\u001b[0;32m     10\u001b[0m \u001b[0mprint\u001b[0m\u001b[1;33m(\u001b[0m\u001b[1;34m\"Interaction Matrix\"\u001b[0m\u001b[1;33m)\u001b[0m\u001b[1;33m\u001b[0m\u001b[1;33m\u001b[0m\u001b[0m\n\u001b[0;32m     11\u001b[0m \u001b[0mprint\u001b[0m\u001b[1;33m(\u001b[0m\u001b[0mdep_mat\u001b[0m\u001b[1;33m)\u001b[0m\u001b[1;33m\u001b[0m\u001b[1;33m\u001b[0m\u001b[0m\n\u001b[1;32m---> 12\u001b[1;33m \u001b[0mresults\u001b[0m \u001b[1;33m=\u001b[0m \u001b[0mlearn\u001b[0m\u001b[1;33m(\u001b[0m\u001b[0mtruth_table\u001b[0m\u001b[1;33m,\u001b[0m \u001b[0mn_turns\u001b[0m\u001b[1;33m,\u001b[0m \u001b[0mlong_jump\u001b[0m\u001b[1;33m)\u001b[0m\u001b[1;33m\u001b[0m\u001b[1;33m\u001b[0m\u001b[0m\n\u001b[0m\u001b[0;32m     13\u001b[0m \u001b[0mprint\u001b[0m\u001b[1;33m(\u001b[0m\u001b[1;34m\"Learning Results\"\u001b[0m\u001b[1;33m)\u001b[0m\u001b[1;33m\u001b[0m\u001b[1;33m\u001b[0m\u001b[0m\n\u001b[0;32m     14\u001b[0m \u001b[0mprint\u001b[0m\u001b[1;33m(\u001b[0m\u001b[0mresults\u001b[0m\u001b[1;33m)\u001b[0m\u001b[1;33m\u001b[0m\u001b[1;33m\u001b[0m\u001b[0m\n",
      "\u001b[1;32m<ipython-input-10-1840b101a144>\u001b[0m in \u001b[0;36mlearn\u001b[1;34m(truth_table, n_turns, long_jump)\u001b[0m\n\u001b[0;32m      1\u001b[0m \u001b[1;32mdef\u001b[0m \u001b[0mlearn\u001b[0m\u001b[1;33m(\u001b[0m\u001b[0mtruth_table\u001b[0m\u001b[1;33m,\u001b[0m \u001b[0mn_turns\u001b[0m\u001b[1;33m,\u001b[0m \u001b[0mlong_jump\u001b[0m \u001b[1;33m=\u001b[0m \u001b[1;36m0.1\u001b[0m\u001b[1;33m)\u001b[0m\u001b[1;33m:\u001b[0m\u001b[1;33m\u001b[0m\u001b[1;33m\u001b[0m\u001b[0m\n\u001b[1;32m----> 2\u001b[1;33m     \u001b[0mstart\u001b[0m \u001b[1;33m=\u001b[0m \u001b[0mnp\u001b[0m\u001b[1;33m.\u001b[0m\u001b[0mrandom\u001b[0m\u001b[1;33m.\u001b[0m\u001b[0mchoice\u001b[0m\u001b[1;33m(\u001b[0m\u001b[0mrange\u001b[0m\u001b[1;33m(\u001b[0m\u001b[0mlen\u001b[0m\u001b[1;33m(\u001b[0m\u001b[0mtruth_table\u001b[0m\u001b[1;33m[\u001b[0m\u001b[1;34m\"policy\"\u001b[0m\u001b[1;33m]\u001b[0m\u001b[1;33m)\u001b[0m\u001b[1;33m)\u001b[0m\u001b[1;33m)\u001b[0m\u001b[1;33m\u001b[0m\u001b[1;33m\u001b[0m\u001b[0m\n\u001b[0m\u001b[0;32m      3\u001b[0m     \u001b[0mpol2\u001b[0m \u001b[1;33m=\u001b[0m \u001b[0mtruth_table\u001b[0m\u001b[1;33m[\u001b[0m\u001b[1;34m\"policy\"\u001b[0m\u001b[1;33m]\u001b[0m\u001b[1;33m[\u001b[0m\u001b[0mstart\u001b[0m\u001b[1;33m]\u001b[0m\u001b[1;33m\u001b[0m\u001b[1;33m\u001b[0m\u001b[0m\n\u001b[0;32m      4\u001b[0m     \u001b[0mpay2\u001b[0m \u001b[1;33m=\u001b[0m \u001b[0mtruth_table\u001b[0m\u001b[1;33m[\u001b[0m\u001b[1;34m\"payoff\"\u001b[0m\u001b[1;33m]\u001b[0m\u001b[1;33m[\u001b[0m\u001b[0mstart\u001b[0m\u001b[1;33m]\u001b[0m\u001b[1;33m\u001b[0m\u001b[1;33m\u001b[0m\u001b[0m\n\u001b[0;32m      5\u001b[0m     \u001b[0mdistance\u001b[0m \u001b[1;33m=\u001b[0m \u001b[0mpd\u001b[0m\u001b[1;33m.\u001b[0m\u001b[0mDataFrame\u001b[0m\u001b[1;33m(\u001b[0m\u001b[0mabs\u001b[0m\u001b[1;33m(\u001b[0m\u001b[0mpd\u001b[0m\u001b[1;33m.\u001b[0m\u001b[0mDataFrame\u001b[0m\u001b[1;33m(\u001b[0m\u001b[0mtruth_table\u001b[0m\u001b[1;33m[\u001b[0m\u001b[1;34m\"policy\"\u001b[0m\u001b[1;33m]\u001b[0m\u001b[1;33m)\u001b[0m\u001b[1;33m-\u001b[0m\u001b[0mpd\u001b[0m\u001b[1;33m.\u001b[0m\u001b[0mSeries\u001b[0m\u001b[1;33m(\u001b[0m\u001b[0mpol2\u001b[0m\u001b[1;33m)\u001b[0m\u001b[1;33m)\u001b[0m\u001b[1;33m)\u001b[0m\u001b[1;33m.\u001b[0m\u001b[0msum\u001b[0m\u001b[1;33m(\u001b[0m\u001b[0maxis\u001b[0m\u001b[1;33m=\u001b[0m\u001b[1;36m1\u001b[0m\u001b[1;33m)\u001b[0m\u001b[1;33m\u001b[0m\u001b[1;33m\u001b[0m\u001b[0m\n",
      "\u001b[1;31mKeyError\u001b[0m: 'policy'"
     ]
    }
   ],
   "source": [
    "# Run code\n",
    "n = 6\n",
    "k = 2\n",
    "n_turns = 100\n",
    "long_jump = 0.1\n",
    "dep_mat = create_dependencies(n, k)\n",
    "epis = fitness(dep_mat)\n",
    "truth_table = calc_landscape(dep_mat, epis)\n",
    "\n",
    "print(\"Interaction Matrix\")\n",
    "print(dep_mat)\n",
    "results = learn(truth_table, n_turns, long_jump)\n",
    "print(\"Learning Results\")\n",
    "print(results)\n",
    "print(\"Max pi: \"+str(max(truth_table[\"payoff\"])))\n",
    "print(\"Full Truth Table\")\n",
    "#truth_table_p\n"
   ]
  },
  {
   "cell_type": "code",
   "execution_count": 15,
   "metadata": {},
   "outputs": [
    {
     "name": "stdout",
     "output_type": "stream",
     "text": [
      "Interaction Matrix\n",
      "[[1 0 0 0 1 1]\n",
      " [0 1 1 0 0 1]\n",
      " [1 1 1 1 1 0]\n",
      " [0 1 1 1 0 0]\n",
      " [0 1 1 0 1 0]\n",
      " [0 0 1 0 0 1]]\n",
      "Sucess in iteration: 29\n",
      "Learning Results\n",
      "               policy    payoff\n",
      "0  [1, 1, 1, 1, 0, 1]  0.538505\n",
      "1  [1, 1, 1, 0, 0, 1]  0.618016\n",
      "2  [1, 1, 1, 0, 1, 1]  0.636246\n",
      "3  [0, 1, 1, 0, 1, 1]  0.642834\n",
      "4  [0, 0, 0, 1, 1, 0]  0.656523\n",
      "5  [0, 0, 0, 1, 1, 1]  0.678759\n",
      "Max pi: 0.6787585152454918\n",
      "Full Truth Table\n"
     ]
    }
   ],
   "source": [
    "import numpy as np\n",
    "import pandas as pd\n",
    "\n",
    "\n",
    "def create_dependencies(n, k):\n",
    "    prob = float(k)/(n-1)\n",
    "    dep_mat = np.zeros((n,n)).astype(int)\n",
    "    for i in range(n):\n",
    "        for j in range(n):\n",
    "            if i != j: dep_mat[i][j] = np.random.choice([1,0], p = [prob,1-prob])\n",
    "            else: dep_mat[i][i] = 1\n",
    "    return(dep_mat)\n",
    "\n",
    "def make_epistatics(dep_mat):\n",
    "    epis = []\n",
    "    for i in range(len(dep_mat)): \n",
    "        epi_key = []\n",
    "        for j in range(2**sum(dep_mat[i])): epi_key.append(bin(j))    \n",
    "        epi_val = np.random.random(2**sum(dep_mat[i]))\n",
    "        epis.append(dict(zip(epi_key,epi_val)))\n",
    "    return(epis)\n",
    "\n",
    "def transform_row(policy,dep_row):\n",
    "    interact_row = []\n",
    "    for i in range(len(policy)):\n",
    "        if dep_row[i] == 1: interact_row.append(policy[i])\n",
    "    trans_pol = 0\n",
    "    for j in reversed(range(len(interact_row))): trans_pol += (2**j)*interact_row[j]\n",
    "    return(bin(trans_pol))\n",
    "\n",
    "def transform_matrix(policy,dep_mat):\n",
    "    int_mat = []\n",
    "    for i in range(len(dep_mat)): int_mat.append(transform_row(policy,dep_mat[i]))\n",
    "    return(int_mat)\n",
    "    \n",
    "def payoff(policy,dep_mat,epis):\n",
    "    pay = 0.0\n",
    "    keys = transform_matrix(policy, dep_mat)\n",
    "    for i in range(len(policy)): pay += epis[i][keys[i]]/len(policy)\n",
    "    return(pay)\n",
    "\n",
    "def int2list(pol_int, n):\n",
    "    pol_str = bin(pol_int)\n",
    "    policy = [int(pol) for pol in pol_str[2:]]\n",
    "    if len(policy) < n: policy = [0]*(n-len(policy))+policy\n",
    "    return(policy)\n",
    "\n",
    "def calc_landscape(dep_mat, fit_con):\n",
    "    lands = {}\n",
    "    n = dep_mat.shape[0]\n",
    "    for i in range(2**n): lands[str(int2list(i,n))] = payoff(int2list(i,n), dep_mat, fit_con)\n",
    "    return(lands)\n",
    "\n",
    "def learn(truth_table, n_turns, long_jump = 0.1):\n",
    "    start = np.random.choice(range(len(truth_table[\"policy\"])))\n",
    "    pol2 = truth_table[\"policy\"][start]\n",
    "    pay2 = truth_table[\"payoff\"][start]\n",
    "    distance = pd.DataFrame(abs(pd.DataFrame(truth_table[\"policy\"])-pd.Series(pol2))).sum(axis=1)\n",
    "    neighbors_pol =  pd.Series(truth_table[\"policy\"]).loc[distance==1]\n",
    "    neighbors_pi = pd.Series(truth_table[\"payoff\"]).loc[distance==1]\n",
    "    sim_pol = [pol2]\n",
    "    sim_pay = [pay2]\n",
    "    final = n_turns\n",
    "    for iteration in range(n_turns):\n",
    "        if pay2 < max(truth_table[\"payoff\"]):\n",
    "            for trial in np.random.choice(range(len(neighbors_pi)),size=len(neighbors_pol),replace=False):\n",
    "                if pay2 < neighbors_pi.iloc[trial]:\n",
    "                    pol2 = neighbors_pol.iloc[trial]\n",
    "                    pay2 = neighbors_pi.iloc[trial]\n",
    "                    distance = pd.DataFrame(abs(pd.DataFrame(truth_table[\"policy\"])-pd.Series(pol2))).sum(axis=1)\n",
    "                    neighbors_pol =  pd.Series(truth_table[\"policy\"]).loc[distance==1]\n",
    "                    neighbors_pi = pd.Series(truth_table[\"payoff\"]).loc[distance==1]\n",
    "                    sim_pol.append(pol2)\n",
    "                    sim_pay.append(pay2)\n",
    "                    break\n",
    "            if np.random.choice([True,False], p = [long_jump,1-long_jump]):\n",
    "                lon = np.random.choice(range(len(truth_table[\"policy\"])))\n",
    "                pol3 = truth_table[\"policy\"][lon]\n",
    "                pay3 = truth_table[\"payoff\"][lon]\n",
    "                distance = pd.DataFrame(abs(pd.DataFrame(truth_table[\"policy\"])-pd.Series(pol3))).sum(axis=1)\n",
    "                neighbors_pol =  pd.Series(truth_table[\"policy\"]).loc[distance==1]\n",
    "                neighbors_pi = pd.Series(truth_table[\"payoff\"]).loc[distance==1]\n",
    "                for trial in np.random.choice(range(len(neighbors_pi)),size=len(neighbors_pol),replace=False):\n",
    "                    if max(sim_pay) < neighbors_pi.iloc[trial]:\n",
    "                        pol2 = neighbors_pol.iloc[trial]\n",
    "                        pay2 = neighbors_pi.iloc[trial]\n",
    "                        distance = pd.DataFrame(abs(pd.DataFrame(truth_table[\"policy\"])-pd.Series(pol2))).sum(axis=1)\n",
    "                        neighbors_pol =  pd.Series(truth_table[\"policy\"]).loc[distance==1]\n",
    "                        neighbors_pi = pd.Series(truth_table[\"payoff\"]).loc[distance==1]\n",
    "                        sim_pol.append(pol2)\n",
    "                        sim_pay.append(pay2)\n",
    "                        break\n",
    "                    elif pay3 > max(sim_pay):\n",
    "                        sim_pol.append(pol3)\n",
    "                        sim_pay.append(pay3)\n",
    "                        break\n",
    "        else: final = min(iteration, final)\n",
    "    if pay2 == max(truth_table[\"payoff\"]): print(\"Sucess in iteration: \" + str(final))                    \n",
    "    return(pd.DataFrame(dict(policy=sim_pol, payoff = sim_pay)))\n",
    "\n",
    "# Run code\n",
    "n = 6\n",
    "k = 2\n",
    "n_turns = 100\n",
    "long_jump = 0.1\n",
    "dep_mat = create_dependencies(n, k)\n",
    "epis = make_epistatics(dep_mat)\n",
    "\n",
    "for i in range(n):\n",
    "    pol = []\n",
    "    pay = []\n",
    "    for j in range(2**n):\n",
    "        policy = int2list(j,n)\n",
    "        pol.append(policy)\n",
    "        pay.append(payoff(policy, dep_mat, epis))\n",
    "truth_table_p = zip(range(2**n),pol,pay)\n",
    "truth_table = dict(policy=pol, payoff = pay)\n",
    "print(\"Interaction Matrix\")\n",
    "print(dep_mat)\n",
    "results = learn(truth_table, n_turns, long_jump)\n",
    "print(\"Learning Results\")\n",
    "print(results)\n",
    "print(\"Max pi: \"+str(max(truth_table[\"payoff\"])))\n",
    "print(\"Full Truth Table\")\n",
    "#truth_table_p\n"
   ]
  },
  {
   "cell_type": "code",
   "execution_count": 16,
   "metadata": {},
   "outputs": [
    {
     "data": {
      "text/plain": [
       "{'policy': [[0, 0, 0, 0, 0, 0],\n",
       "  [0, 0, 0, 0, 0, 1],\n",
       "  [0, 0, 0, 0, 1, 0],\n",
       "  [0, 0, 0, 0, 1, 1],\n",
       "  [0, 0, 0, 1, 0, 0],\n",
       "  [0, 0, 0, 1, 0, 1],\n",
       "  [0, 0, 0, 1, 1, 0],\n",
       "  [0, 0, 0, 1, 1, 1],\n",
       "  [0, 0, 1, 0, 0, 0],\n",
       "  [0, 0, 1, 0, 0, 1],\n",
       "  [0, 0, 1, 0, 1, 0],\n",
       "  [0, 0, 1, 0, 1, 1],\n",
       "  [0, 0, 1, 1, 0, 0],\n",
       "  [0, 0, 1, 1, 0, 1],\n",
       "  [0, 0, 1, 1, 1, 0],\n",
       "  [0, 0, 1, 1, 1, 1],\n",
       "  [0, 1, 0, 0, 0, 0],\n",
       "  [0, 1, 0, 0, 0, 1],\n",
       "  [0, 1, 0, 0, 1, 0],\n",
       "  [0, 1, 0, 0, 1, 1],\n",
       "  [0, 1, 0, 1, 0, 0],\n",
       "  [0, 1, 0, 1, 0, 1],\n",
       "  [0, 1, 0, 1, 1, 0],\n",
       "  [0, 1, 0, 1, 1, 1],\n",
       "  [0, 1, 1, 0, 0, 0],\n",
       "  [0, 1, 1, 0, 0, 1],\n",
       "  [0, 1, 1, 0, 1, 0],\n",
       "  [0, 1, 1, 0, 1, 1],\n",
       "  [0, 1, 1, 1, 0, 0],\n",
       "  [0, 1, 1, 1, 0, 1],\n",
       "  [0, 1, 1, 1, 1, 0],\n",
       "  [0, 1, 1, 1, 1, 1],\n",
       "  [1, 0, 0, 0, 0, 0],\n",
       "  [1, 0, 0, 0, 0, 1],\n",
       "  [1, 0, 0, 0, 1, 0],\n",
       "  [1, 0, 0, 0, 1, 1],\n",
       "  [1, 0, 0, 1, 0, 0],\n",
       "  [1, 0, 0, 1, 0, 1],\n",
       "  [1, 0, 0, 1, 1, 0],\n",
       "  [1, 0, 0, 1, 1, 1],\n",
       "  [1, 0, 1, 0, 0, 0],\n",
       "  [1, 0, 1, 0, 0, 1],\n",
       "  [1, 0, 1, 0, 1, 0],\n",
       "  [1, 0, 1, 0, 1, 1],\n",
       "  [1, 0, 1, 1, 0, 0],\n",
       "  [1, 0, 1, 1, 0, 1],\n",
       "  [1, 0, 1, 1, 1, 0],\n",
       "  [1, 0, 1, 1, 1, 1],\n",
       "  [1, 1, 0, 0, 0, 0],\n",
       "  [1, 1, 0, 0, 0, 1],\n",
       "  [1, 1, 0, 0, 1, 0],\n",
       "  [1, 1, 0, 0, 1, 1],\n",
       "  [1, 1, 0, 1, 0, 0],\n",
       "  [1, 1, 0, 1, 0, 1],\n",
       "  [1, 1, 0, 1, 1, 0],\n",
       "  [1, 1, 0, 1, 1, 1],\n",
       "  [1, 1, 1, 0, 0, 0],\n",
       "  [1, 1, 1, 0, 0, 1],\n",
       "  [1, 1, 1, 0, 1, 0],\n",
       "  [1, 1, 1, 0, 1, 1],\n",
       "  [1, 1, 1, 1, 0, 0],\n",
       "  [1, 1, 1, 1, 0, 1],\n",
       "  [1, 1, 1, 1, 1, 0],\n",
       "  [1, 1, 1, 1, 1, 1]],\n",
       " 'payoff': [0.43988198994393335,\n",
       "  0.3939729704934676,\n",
       "  0.5347558110384643,\n",
       "  0.5569916870123184,\n",
       "  0.5232054258980872,\n",
       "  0.4772964064476214,\n",
       "  0.6565226392716377,\n",
       "  0.6787585152454918,\n",
       "  0.5805075590149364,\n",
       "  0.5178095548108927,\n",
       "  0.6118012295047943,\n",
       "  0.6172481207250706,\n",
       "  0.6209338615419109,\n",
       "  0.5582358573378672,\n",
       "  0.6327166153577481,\n",
       "  0.6381635065780245,\n",
       "  0.26284033974072274,\n",
       "  0.40343529214991536,\n",
       "  0.28368544277578905,\n",
       "  0.4924252906093016,\n",
       "  0.22040548061458692,\n",
       "  0.36100043302377954,\n",
       "  0.3153228445669832,\n",
       "  0.5240626924004956,\n",
       "  0.5227249939780418,\n",
       "  0.48179167293056585,\n",
       "  0.6156219947469117,\n",
       "  0.6428335691237557,\n",
       "  0.5829703577892633,\n",
       "  0.5420370367417873,\n",
       "  0.6085686725233423,\n",
       "  0.6357802469001863,\n",
       "  0.5051734234573706,\n",
       "  0.5349307029926871,\n",
       "  0.6126409837998048,\n",
       "  0.6026758818268347,\n",
       "  0.47687891914878344,\n",
       "  0.5066361986840999,\n",
       "  0.6350856022979928,\n",
       "  0.6251205003250228,\n",
       "  0.5012031014108768,\n",
       "  0.5141713961926152,\n",
       "  0.638839862445129,\n",
       "  0.612085775718581,\n",
       "  0.5441939335900609,\n",
       "  0.5571622283717994,\n",
       "  0.5875986778972088,\n",
       "  0.5608445911706607,\n",
       "  0.2772276589342986,\n",
       "  0.49348891032927344,\n",
       "  0.2918388608941685,\n",
       "  0.4683777307808568,\n",
       "  0.2531649829168687,\n",
       "  0.46942623431184355,\n",
       "  0.31315576094124636,\n",
       "  0.4896946308279347,\n",
       "  0.5832831966356082,\n",
       "  0.6180161745739146,\n",
       "  0.6412354688396898,\n",
       "  0.6362460652697095,\n",
       "  0.5037724874046025,\n",
       "  0.5385054653429087,\n",
       "  0.6651440425331483,\n",
       "  0.660154638963168]}"
      ]
     },
     "execution_count": 16,
     "metadata": {},
     "output_type": "execute_result"
    }
   ],
   "source": [
    "truth_table"
   ]
  }
 ],
 "metadata": {
  "kernelspec": {
   "display_name": "Python 3",
   "language": "python",
   "name": "python3"
  },
  "language_info": {
   "codemirror_mode": {
    "name": "ipython",
    "version": 3
   },
   "file_extension": ".py",
   "mimetype": "text/x-python",
   "name": "python",
   "nbconvert_exporter": "python",
   "pygments_lexer": "ipython3",
   "version": "3.7.3"
  }
 },
 "nbformat": 4,
 "nbformat_minor": 2
}
