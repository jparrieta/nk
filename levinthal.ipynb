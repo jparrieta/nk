{
 "cells": [
  {
   "cell_type": "markdown",
   "metadata": {},
   "source": [
    "# Tutorial on Learning under Complexity\n",
    "\n",
    "In this tutorial, you will be introduced to a simple model that replicates the main finding from the paper by Dan Levinthal, published in 1997 in Management Science.  \n",
    "  \n",
    "This tutorial provides a barebones description of the model. If you want to explore a more flexible version or explore how different agents or bandit distributions would affect Dan's results please employ Maciej Workiewicz's code (https://www.maciejworkiewicz.com/coding). There you will find code on how to replicate also other seminal papers on NK landscapes.  \n",
    "  \n",
    "**Reference:** Levinthal, D. A. (1997). Adaptation on rugged landscapes. Management science, 43(7), 934-950."
   ]
  },
  {
   "cell_type": "markdown",
   "metadata": {},
   "source": [
    "<h1 id=\"tocheading\">Table of Contents</h1>\n",
    "<div id=\"toc\"></div>"
   ]
  },
  {
   "cell_type": "markdown",
   "metadata": {},
   "source": [
    "# Basic building blocks\n",
    "Below I introduce the code for searching in NK landscape, equivalent to the one from Levithnal (1997). It builds on two main objects, the landscape and the agent. Additionally, we need to create a function to run the simulation and a couple of miscellaneous functions to make small transformations to the code. We present each in a separate section.  \n",
    "  \n",
    "## 1. Landscape\n",
    "An NK landscape outputs a payoff value for an input policy. It is is equivalent to getting an elevation value after providing the longitude and latitude in a map. That is the reason why it is called a landscape. However, the inputs of an NK landscape are binary thus the analogy does not go to far.  \n",
    "Overall, the landscape receives a policy and outputs a payoff for this policy. The policy consists in N binary values stored as a string of 0s and 1s (e.g. '101'). The payoff depends on the value of K of the NK model. \n",
    "\n",
    "K represents the amount of interdependencies that are linked to the performance of each of the N variables. In an environment where K=0, then the performance of the policy value depends only on its own value, if 0 then x0 if 1 then x1. It does not depend on the other N-1 elements. If K > 0 then the payoff for this policy element depends on the value of some of the N-1 elements of the policy. If K = N-1 then the payoff of this policy element depends on the value of all the other N-1 policy element. The higher the K the higher the complexity of the interrelationships when calculating the performance of each policy.    \n",
    "### 1.1 Create dependencies\n",
    "The first step to create a landscape is creating the dependency matrix. Here one takes N and K and fills an N by N matrix with 1s in the diagonal and N*K 1s in the off diagonal. On each row there are on average K 1s in the off-diagonal, and always a 1 in the diagonal. \n",
    "\n",
    "### 1.2 Fitness contribution\n",
    "Having the interdependency matrix. We can create the fitness contributions. These basically determine the payoff each policy element receives. There are in total N different sets of fitness contribution functions. Each of the N sets has 2^k+1 different values for all the combinations of the policies that matter for the policy element at hand.  \n",
    "The fitness contribution is created by filling a list with N dictionaries. Each dictionary has as key value a combination of policies that affect the payoff of the policy element (e.g. '010') and as value a draw from an uniform distribution.  \n",
    "\n",
    "### 1.3 Payoff\n",
    "The fitness contributions are used to calculate the total payoff of each policy. For this we need a way of taking a policy and determining the interactions that each policy element makes in order to estimate its payoff contribution.   \n",
    "This requires several steps. Firts we need to obtain the keys for the fitness contributions. that is we take a policy (e.g. '101']) and determine for every policy element the key value for the fitness contribution.  \n",
    "  \n",
    "Let's imagine that the interdependency matrix is:  \n",
    "  \n",
    "|1 0 0|  \n",
    "|0 1 1|  \n",
    "|1 1 1|  \n",
    "\n",
    "From Levinthal (1997), we would see that the first key value is '1', the second '01', and the third '101'. In the code below, the functions transfor_matrix and transform_row are in charge of making the translation from a policy to the key values. \n",
    "  \n",
    "After having the key values, we can calculate the performance of each policy element by addressing the fitness contribution list of each element, and then averaging them. The total payoff for one fitness contribution is this average. \n",
    "\n",
    "### 1.4 Calculate landscape\n",
    "After having a function that calculate the performance of one policy we can calculate the full landscape by running a for-loop over each policy value. \n",
    "\n",
    "### 1.6 Landscape initiation\n",
    "To initiate a landscape one just needs to give the N and K value. The landscape is created with the use of the reset function.\n",
    "\n",
    "### 1.5 Reset\n",
    "The reset function creates a landscape by first building the dependency matrix, then the fitness contributions, and lastly the full-landscape from the prior two. For doing this it just requires the N and K values given at the initiation of the class. \n",
    "\n",
    "### 1.6 Summary\n",
    "The summary function outputs the maximum, minimum, and number of peaks in the landscape. "
   ]
  },
  {
   "cell_type": "code",
   "execution_count": 1,
   "metadata": {},
   "outputs": [],
   "source": [
    "import numpy as np\n",
    "import random # random.sample is 10x faster than np.random.choice!\n",
    "\n",
    "class landscape:\n",
    "    def __init__(self, n, k, land_style):\n",
    "        self.n = n\n",
    "        self.k = k\n",
    "        self.land_style = land_style\n",
    "        self.reset()\n",
    "    def calc_landscape(self):\n",
    "        land = {}\n",
    "        for i in range(2**self.n):\n",
    "            pol = int2pol(i,self.n)\n",
    "            land[pol] = self.payoff(pol)\n",
    "        self.lands = land\n",
    "    def create_dependencies(self):\n",
    "        self.dep_mat = np.zeros((self.n,self.n)).astype(int)\n",
    "        inter_row = [1]*self.k+[0]*(self.n-self.k-1) # number of off-diagonals 1s and 0s\n",
    "        if self.land_style == \"Rand_mat\": \n",
    "            inter = random.sample(inter_row*self.n, self.n*(self.n-1))\n",
    "        for i in range(self.n):\n",
    "            if self.land_style == \"Rand_row\": inter = random.sample(inter_row, self.n-1)\n",
    "            elif self.land_style == \"Levinthal\": inter = inter_row # The original order is the one from Levinthal (1997)\n",
    "            range_row = list(range(self.n))\n",
    "            range_row = range_row[i:]+range_row[:i]\n",
    "            for j in range_row:\n",
    "                if i != j: \n",
    "                    self.dep_mat[i][j] = inter[0]\n",
    "                    inter = inter[1:]\n",
    "                else: self.dep_mat[i][i] = 1\n",
    "    def fitness_contribution(self):\n",
    "        self.fit_con = []\n",
    "        for i in range(self.n):\n",
    "            if  self.land_style != \"Rand_mat\": q = self.k+1\n",
    "            elif self.land_style == \"Rand_mat\": q = sum(self.dep_mat[i])\n",
    "            self.fit_con.append({int2pol(j,q):random.random() for j in range(2**q)})\n",
    "        return(self.fit_con)\n",
    "    def payoff(self, policy):\n",
    "        keys = transform_matrix(policy, self.dep_mat)\n",
    "        pay = np.sum([self.fit_con[i][keys[i]]/self.n for i in range(self.n)])\n",
    "        return(pay)\n",
    "    def reset(self):\n",
    "        self.create_dependencies()\n",
    "        self.fitness_contribution()\n",
    "        self.calc_landscape()\n",
    "    def reset_one(self, which_pol):\n",
    "        q = sum(self.dep_mat[which_pol])\n",
    "        self.fit_con[which_pol] = {int2pol(i,q): random.random() for i in range(2**q)}\n",
    "        self.calc_landscape()        \n",
    "    def summary(self):\n",
    "        num_peaks = 0\n",
    "        for current_row in self.lands.keys():\n",
    "            counter = 1\n",
    "            for neighbor in find_neighbors(policy = current_row, randomizer = False):\n",
    "                if self.lands[current_row] < self.lands[neighbor]: \n",
    "                    counter = 0\n",
    "                    break\n",
    "            num_peaks += counter\n",
    "        return([max(self.lands.values()), min(self.lands.values()), num_peaks])"
   ]
  },
  {
   "cell_type": "markdown",
   "metadata": {},
   "source": [
    "## 2. Agents\n",
    "\n",
    "### 2.1 Initiation\n",
    "The agent is created by giving the probability of making a long jump instead of searching its neighbors, the position in the landscape the agent starts and the level of noise in its evaluation of distant positions in the landscape.  \n",
    "\n",
    "### 2.2 Search\n",
    "The search function receives a landscape and the number of periods it has to search the landscape. On every periods, it has the opportunity of making a long jump and staying in the position if it has a higher payoff or searching the neighboring positions.  \n",
    "The agent decides to move to a new position only if the payoff is higher than the current payoff. Any change of position is logged into a short log, and even if there is no change, the current position is logged into a longer log. If the global maximum is found, then the agent stores a 1 and the period when the global maximum was reached.  "
   ]
  },
  {
   "cell_type": "code",
   "execution_count": 2,
   "metadata": {},
   "outputs": [],
   "source": [
    "class agent:\n",
    "    def __init__(self, long_jump, start_pos, noise):\n",
    "        self.long_jump = long_jump\n",
    "        self.start_pos = start_pos\n",
    "        self.noise = noise\n",
    "    def search(self, lands, num_periods):\n",
    "        # Where to start?\n",
    "        if self.start_pos == \"Minimum\": current_row = min(lands, key=lands.get)\n",
    "        elif self.start_pos == \"Random\": current_row = random.sample(lands.keys(),1)[0]\n",
    "        # Initialize logs and find maximum\n",
    "        policy_short = [current_row]\n",
    "        policy_long = [current_row]\n",
    "        payoff_short = [lands[current_row]]\n",
    "        payoff_long = [lands[current_row]]\n",
    "        global_max = max(lands, key=lands.get)\n",
    "        # Start search\n",
    "        for j in range(num_periods):\n",
    "            # Local search or Jump?\n",
    "            walk_or_jump = np.random.choice([\"Walk\", \"Jump\"], p = [1-long_jump, long_jump])\n",
    "            if walk_or_jump == \"Walk\":\n",
    "                for proposed_row in find_neighbors(policy = current_row, randomizer = True):\n",
    "                    ruido = (random.random()-0.5)*self.noise # just 1 difference\n",
    "                    if lands[proposed_row] + ruido > lands[current_row]: break\n",
    "            elif walk_or_jump == \"Jump\": \n",
    "                proposed_row = random.sample(list(lands.keys()),1)[0] #could be improved not past or current\n",
    "                distance = np.sum([1*(proposed_row[i] != current_row[i]) for i in range(len(proposed_row))])\n",
    "                ruido = (random.random()-0.5)*self.noise*distance\n",
    "            # Store new position if higher\n",
    "            if lands[proposed_row] + ruido > lands[current_row]: # same ruido as before\n",
    "                current_row = proposed_row\n",
    "                policy_short.append(current_row)\n",
    "                payoff_short.append(lands[current_row])\n",
    "            policy_long.append(current_row)\n",
    "            payoff_long.append(lands[current_row])\n",
    "            # Check if search is finished\n",
    "            if current_row == global_max:\n",
    "                if j < num_periods-1: # somehow the & did not work\n",
    "                    for k in range(num_periods-j-1): \n",
    "                        policy_long.append(current_row)\n",
    "                        payoff_long.append(lands[current_row])\n",
    "                    break # stop the main for-loop after global maximum is found\n",
    "        # Store data\n",
    "        policy_short.append(global_max) # add global max for comparison later on\n",
    "        policy_long.append(global_max)\n",
    "        payoff_short.append(lands[global_max])\n",
    "        payoff_long.append(lands[global_max])\n",
    "        reached_max = 1*(current_row == global_max)\n",
    "        num_steps = len(policy_short)-1\n",
    "        num_trials = j+1\n",
    "        return([reached_max, num_steps, num_trials, [policy_short, payoff_short], [policy_long, payoff_long]])"
   ]
  },
  {
   "cell_type": "markdown",
   "metadata": {},
   "source": [
    "## 3 Miscellaneous functions  \n",
    "We need four functions that perform simple transformations to the data of the agents or the landscape.  \n",
    "  \n",
    "### 3.1 Int2Pol\n",
    "This function translates an integer value to a string of 0s and 1s. This string is made so that it has length N.\n",
    "For example 5 is translated in to '101' in the case of N=3 or '0101' in case N = 4.  "
   ]
  },
  {
   "cell_type": "code",
   "execution_count": 3,
   "metadata": {},
   "outputs": [],
   "source": [
    "def int2pol(pol_int, n):\n",
    "    pol = bin(pol_int)[2:] # removes the '0b'\n",
    "    if len(pol) < n: pol = '0'*(n-len(pol)) + pol\n",
    "    return(pol)"
   ]
  },
  {
   "cell_type": "markdown",
   "metadata": {},
   "source": [
    "### 3.2 Transform matrix\n",
    "Handles the transformation of a policy into the key values for estimating its payoff. For this it uses transform_row for every policy element. The input is an interdependency matrix and a policy and the output are the N keys for each policy element.  "
   ]
  },
  {
   "cell_type": "code",
   "execution_count": 4,
   "metadata": {},
   "outputs": [],
   "source": [
    "def transform_matrix(policy, dep_mat):\n",
    "    int_mat = [transform_row(policy, dep_mat[i]) for i in range(len(dep_mat))]\n",
    "    return(int_mat)"
   ]
  },
  {
   "cell_type": "markdown",
   "metadata": {},
   "source": [
    "### 3.3 Transform row\n",
    "Uses the policy and interacts it with a row of the dependency matrix. The length of the output depends on the number of 1s in the row of the interdependency matrix. For example if the policy is '101' and the row is [0,1,1] then the output is '01'. If the row was [1,0,0] then the output would be '1'.  \n",
    "This transformation gives always the same value and thus can be used with the fitness contribution to estimate the payoff for each policy element.  "
   ]
  },
  {
   "cell_type": "code",
   "execution_count": 5,
   "metadata": {},
   "outputs": [],
   "source": [
    "def transform_row(policy, dep_row):\n",
    "    interact_row = [policy[i] for i in range(len(policy)) if dep_row[i] == 1]\n",
    "    trans_pol = ''\n",
    "    for pol_i in interact_row: trans_pol += pol_i\n",
    "    return(trans_pol)"
   ]
  },
  {
   "cell_type": "markdown",
   "metadata": {},
   "source": [
    "### 3.4 Find neighbors\n",
    "The main form of movement for the agent is local search. This implies moving to each neighboring position and staying in the first that gives a higher payoff. In order to do this the agent needs to find its neighbors. This can be done in several ways, here what we do is to morph the current position by flipping one policy element and storing it as a neighbor. We do this for every policy element to make a list of neighbors. We randomize the order of neighbors to avoid bias and use this for local search.  "
   ]
  },
  {
   "cell_type": "code",
   "execution_count": 6,
   "metadata": {},
   "outputs": [],
   "source": [
    "def find_neighbors(policy, randomizer):\n",
    "    neighbors = []\n",
    "    n = len(policy)\n",
    "    if randomizer: random_order = random.sample(range(n), n)\n",
    "    else: random_order = range(n)\n",
    "    for i in random_order:\n",
    "        neighbor = list(policy)\n",
    "        if policy[i] == '1': neighbor[i] = '0'\n",
    "        else: neighbor[i] = '1'\n",
    "        neighbors.append(''.join(neighbor))\n",
    "    return(neighbors)"
   ]
  },
  {
   "cell_type": "markdown",
   "metadata": {},
   "source": [
    "## 4. Run simulation\n",
    "Having the agent and the landscape it is turn to define the simulation. For this we define a class that holds the different types of simulations to run. The class takes a landscape when initialized and will reset it when needed.\n",
    "  \n",
    "### 4.1 Describe\n",
    "This function creates a given number of landscapes and describes the maximum, minimum, and number of peaks they have.  \n",
    "  \n",
    "### 4.2 Search\n",
    "This function has multiple agents serching the landscape and repeats this process with multiple landscapes. It takes four attributes, the number of landscapes to simulate, the number of agents that search each landscape and the number of periods each agent has to learn. The last parameter it takes is the Agent class itself. The simulation is ran by running a for-loop over every landscape and calling the search lanscape function for every landscape. After the search landscape is finished the data is stored and a new landscape is generated. \n",
    "  \n",
    "### 4.3 Search landscape\n",
    "This function takes three attributes, an Agent class, the number of times the agent needs to search the landscape and the number of periods the agent has to search. It stores five variables. The number of time the global maximum is reached, the number of steps to reach the maximum, the number of trials before reaching the maximum, the average payoff on every period and the number of differnt configurations on every period.  "
   ]
  },
  {
   "cell_type": "code",
   "execution_count": 7,
   "metadata": {},
   "outputs": [],
   "source": [
    "class run_simulation:\n",
    "    def __init__(self, Environment):\n",
    "        self.Env = Environment\n",
    "    def describe(self, num_reps):\n",
    "        all_max = []\n",
    "        all_min = []\n",
    "        all_num_peaks = []\n",
    "        for i in range(num_reps): \n",
    "            self.Env.reset()\n",
    "            max_val, min_val, peaks = self.Env.summary()\n",
    "            all_max.append(max_val)\n",
    "            all_min.append(min_val)\n",
    "            all_num_peaks.append(peaks)\n",
    "        return([all_max, all_min, all_num_peaks])\n",
    "    def search(self, num_lands, num_agents, num_periods, Alice):\n",
    "        all_reached_max = []\n",
    "        all_num_steps = []\n",
    "        all_num_trials = []\n",
    "        all_payoffs = np.zeros(num_periods+2)\n",
    "        all_choices = np.zeros(num_periods+2)\n",
    "        for i in range(num_lands):\n",
    "            self.Env.reset()\n",
    "            data_landscape = self.search_landscape(num_agents, num_periods, Alice)\n",
    "            all_reached_max.append(data_landscape[0])\n",
    "            all_num_steps.append(data_landscape[1])\n",
    "            all_num_trials.append(data_landscape[2])\n",
    "            all_payoffs = np.add(all_payoffs, data_landscape[3])\n",
    "            all_choices = np.add(all_choices, data_landscape[4])\n",
    "        return([all_reached_max, all_num_steps, all_num_trials, all_payoffs, all_choices])\n",
    "    def search_landscape(self, num_agents, num_periods, Alice):\n",
    "        reached_max = 0\n",
    "        num_steps = 0\n",
    "        num_trials = 0\n",
    "        payoffs = np.zeros(num_periods+2)\n",
    "        choices = []\n",
    "        policies = []\n",
    "        for i in range(num_agents):\n",
    "            search_data = Alice.search(lands = self.Env.lands, num_periods = num_periods)\n",
    "            reached_max += search_data[0]\n",
    "            num_steps += search_data[1]\n",
    "            num_trials += search_data[2]\n",
    "            payoffs = np.add(payoffs, search_data[4][1])\n",
    "            policies.append(search_data[4][0]) \n",
    "        for j in range(num_periods + 2):\n",
    "            diff_forms = set([choice_list[j] for choice_list in policies]) # store all different forms of one period\n",
    "            choices.append(len(diff_forms)) # count number of different forms\n",
    "        return([reached_max, num_steps, num_trials, payoffs, choices])"
   ]
  },
  {
   "cell_type": "markdown",
   "metadata": {},
   "source": [
    "# Levinthal (1997)\n",
    "Below we run the simulation once and show the steps followed by one agent while searching the landscape. \n",
    "  \n",
    "## 1. Initialize values"
   ]
  },
  {
   "cell_type": "code",
   "execution_count": 8,
   "metadata": {},
   "outputs": [],
   "source": [
    "# Simulation\n",
    "num_periods = 50\n",
    "num_agents = 100\n",
    "num_lands = 100\n",
    "num_reps = 500\n",
    "# Agent\n",
    "long_jump = 0.1\n",
    "noise = 0.0 # no noise 0.0, low noise 0.01, high noise 0.025\n",
    "start_pos = \"Random\" # \"Minimum\", \"Random\"\n",
    "# Landscape\n",
    "n = 10\n",
    "k = 1\n",
    "land_style = \"Rand_row\" # \"Levinthal\", \"Rand_mat\", \"Rand_row\""
   ]
  },
  {
   "cell_type": "markdown",
   "metadata": {},
   "source": [
    "## 2. Initialize agent and landscape"
   ]
  },
  {
   "cell_type": "code",
   "execution_count": 9,
   "metadata": {},
   "outputs": [],
   "source": [
    "Environment = landscape(n,k, land_style)    \n",
    "Alice = agent(long_jump = long_jump, start_pos = start_pos, noise = noise)\n",
    "Simulation = run_simulation(Environment)"
   ]
  },
  {
   "cell_type": "markdown",
   "metadata": {},
   "source": [
    "## 3. Run simple search\n",
    "Below we show one search of the environment and the short output of the search"
   ]
  },
  {
   "cell_type": "code",
   "execution_count": 10,
   "metadata": {},
   "outputs": [
    {
     "data": {
      "text/html": [
       "<div>\n",
       "<style scoped>\n",
       "    .dataframe tbody tr th:only-of-type {\n",
       "        vertical-align: middle;\n",
       "    }\n",
       "\n",
       "    .dataframe tbody tr th {\n",
       "        vertical-align: top;\n",
       "    }\n",
       "\n",
       "    .dataframe thead th {\n",
       "        text-align: right;\n",
       "    }\n",
       "</style>\n",
       "<table border=\"1\" class=\"dataframe\">\n",
       "  <thead>\n",
       "    <tr style=\"text-align: right;\">\n",
       "      <th></th>\n",
       "      <th>policy</th>\n",
       "      <th>payoff</th>\n",
       "    </tr>\n",
       "  </thead>\n",
       "  <tbody>\n",
       "    <tr>\n",
       "      <th>0</th>\n",
       "      <td>0100110100</td>\n",
       "      <td>0.524725</td>\n",
       "    </tr>\n",
       "    <tr>\n",
       "      <th>1</th>\n",
       "      <td>0000110100</td>\n",
       "      <td>0.554855</td>\n",
       "    </tr>\n",
       "    <tr>\n",
       "      <th>2</th>\n",
       "      <td>0000110101</td>\n",
       "      <td>0.571706</td>\n",
       "    </tr>\n",
       "    <tr>\n",
       "      <th>3</th>\n",
       "      <td>0000110001</td>\n",
       "      <td>0.604768</td>\n",
       "    </tr>\n",
       "    <tr>\n",
       "      <th>4</th>\n",
       "      <td>0001110001</td>\n",
       "      <td>0.620228</td>\n",
       "    </tr>\n",
       "    <tr>\n",
       "      <th>5</th>\n",
       "      <td>0101110001</td>\n",
       "      <td>0.638504</td>\n",
       "    </tr>\n",
       "    <tr>\n",
       "      <th>6</th>\n",
       "      <td>0111110000</td>\n",
       "      <td>0.644271</td>\n",
       "    </tr>\n",
       "  </tbody>\n",
       "</table>\n",
       "</div>"
      ],
      "text/plain": [
       "       policy    payoff\n",
       "0  0100110100  0.524725\n",
       "1  0000110100  0.554855\n",
       "2  0000110101  0.571706\n",
       "3  0000110001  0.604768\n",
       "4  0001110001  0.620228\n",
       "5  0101110001  0.638504\n",
       "6  0111110000  0.644271"
      ]
     },
     "execution_count": 10,
     "metadata": {},
     "output_type": "execute_result"
    }
   ],
   "source": [
    "import pandas as pd \n",
    "reached_max, n_step, n_trial, output_short, output_long = Alice.search(Environment.lands, num_periods)\n",
    "pd.DataFrame({'policy': output_short[0], 'payoff': output_short[1]})"
   ]
  },
  {
   "cell_type": "markdown",
   "metadata": {},
   "source": [
    "## 4. Run simulation\n",
    "Additionally we run a simulation 1000 times to show the average form in which the agents explore the landscape. We print the percentage of times it reaches the global maximum, the number of movements done before the total number of periods were reached, the number of periods needed to find the maximum, and the time required to make the simulation. On average 50% of the agents reached the global maximum and they reached it around period 36. "
   ]
  },
  {
   "cell_type": "code",
   "execution_count": 11,
   "metadata": {
    "scrolled": false
   },
   "outputs": [
    {
     "name": "stdout",
     "output_type": "stream",
     "text": [
      "% of time global max is reached: 49.82\n",
      "# of steps from start: 5.9597\n",
      "# of periods to find global max: 28.3544\n",
      "Computation time: 25.06 s\n"
     ]
    }
   ],
   "source": [
    "import time\n",
    "start_time = time.time()\n",
    "reached_max, num_steps, num_trials, payoffs, choices = Simulation.search(num_lands, num_agents, num_periods, Alice)\n",
    "print(\"% of time global max is reached: \" + str(100*sum(reached_max)/(num_agents*num_lands)))\n",
    "print(\"# of steps from start: \" + str(sum(num_steps)/(num_agents*num_lands)))\n",
    "print(\"# of periods to find global max: \" + str(sum(num_trials)/(num_agents*num_lands)))\n",
    "print(\"Computation time: \" + str(round(time.time()-start_time,2)) + \" s\")"
   ]
  },
  {
   "cell_type": "markdown",
   "metadata": {},
   "source": [
    "### 4.1 Number of organizational forms\n",
    "We can now plot the number of different solutions the agents go to on every period."
   ]
  },
  {
   "cell_type": "code",
   "execution_count": 12,
   "metadata": {},
   "outputs": [
    {
     "data": {
      "text/plain": [
       "<matplotlib.collections.PathCollection at 0xf9776e8630>"
      ]
     },
     "execution_count": 12,
     "metadata": {},
     "output_type": "execute_result"
    },
    {
     "data": {
      "image/png": "[encoded data removed]",
      "text/plain": [
       "<Figure size 432x288 with 1 Axes>"
      ]
     },
     "metadata": {
      "needs_background": "light"
     },
     "output_type": "display_data"
    }
   ],
   "source": [
    "import matplotlib.pyplot as plt\n",
    "plt.scatter(range(num_periods+2), 100*choices[:num_periods+2]/(num_lands*num_agents))"
   ]
  },
  {
   "cell_type": "markdown",
   "metadata": {},
   "source": [
    "### 4.2 Performance over time\n",
    "We also plot the growth in payoff as the agents search the landscape. The last value is the average of the global maxima. Clearly, the search process is still distante to reaching the highest peak on every search ocassion. "
   ]
  },
  {
   "cell_type": "code",
   "execution_count": 13,
   "metadata": {},
   "outputs": [
    {
     "data": {
      "text/plain": [
       "<matplotlib.collections.PathCollection at 0xf9779e9860>"
      ]
     },
     "execution_count": 13,
     "metadata": {},
     "output_type": "execute_result"
    },
    {
     "data": {
      "image/png": "[encoded data removed]",
      "text/plain": [
       "<Figure size 432x288 with 1 Axes>"
      ]
     },
     "metadata": {
      "needs_background": "light"
     },
     "output_type": "display_data"
    }
   ],
   "source": [
    "plt.scatter(range(num_periods+2), payoffs[:num_periods+2]/(num_lands*num_agents))"
   ]
  },
  {
   "cell_type": "markdown",
   "metadata": {},
   "source": [
    "## 5. Landscape descriptives  \n",
    "\n",
    "Finally we create 500 landscapes and see their characteristics. Although making 1000 landscapes takes around 3 seconds, estimating their characteristics takes one order of magnitude longer. This is not a crucial step so I have not optimized it, yet."
   ]
  },
  {
   "cell_type": "code",
   "execution_count": 14,
   "metadata": {
    "scrolled": true
   },
   "outputs": [
    {
     "name": "stdout",
     "output_type": "stream",
     "text": [
      "Computation time: 36.24 s\n"
     ]
    }
   ],
   "source": [
    "start_time = time.time()\n",
    "all_max, all_min, all_num_peaks = Simulation.describe(num_reps)\n",
    "print(\"Computation time: \"+ str(round(time.time()-start_time, 2)) + \" s\")"
   ]
  },
  {
   "cell_type": "code",
   "execution_count": 15,
   "metadata": {},
   "outputs": [
    {
     "data": {
      "text/plain": [
       "(array([  7.,  24.,  47.,  98., 102., 104.,  65.,  37.,  13.,   3.]),\n",
       " array([0.13378857, 0.16521702, 0.19664547, 0.22807392, 0.25950237,\n",
       "        0.29093082, 0.32235927, 0.35378772, 0.38521618, 0.41664463,\n",
       "        0.44807308]),\n",
       " <a list of 10 Patch objects>)"
      ]
     },
     "execution_count": 15,
     "metadata": {},
     "output_type": "execute_result"
    },
    {
     "data": {
      "image/png": "[encoded data removed]",
      "text/plain": [
       "<Figure size 432x288 with 1 Axes>"
      ]
     },
     "metadata": {
      "needs_background": "light"
     },
     "output_type": "display_data"
    }
   ],
   "source": [
    "plt.hist(all_min)"
   ]
  },
  {
   "cell_type": "code",
   "execution_count": 16,
   "metadata": {},
   "outputs": [
    {
     "data": {
      "text/plain": [
       "(array([  4.,   8.,  40.,  75.,  90., 127.,  89.,  42.,  19.,   6.]),\n",
       " array([0.52990894, 0.56504259, 0.60017623, 0.63530988, 0.67044352,\n",
       "        0.70557717, 0.74071082, 0.77584446, 0.81097811, 0.84611175,\n",
       "        0.8812454 ]),\n",
       " <a list of 10 Patch objects>)"
      ]
     },
     "execution_count": 16,
     "metadata": {},
     "output_type": "execute_result"
    },
    {
     "data": {
      "image/png": "[encoded data removed]",
      "text/plain": [
       "<Figure size 432x288 with 1 Axes>"
      ]
     },
     "metadata": {
      "needs_background": "light"
     },
     "output_type": "display_data"
    }
   ],
   "source": [
    "plt.hist(all_max)"
   ]
  },
  {
   "cell_type": "code",
   "execution_count": 17,
   "metadata": {},
   "outputs": [
    {
     "data": {
      "text/plain": [
       "(array([214.,  57., 148.,  38.,  33.,   3.,   4.,   1.,   0.,   2.]),\n",
       " array([ 1. ,  2.5,  4. ,  5.5,  7. ,  8.5, 10. , 11.5, 13. , 14.5, 16. ]),\n",
       " <a list of 10 Patch objects>)"
      ]
     },
     "execution_count": 17,
     "metadata": {},
     "output_type": "execute_result"
    },
    {
     "data": {
      "image/png": "[encoded data removed]",
      "text/plain": [
       "<Figure size 432x288 with 1 Axes>"
      ]
     },
     "metadata": {
      "needs_background": "light"
     },
     "output_type": "display_data"
    }
   ],
   "source": [
    "plt.hist(all_num_peaks)"
   ]
  },
  {
   "cell_type": "markdown",
   "metadata": {},
   "source": [
    "Levinthal (1997) includes more analyzes in specific on competition dynamics. This tutorial does not include them. Competition is a more general process. The main theoretical contribution of Levinthal (1997) was the introduction of NK models and that is what this tutorial presents. \n",
    "\n",
    "**Note:** The code below produced the table of contents."
   ]
  },
  {
   "cell_type": "code",
   "execution_count": 18,
   "metadata": {},
   "outputs": [
    {
     "data": {
      "application/javascript": [
       "$.getScript('https://kmahelona.github.io/ipython_notebook_goodies/ipython_notebook_toc.js')\n"
      ],
      "text/plain": [
       "<IPython.core.display.Javascript object>"
      ]
     },
     "metadata": {},
     "output_type": "display_data"
    }
   ],
   "source": [
    "%%javascript\n",
    "$.getScript('https://kmahelona.github.io/ipython_notebook_goodies/ipython_notebook_toc.js')"
   ]
  }
 ],
 "metadata": {
  "kernelspec": {
   "display_name": "Python 3",
   "language": "python",
   "name": "python3"
  },
  "language_info": {
   "codemirror_mode": {
    "name": "ipython",
    "version": 3
   },
   "file_extension": ".py",
   "mimetype": "text/x-python",
   "name": "python",
   "nbconvert_exporter": "python",
   "pygments_lexer": "ipython3",
   "version": "3.7.3"
  }
 },
 "nbformat": 4,
 "nbformat_minor": 2
}
