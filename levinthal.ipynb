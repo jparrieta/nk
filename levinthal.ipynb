{
 "cells": [
  {
   "cell_type": "markdown",
   "metadata": {},
   "source": [
    "# Tutorial on Learning under Complexity\n",
    "\n",
    "In this tutorial, you will be introduced to a simple model that replicates the main finding from the paper by Dan Levinthal, published in 1997 in Management Science. \n",
    "\n",
    "This tutorial provides a barebones description of the model. If you want to explore a more flexible version or explore how different agents or bandit distributions would affect Dan's results please employ Maciej Workiewicz's code (https://www.maciejworkiewicz.com/coding). There you will find code on how to replicate also other seminal papers on NK landscapes.\n",
    "\n",
    "**Reference:** Levinthal, D. A. (1997). Adaptation on rugged landscapes. Management science, 43(7), 934-950."
   ]
  },
  {
   "cell_type": "markdown",
   "metadata": {},
   "source": [
    "<h1 id=\"tocheading\">Table of Contents</h1>\n",
    "<div id=\"toc\"></div>"
   ]
  },
  {
   "cell_type": "markdown",
   "metadata": {},
   "source": [
    "# Basic building blocks\n",
    "Below I introduce the code for searching in NK landscape, equivalent to the one from Levithnal (1997)\n",
    "For this I create a agent class. The agent is very simple, it just knows the percentage of time it can make a long jump. \n",
    "Levinthal includes other aspects like myopia but this is not in the code at the moment. \n",
    "\n",
    "## 1. Landscape\n",
    "An NK landscape outputs a payoff value for an input policy. It is is equivalent to getting an elevation value after providing the longitude and latitude in a map. That is the reason why it is called a landscape. However, the inputs of an NK landscape are binary thus the analogy does not go to far.  \n",
    "Overall, the landscape receives a policy and outputs a payoff for this policy. The policy consists in N binary values stored as a string of 0s and 1s (e.g. '101'). The payoff depends on the value of K of the NK model. \n",
    "\n",
    "K represents the amount of interdependencies that are linked to the performance of each of the N variables. In an environment where K=0, then the performance of the policy value depends only on its own value, if 0 then x0 if 1 then x1. It does not depend on the other N-1 elements. If K > 0 then the payoff for this policy element depends on the value of some of the N-1 elements of the policy. If K = N-1 then the payoff of this policy element depends on the value of all the other N-1 policy element. The higher the K the higher the complexity of the interrelationships when calculating the performance of each policy.    \n",
    "### 1.1 Create dependencies\n",
    "The first step to create a landscape is creating the dependency matrix. Here one takes N and K and fills an N by N matrix with 1s in the diagonal and N*K 1s in the off diagonal. On each row there are on average K 1s in the off-diagonal, and always a 1 in the diagonal. \n",
    "\n",
    "### 1.2 Fitness contribution\n",
    "Having the interdependency matrix. We can create the fitness contributions. These basically determine the payoff each policy element receives. There are in total N different sets of fitness contribution functions. Each of the N sets has 2^k+1 different values for all the combinations of the policies that matter for the policy element at hand.  \n",
    "The fitness contribution is created by filling a list with N dictionaries. Each dictionary has as key value a combination of policies that affect the payoff of the policy element (e.g. '010') and as value a draw from an uniform distribution.  \n",
    "\n",
    "### 1.3 Payoff\n",
    "The fitness contributions are used to calculate the total payoff of each policy. For this we need a way of taking a policy and determining the interactions that each policy element makes in order to estimate its payoff contribution.   \n",
    "This requires several steps. Firts we need to obtain the keys for the fitness contributions. that is we take a policy (e.g. '101']) and determine for every policy element the key value for the fitness contribution.  \n",
    "  \n",
    "Let's imagine that the interdependency matrix is:  \n",
    "  \n",
    "|1 0 0|  \n",
    "|0 1 1|  \n",
    "|1 1 1|  \n",
    "\n",
    "From Levinthal (1997), we would see that the first key value is '1', the second '01', and the third '101'. In the code below, the functions transfor_matrix and transform_row are in charge of making the translation from a policy to the key values. \n",
    "  \n",
    "After having the key values, we can calculate the performance of each policy element by addressing the fitness contribution list of each element, and then averaging them. The total payoff for one fitness contribution is this average. \n",
    "\n",
    "### 1.4 Calculate landscape\n",
    "After having a function that calculate the performance of one policy we can calculate the full landscape by running a for-loop over each policy value. \n",
    "\n",
    "### 1.6 Landscape initiation\n",
    "To initiate a landscape one just needs to give the N and K value. The landscape is created with the use of the reset function.\n",
    "\n",
    "### 1.5 Reset\n",
    "The reset function creates a landscape by first building the dependency matrix, then the fitness contributions, and lastly the full-landscape from the prior two. For doing this it just requires the N and K values given at the initiation of the class. \n",
    "\n",
    "### 1.6 Summary\n",
    "The summary function outputs the maximum, minimum, and number of peaks in the landscape. \n",
    "\n",
    "### 1.7 Miscellaneous functions  \n",
    "#### 1.7.1 Int2Pol\n",
    "This function translates an integer value to a string of 0s and 1s. This string is made so that it has length N.\n",
    "For example 5 is translated in to '101' in the case of N=3 or '0101' in case N = 4\n",
    "\n",
    "#### 1.7.2 Transform matrix\n",
    "Handles the transformation of a policy into the key values for estimating its payoff. For this it uses transform_row for every policy element. \n",
    "\n",
    "#### 1.7.3 Transform row\n",
    "Uses the policy and interacts it with a row of the dependency matrix. The length of the output depends on the number of 1s in the row of the interdependency matrix. For example if the policy is '101' and the row is [0,1,1] then the output is '01'. If the row was [1,0,0] then the output would be '1'.   \n",
    "This transformation gives always the same value and thus can be used with the fitness contribution to estimate the payoff for each policy element."
   ]
  },
  {
   "cell_type": "code",
   "execution_count": 1,
   "metadata": {},
   "outputs": [],
   "source": [
    "import numpy as np\n",
    "import pandas as pd # used only for storage\n",
    "import matplotlib.pyplot as plt\n",
    "\n",
    "def int2pol(pol_int, n):\n",
    "    pol = bin(pol_int)\n",
    "    pol = pol[2:] # removes the '0b'\n",
    "    if len(pol) < n: pol = '0'*(n-len(pol)) + pol\n",
    "    return(pol)\n",
    "\n",
    "def transform_matrix(policy, dep_mat):\n",
    "    int_mat = [transform_row(policy, dep_mat[i]) for i in range(len(dep_mat))]\n",
    "    return(int_mat)\n",
    "\n",
    "def transform_row(policy, dep_row):\n",
    "    interact_row = [policy[i] for i in range(len(policy)) if dep_row[i] == 1]\n",
    "    trans_pol = ''\n",
    "    for pol_i in interact_row: trans_pol += pol_i\n",
    "    return(trans_pol)\n",
    "\n",
    "class landscape:\n",
    "    def __init__(self, n, k, land_style):\n",
    "        self.n = n\n",
    "        self.k = k\n",
    "        self.land_style = land_style\n",
    "        self.reset()\n",
    "    def calc_landscape(self):\n",
    "        land = {}\n",
    "        for i in range(2**self.n):\n",
    "            pol = int2pol(i,self.n)\n",
    "            land[pol] = self.payoff(pol)\n",
    "        self.lands = land\n",
    "    def create_dependencies(self):\n",
    "        self.dep_mat = np.zeros((self.n,self.n)).astype(int)\n",
    "        if self.land_style == \"Rand_mat\": \n",
    "            inter = np.random.choice([1]*self.k*self.n+[0]*(self.n-self.k-1)*self.n, replace = False, size = self.n*(self.n-1))\n",
    "        for i in range(self.n):\n",
    "            if self.land_style == \"Rand_row\": \n",
    "                inter = np.random.choice([1]*self.k+[0]*(self.n-self.k-1), replace = False, size = (self.n-1))\n",
    "            elif self.land_style == \"Levinthal\": inter = ([1]*self.k+[0]*(self.n-self.k-1))\n",
    "            range_row = list(range(self.n)[i:])+list(range(self.n)[:i])\n",
    "            for j in range_row:\n",
    "                if i != j: \n",
    "                    self.dep_mat[i][j] = inter[0]\n",
    "                    inter = inter[1:]\n",
    "                else: self.dep_mat[i][i] = 1\n",
    "    def fitness_contribution(self):\n",
    "        self.fit_con = []\n",
    "        for i in range(self.n): \n",
    "            epi_row = {int2pol(j,sum(self.dep_mat[i])): np.random.random() \n",
    "                       for j in range(2**sum(self.dep_mat[i]))}\n",
    "            self.fit_con.append(epi_row)\n",
    "    def payoff(self, policy):\n",
    "        keys = transform_matrix(policy, self.dep_mat)\n",
    "        pay = np.sum([self.fit_con[i][keys[i]]/len(policy) for i in range(len(policy))])\n",
    "        return(pay)\n",
    "    def reset(self):\n",
    "        self.create_dependencies()\n",
    "        self.fitness_contribution()\n",
    "        self.calc_landscape()\n",
    "    def reset_one(which_pol):\n",
    "        self.fit_con[which_pol] = {int2pol(i,sum(self.dep_mat[which_pol])): np.random.random() \n",
    "                                   for i in range(2**sum(self.dep_mat[which_pol]))}\n",
    "        self.calc_landscape()        \n",
    "    def summary(self):\n",
    "        max_global = max(self.lands.values())\n",
    "        min_global = min(self.lands.values())\n",
    "        num_peaks = 0\n",
    "        for current_row in self.lands.keys():\n",
    "            randomized_neighbors = find_neighbors(current_row)\n",
    "            counter = 0\n",
    "            for neighbor in randomized_neighbors:\n",
    "                if self.lands[current_row] < self.lands[neighbor]: counter += 1\n",
    "            if counter == 0: num_peaks += 1\n",
    "        return([max_global, min_global, num_peaks])"
   ]
  },
  {
   "cell_type": "markdown",
   "metadata": {},
   "source": [
    "## 2. Agents\n",
    "\n",
    "### 2.1 Initiation\n",
    "The agent is created by giving the probability of making a long jump instead of searching its neighbors. Everything else is done through its search function.\n",
    "\n",
    "### 2.2 Search\n",
    "The search function receives a landscape and the number of periods it has to search the landscape. On every periods, it has the opportunity of making a long jump and staying in the position if it has a higher payoff or searching the neighboring positions.  \n",
    "The agent decides to move to a new position only if the payoff is higher than the current payoff. Any change of position is logged into a short log, and even if there is no change, the current position is logged into a longer log. If the global maximum is found, then the agent stores a 1 and the period when the global maximum was reached.  \n",
    "\n",
    "### 2.3 Find neighbors\n",
    "The main form of movement for the agent is local search. This implies moving to each neighboring position and staying in the first that gives a higher payoff. In order to do this the agent needs to find its neighbors. This can be done in several ways, here what we do is to morph the current position by flipping one policy element and storing it as a neighbor. We do this for every policy element to make a list of neighbors. We randomize the order of neighbors to avoid bias and use this for local search. \n",
    "\n"
   ]
  },
  {
   "cell_type": "code",
   "execution_count": 2,
   "metadata": {},
   "outputs": [],
   "source": [
    "def find_neighbors(policy):\n",
    "    policy = (policy) #policy changed \n",
    "    neighbors = []\n",
    "    random_order = np.random.choice(range(len(policy)), replace = False, size = len(policy))\n",
    "    for i in random_order:\n",
    "        neighbor = list(policy)\n",
    "        if policy[i] == '1': neighbor[i] = '0'\n",
    "        else: neighbor[i] = '1'\n",
    "        neighbors.append(''.join(neighbor))\n",
    "    return(neighbors)\n",
    "\n",
    "class agent:\n",
    "    def __init__(self, long_jump, start_pos, noise):\n",
    "        self.long_jump = long_jump\n",
    "        self.start_pos = start_pos\n",
    "        self.noise = noise\n",
    "    def search(self, lands, num_periods):\n",
    "        # Where to start?\n",
    "        if self.start_pos == \"Minimum\": current_row = min(lands, key=lands.get)\n",
    "        elif self.start_pos == \"Random\": current_row = np.random.choice(list(lands.keys()))\n",
    "        # Initialize logs and find maximum\n",
    "        global_max = max(lands, key=lands.get)\n",
    "        log_short = [{\"policy\":current_row, \"payoff\":lands[current_row]}]\n",
    "        log_long = [{\"policy\":current_row, \"payoff\":lands[current_row]}]\n",
    "        # Start search\n",
    "        for j in range(num_periods):\n",
    "            # Local search or Jump?\n",
    "            walk_or_jump = np.random.choice([\"Walk\", \"Jump\"], p = [1-long_jump, long_jump])\n",
    "            if walk_or_jump == \"Walk\":\n",
    "                randomized_neighbors = find_neighbors(current_row)\n",
    "                for proposed_row in randomized_neighbors:\n",
    "                    ruido = (np.random.random()-0.5)*self.noise # just 1 difference\n",
    "                    if lands[proposed_row] + ruido > lands[current_row]: break\n",
    "            elif walk_or_jump == \"Jump\": \n",
    "                proposed_row = np.random.choice(list(lands.keys())) #could be improved not past or current\n",
    "                ruido = (np.random.random()-0.5)*self.noise*np.sum([1*(proposed_row[i] != current_row[i]) \n",
    "                                                                    for i in range(len(proposed_row))])\n",
    "            # Store new position if higher\n",
    "            if lands[proposed_row] + ruido > lands[current_row]:\n",
    "                current_row = proposed_row\n",
    "                log_short.append({\"policy\":current_row, \"payoff\": lands[current_row]}) #stores changes\n",
    "            log_long.append({\"policy\":current_row, \"payoff\": lands[current_row]}) #stores every period\n",
    "            # Check if search is finished\n",
    "            if current_row == global_max:\n",
    "                if j < num_periods-1: # somehow the & did not work\n",
    "                    for k in range(num_periods-j-1): \n",
    "                        log_long.append({\"policy\":current_row, \"payoff\": lands[current_row]}) # fill after maximum is found\n",
    "                    break # stop the main for-loop after global maximum is found\n",
    "        # Store data\n",
    "        log_short.append({\"policy\":global_max, \"payoff\": lands[global_max]}) # add global max for comparison later on\n",
    "        log_long.append({\"policy\":global_max, \"payoff\": lands[global_max]}) # add global max for comparison later on\n",
    "        reached_max = 1*(current_row == global_max)\n",
    "        return([reached_max, len(log_short)-1, j, pd.DataFrame(log_short), pd.DataFrame(log_long)])"
   ]
  },
  {
   "cell_type": "markdown",
   "metadata": {},
   "source": [
    "## 3. Run Simulation\n",
    "Having the agent and the landscape it is turn to perform the simulation. For this we use a function. This function takes the nubmer of repetitions, the number periods to simulate and the Agent and Landscape. The ismulation has two loops. One has the multiple agents searching in the same landscape and the other changes the landscape. At the end it outputs, the number of times the agents found the global maximum, the number of movements the agent did, the average periods when the maximum was reached, an array with the average payoffs received on every period, and an array of the variety of organizational forms at every period. "
   ]
  },
  {
   "cell_type": "code",
   "execution_count": 3,
   "metadata": {},
   "outputs": [],
   "source": [
    "def run_simulation(num_lands, num_reps, num_periods, Alice, Environment):\n",
    "    all_reached_max = []\n",
    "    all_num_steps = []\n",
    "    all_num_trials = []\n",
    "    all_payoffs = np.zeros(num_periods+2)\n",
    "    all_choices = np.zeros(num_periods+2)\n",
    "    for i in range(num_lands):\n",
    "        int_reached_max = 0\n",
    "        int_num_steps = 0\n",
    "        int_num_trials = 0\n",
    "        int_policy = []\n",
    "        Environment.reset()\n",
    "        for j in range(num_reps):\n",
    "            reached_max, n_step, n_trial, o_short, o_long = Alice.search(lands = Environment.lands, num_periods = num_periods)\n",
    "            int_reached_max += reached_max\n",
    "            int_num_steps += n_step\n",
    "            int_num_trials += n_trial\n",
    "            all_payoffs = np.add(all_payoffs, o_long.payoff)\n",
    "            int_policy.append(o_long.policy) \n",
    "        all_reached_max.append(int_reached_max)\n",
    "        all_num_steps.append(int_num_steps)\n",
    "        all_num_trials.append(int_num_trials)\n",
    "        for m in range(num_periods+2): all_choices[m] += len(set([choice_list[m] for choice_list in int_policy]))\n",
    "    return([all_reached_max, all_num_steps, all_num_trials, all_payoffs, all_choices])"
   ]
  },
  {
   "cell_type": "markdown",
   "metadata": {},
   "source": [
    "# Levinthal (1997)\n",
    "Below we run the simulation once and show the steps followed by one agent while searching the landscape. \n",
    "  \n",
    "## 1. Initialize values"
   ]
  },
  {
   "cell_type": "code",
   "execution_count": 4,
   "metadata": {},
   "outputs": [],
   "source": [
    "# Simulation\n",
    "num_periods = 50\n",
    "num_reps = 100\n",
    "num_lands = 100\n",
    "# Agent\n",
    "long_jump = 0.1\n",
    "noise = 0.0 # no noise 0.0, low noise 0.01, high noise 0.025\n",
    "start_pos = \"Random\" # \"Minimum\", \"Random\"\n",
    "# Landscape\n",
    "n = 10\n",
    "k = 1\n",
    "land_style = \"Levinthal\" # \"Levinthal\", \"Rand_mat\", \"Rand_row\""
   ]
  },
  {
   "cell_type": "markdown",
   "metadata": {},
   "source": [
    "## 2. Initialize agent and landscape"
   ]
  },
  {
   "cell_type": "code",
   "execution_count": 5,
   "metadata": {},
   "outputs": [],
   "source": [
    "Environment = landscape(n,k, land_style)    \n",
    "Alice = agent(long_jump = long_jump, start_pos = start_pos, noise = noise)"
   ]
  },
  {
   "cell_type": "markdown",
   "metadata": {},
   "source": [
    "## 3. Run simple search\n",
    "Below we show one search of the environment and the short output of the search"
   ]
  },
  {
   "cell_type": "code",
   "execution_count": 6,
   "metadata": {},
   "outputs": [
    {
     "data": {
      "text/html": [
       "<div>\n",
       "<style scoped>\n",
       "    .dataframe tbody tr th:only-of-type {\n",
       "        vertical-align: middle;\n",
       "    }\n",
       "\n",
       "    .dataframe tbody tr th {\n",
       "        vertical-align: top;\n",
       "    }\n",
       "\n",
       "    .dataframe thead th {\n",
       "        text-align: right;\n",
       "    }\n",
       "</style>\n",
       "<table border=\"1\" class=\"dataframe\">\n",
       "  <thead>\n",
       "    <tr style=\"text-align: right;\">\n",
       "      <th></th>\n",
       "      <th>payoff</th>\n",
       "      <th>policy</th>\n",
       "    </tr>\n",
       "  </thead>\n",
       "  <tbody>\n",
       "    <tr>\n",
       "      <th>0</th>\n",
       "      <td>0.671409</td>\n",
       "      <td>0000110111</td>\n",
       "    </tr>\n",
       "    <tr>\n",
       "      <th>1</th>\n",
       "      <td>0.674998</td>\n",
       "      <td>0000110011</td>\n",
       "    </tr>\n",
       "    <tr>\n",
       "      <th>2</th>\n",
       "      <td>0.702542</td>\n",
       "      <td>1000110011</td>\n",
       "    </tr>\n",
       "    <tr>\n",
       "      <th>3</th>\n",
       "      <td>0.725599</td>\n",
       "      <td>1100110011</td>\n",
       "    </tr>\n",
       "    <tr>\n",
       "      <th>4</th>\n",
       "      <td>0.745410</td>\n",
       "      <td>1100110101</td>\n",
       "    </tr>\n",
       "  </tbody>\n",
       "</table>\n",
       "</div>"
      ],
      "text/plain": [
       "     payoff      policy\n",
       "0  0.671409  0000110111\n",
       "1  0.674998  0000110011\n",
       "2  0.702542  1000110011\n",
       "3  0.725599  1100110011\n",
       "4  0.745410  1100110101"
      ]
     },
     "execution_count": 6,
     "metadata": {},
     "output_type": "execute_result"
    }
   ],
   "source": [
    "reached_max, n_step, n_trial, output_short, output_long = Alice.search(Environment.lands, num_periods)\n",
    "output_short"
   ]
  },
  {
   "cell_type": "markdown",
   "metadata": {},
   "source": [
    "## 4. Run simulation\n",
    "Additionally we run a simulation 1000 times to show the average form in which the agents explore the landscape. We print the percentage of times it reaches the global maximum, the number of movements done before the total number of periods were reached, the number of periods needed to find the maximum, and the time required to make the simulation. On average 50% of the agents reached the global maximum and they reached it around period 36. "
   ]
  },
  {
   "cell_type": "code",
   "execution_count": 7,
   "metadata": {
    "scrolled": false
   },
   "outputs": [
    {
     "name": "stdout",
     "output_type": "stream",
     "text": [
      "% of time global max is reached: 44.26\n",
      "# of steps from start: 5.8948\n",
      "# of periods to find global max: 29.6842\n",
      "Computation time: 103.63\n"
     ]
    }
   ],
   "source": [
    "import time\n",
    "start_time = time.time()\n",
    "all_reached_max, all_num_steps, all_num_trials, all_payoffs, all_choices = run_simulation(num_lands, num_reps, num_periods, Alice, Environment)\n",
    "print(\"% of time global max is reached: \" + str(100*sum(all_reached_max)/(num_reps*num_lands)))\n",
    "print(\"# of steps from start: \" + str(sum(all_num_steps)/(num_reps*num_lands)))\n",
    "print(\"# of periods to find global max: \" + str(sum(all_num_trials)/(num_reps*num_lands)))\n",
    "print(\"Computation time: \"+ str(round(time.time()-start_time,2)))"
   ]
  },
  {
   "cell_type": "markdown",
   "metadata": {},
   "source": [
    "### 4.1 Number of organizational forms\n",
    "We can now plot the number of different solutions the agents go to on every period."
   ]
  },
  {
   "cell_type": "code",
   "execution_count": 8,
   "metadata": {},
   "outputs": [
    {
     "data": {
      "text/plain": [
       "<matplotlib.collections.PathCollection at 0xd8d8ea5d30>"
      ]
     },
     "execution_count": 8,
     "metadata": {},
     "output_type": "execute_result"
    },
    {
     "data": {
      "image/png": "[encoded data removed]",
      "text/plain": [
       "<Figure size 432x288 with 1 Axes>"
      ]
     },
     "metadata": {
      "needs_background": "light"
     },
     "output_type": "display_data"
    }
   ],
   "source": [
    "plt.scatter(range(num_periods+2), 100*all_choices[:num_periods+2]/(num_lands*num_reps))"
   ]
  },
  {
   "cell_type": "markdown",
   "metadata": {},
   "source": [
    "### 4.2 Performance over time\n",
    "We also plot the growth in payoff as the agents search the landscape. The last value is the average of the global maxima. Clearly, the search process is still distante to reaching the highest peak on every search ocassion. "
   ]
  },
  {
   "cell_type": "code",
   "execution_count": 9,
   "metadata": {},
   "outputs": [
    {
     "data": {
      "text/plain": [
       "<matplotlib.collections.PathCollection at 0xd8d8f627f0>"
      ]
     },
     "execution_count": 9,
     "metadata": {},
     "output_type": "execute_result"
    },
    {
     "data": {
      "image/png": "[encoded data removed]",
      "text/plain": [
       "<Figure size 432x288 with 1 Axes>"
      ]
     },
     "metadata": {
      "needs_background": "light"
     },
     "output_type": "display_data"
    }
   ],
   "source": [
    "plt.scatter(range(num_periods+2), 100*(all_payoffs[:num_periods+2])/(num_lands*num_reps))"
   ]
  },
  {
   "cell_type": "markdown",
   "metadata": {},
   "source": [
    "## 5. Descriptives of landscape\n",
    "\n",
    "Finally we create 1000 landscapes and see their characteristics. Although making 1000 landscapes takes around 3 seconds, estimating their characteristics takes one order of magnitude longer. This is not a crucial step so I have not optimized it, yet."
   ]
  },
  {
   "cell_type": "code",
   "execution_count": 10,
   "metadata": {
    "scrolled": true
   },
   "outputs": [
    {
     "name": "stdout",
     "output_type": "stream",
     "text": [
      "Range of payoffs: [0.72, 0.5, 0.29]\n",
      "Range # of peaks: [1, 3.64, 10]\n",
      "Computation time: 19.99\n"
     ]
    },
    {
     "data": {
      "image/png": "[encoded data removed]",
      "text/plain": [
       "<Figure size 432x288 with 1 Axes>"
      ]
     },
     "metadata": {
      "needs_background": "light"
     },
     "output_type": "display_data"
    }
   ],
   "source": [
    "Environment = landscape(n,k, land_style)    \n",
    "start_time = time.time()\n",
    "all_max = []\n",
    "all_min = []\n",
    "all_num_peaks = []\n",
    "for i in range(num_reps): \n",
    "    Environment.reset()\n",
    "    max_val, min_val, peaks = Environment.summary()\n",
    "    all_max.append(max_val)\n",
    "    all_min.append(min_val)\n",
    "    all_num_peaks.append(peaks)\n",
    "print(\"Range of payoffs: \" + str([round(np.mean(all_max),2), 0.5, round(np.mean(all_min),2)]))\n",
    "print(\"Range # of peaks: \" + str([min(all_num_peaks), round(np.mean(all_num_peaks),2), max(all_num_peaks)]))\n",
    "plt.hist(all_num_peaks, bins=10)\n",
    "print(\"Computation time: \"+ str(round(time.time()-start_time,2)))"
   ]
  },
  {
   "cell_type": "markdown",
   "metadata": {},
   "source": [
    "Levinthal (1997) includes more analyzes. These are yet to be implemented here. In the future, I will add the myopic jumping as this is important for the paper. \n",
    "\n",
    "**Note:** The code below produced the table of contents."
   ]
  },
  {
   "cell_type": "code",
   "execution_count": 11,
   "metadata": {},
   "outputs": [
    {
     "data": {
      "application/javascript": [
       "$.getScript('https://kmahelona.github.io/ipython_notebook_goodies/ipython_notebook_toc.js')\n"
      ],
      "text/plain": [
       "<IPython.core.display.Javascript object>"
      ]
     },
     "metadata": {},
     "output_type": "display_data"
    }
   ],
   "source": [
    "%%javascript\n",
    "$.getScript('https://kmahelona.github.io/ipython_notebook_goodies/ipython_notebook_toc.js')"
   ]
  }
 ],
 "metadata": {
  "kernelspec": {
   "display_name": "Python 3",
   "language": "python",
   "name": "python3"
  },
  "language_info": {
   "codemirror_mode": {
    "name": "ipython",
    "version": 3
   },
   "file_extension": ".py",
   "mimetype": "text/x-python",
   "name": "python",
   "nbconvert_exporter": "python",
   "pygments_lexer": "ipython3",
   "version": "3.7.3"
  }
 },
 "nbformat": 4,
 "nbformat_minor": 2
}
