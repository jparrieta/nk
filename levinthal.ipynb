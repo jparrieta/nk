{
 "cells": [
  {
   "cell_type": "markdown",
   "metadata": {},
   "source": [
    "# Tutorial on Levinthal (1997)\n",
    "\n",
    "In this tutorial, you will be introduced to a simple model that replicates the main finding from the paper by Dan Levinthal, published in 1997 in Management Science. \n",
    "\n",
    "This tutorial provides a barebones description of the model. If you want to explore a more flexible version or explore how different agents or bandit distributions would affect Jerker's and Jim's results please Maciej Workiewicz's full code. There you will find code on how to replicate also other seminal papers on NK landscapes.  \n",
    "\n",
    "**Reference:** Levinthal, D. A. (1997). Adaptation on rugged landscapes. Management science, 43(7), 934-950."
   ]
  },
  {
   "cell_type": "markdown",
   "metadata": {},
   "source": [
    "## NK Landscape\n",
    "In Levinthal (1997) the agent is quite simple. The environment does have some intricancies. \n",
    "\n",
    "### 1. Create Dependencies\n",
    "The k interdependencies in Levinthal's are created at random. Basically, one needs a matrix where the diagonal has 1s and the off-diagonals have a probabilty k/n of drawing a 1. A one represents an interdependency and a zero the lack of it.  \n",
    "This function includes two variables N and K and outputs a NxN interdependency matrix. "
   ]
  },
  {
   "cell_type": "code",
   "execution_count": 1,
   "metadata": {},
   "outputs": [],
   "source": [
    "import numpy as np\n",
    "import pandas as pd\n",
    "import matplotlib.pyplot as plt\n",
    "\n",
    "def create_dependencies(n, k):\n",
    "    prob = float(k)/(n-1)\n",
    "    dep_mat = np.zeros((n,n)).astype(int)\n",
    "    for i in range(n):\n",
    "        for j in range(n):\n",
    "            if i != j: dep_mat[i][j] = np.random.choice([1,0], p = [prob,1-prob])\n",
    "            else: dep_mat[i][i] = 1\n",
    "    return(dep_mat)"
   ]
  },
  {
   "cell_type": "markdown",
   "metadata": {},
   "source": [
    "### Example: How to create a interdependency matrix\n",
    "Below you see how an interdependency matrix is built. If you run the code again, the matrix will change. "
   ]
  },
  {
   "cell_type": "code",
   "execution_count": 2,
   "metadata": {},
   "outputs": [
    {
     "data": {
      "text/plain": [
       "array([[1, 1, 0, 1],\n",
       "       [1, 1, 1, 0],\n",
       "       [1, 1, 1, 0],\n",
       "       [1, 1, 1, 1]])"
      ]
     },
     "execution_count": 2,
     "metadata": {},
     "output_type": "execute_result"
    }
   ],
   "source": [
    "n = 4\n",
    "k = 2\n",
    "dep_mat = create_dependencies(n, k)\n",
    "\n",
    "dep_mat"
   ]
  },
  {
   "cell_type": "markdown",
   "metadata": {},
   "source": [
    "### 2. Fitness Contributions\n",
    "The second step is building the fitness contributions for each item in the interdependency matrix.  \n",
    "\n",
    "#### Example\n",
    "For example let's imagine that our interdependency matrix is: \n",
    "   \n",
    "|1 0 0 0|  \n",
    "|0 1 1 0|  \n",
    "|1 0 1 1|  \n",
    "|1 1 1 1|  \n",
    "\n",
    "What this means is that the fitness contributions of the first value of a policy P = [a,b,c,d] will depend ONLY on the value of the first policy value, namely whether a is 1 or 0. Formally the fitness contribution will have twwo values:  \n",
    "* f1[0] = z0  \n",
    "* F1[1] = z1  \n",
    "Where z0 and z1 are numbers drawn from a uniform distribution. \n",
    "  \n",
    "The second row is more complicated as there is one interdependency. Here we will have that the second and third policy values are needed to calculate the fitness contribution. For this we need a function with four values as there are four possible combinations of a and b. The functions have the form f2[b,a].  \n",
    "* f2[00] = y0\n",
    "* f2[01] = y1\n",
    "* f2[10] = y2\n",
    "* f2[11] = y3\n",
    "\n",
    "The third row has 2 interdependencies. Now the fitness contributions depends on the values of a, c, and d. The fitness contribution has the for f3[c,d,a]. To depict it, we draw a truth table.   \n",
    "  \n",
    "c  d  a  |  f3  \n",
    "0  0  0  |  x0  \n",
    "0  0  1  |  x1  \n",
    "0  1  0  |  x2  \n",
    "0  1  1  |  x3  \n",
    "1  0  0  |  x4  \n",
    "1  0  1  |  x5  \n",
    "1  1  0  |  x6  \n",
    "1  1  1  |  x7  \n",
    "\n",
    "Finally the last item dependes on so the fitness contribution will need 2^16 values to be created: f4[d,a,b,c].   \n",
    "\n",
    "To create the fitness contributions we need a function that takes one interdependence matrix and outputs the fitness contributions functions for each position. That is, a function thatout puts the two f1, four f2, eight f3, and 16 f4 of the previous example. The function later on should have a structure such that if one tells it that a = 0 and b = 1 it can give f2[b,a] = y2. For this the ideal structure is a list of dictionaries. Each fitness contribution function is a dictionary that one gives the values and it outputs the  and the dictionaries are joined together in a list. Below you find a function that does just that.\n",
    "\n",
    "#### Fitness contribution generator\n",
    "The function first creates an empty list. This list will be filled with the dictionaries of fitness contribution functions.   \n",
    "The next step is entering a for-loop over the N rows of the interdependency matrix. For each iteration in the for-loop, we create an empty dictionary and start a new for-loop. The second for-loop will go over 2^q iterations, where q is the number of 1's in the interdependency matrix (**note:** on average q = k+1 but not every time), On every iteration a new entry is created in the dictionary. The entry has the binary translation of the iteration as its key and a draw from a uniform distribution as its value. At the end the function output a list of with the dictionaries as its entry. \n",
    "You see the code below and the outputs is the list of dictionaries of the dependency matrix created in the prior section. "
   ]
  },
  {
   "cell_type": "code",
   "execution_count": 3,
   "metadata": {},
   "outputs": [
    {
     "data": {
      "text/plain": [
       "[{'0b0': 0.6535825650637801,\n",
       "  '0b1': 0.7697011919400729,\n",
       "  '0b10': 0.578460795955313,\n",
       "  '0b11': 0.28057930602681336,\n",
       "  '0b100': 0.7124993151769322,\n",
       "  '0b101': 0.3793476822968129,\n",
       "  '0b110': 0.33348429711071703,\n",
       "  '0b111': 0.678392118783819},\n",
       " {'0b0': 0.9554598407524872,\n",
       "  '0b1': 0.2864333469038465,\n",
       "  '0b10': 0.017462696177842907,\n",
       "  '0b11': 0.6122530765671762,\n",
       "  '0b100': 0.13174545727494158,\n",
       "  '0b101': 0.6599089502819071,\n",
       "  '0b110': 0.28049970438062455,\n",
       "  '0b111': 0.5509615822422482},\n",
       " {'0b0': 0.6980874961746276,\n",
       "  '0b1': 0.37464908024509314,\n",
       "  '0b10': 0.2505792335477638,\n",
       "  '0b11': 0.8847466813002146,\n",
       "  '0b100': 0.9057193506009633,\n",
       "  '0b101': 0.8293390402127631,\n",
       "  '0b110': 0.921701883783362,\n",
       "  '0b111': 0.31832174498824073},\n",
       " {'0b0': 0.43549082698494146,\n",
       "  '0b1': 0.5632623401123106,\n",
       "  '0b10': 0.8838067985220653,\n",
       "  '0b11': 0.29751525980515725,\n",
       "  '0b100': 0.6034964757236799,\n",
       "  '0b101': 0.360152142731639,\n",
       "  '0b110': 0.9503397780923879,\n",
       "  '0b111': 0.43168010233383003,\n",
       "  '0b1000': 0.464921778779841,\n",
       "  '0b1001': 0.7661736378402487,\n",
       "  '0b1010': 0.3546061853949424,\n",
       "  '0b1011': 0.7903042386607724,\n",
       "  '0b1100': 0.8833257619949118,\n",
       "  '0b1101': 0.8242185115268024,\n",
       "  '0b1110': 0.39671090769997086,\n",
       "  '0b1111': 0.3077112807606781}]"
      ]
     },
     "execution_count": 3,
     "metadata": {},
     "output_type": "execute_result"
    }
   ],
   "source": [
    "def fitness(dep_mat):\n",
    "    epis = []\n",
    "    for i in range(len(dep_mat)): \n",
    "        epi_row = {}\n",
    "        for j in range(2**sum(dep_mat[i])): epi_row[bin(j)] = np.random.random()\n",
    "        epis.append(epi_row)\n",
    "    return(epis)\n",
    "\n",
    "fit_con = fitness(dep_mat)\n",
    "fit_con"
   ]
  },
  {
   "cell_type": "markdown",
   "metadata": {},
   "source": [
    "## 3. Calculate policy payoffs\n",
    "The next step is to calculate the payoff of a policy based upon the fitness contribution functions. To do this we require two things. First to calculate the payoff contribution of every value in a policy and then sum all of them together. We start with the first task. \n",
    "\n",
    "### 3.1 Transform Row\n",
    "Let's continue with the example. But now we have the polict P = [0101].  \n",
    "In the case of the first value we know we should get z0 as fitness contribution. In the second row, y2 and so on. To do this we need to create a function that takes the values of the policy and matches them to the values other values that are interdependent with it.  \n",
    "THe function below is given two inputs, a policy and a row of a dependency matrix.  It creates an empty list and starts to populate it. It does this by starting a for-loop for every element of the policy. If the item of that index is 1 in the interdependency row then it appends the value of policy to the list. If not, it continues to the next policy value. In this way, only the interdependent items are stored. With this, the programs has a list with items that are relevant to calculate the fitness contribution for this policy.     \n",
    "For example, in the case from before we would have as an output of the for-loop [0] in the first row, [1,0] in the second row, [0,1,1] in the third row and [1,0,1,0] for the last row. This output is called interact_row\n",
    "These values however are not understandable by the dictionaries of the fitness contribution. The last rows of the function translate the list into a binary value. So that later the dictonary can be queried.   \n",
    "The process starts by starting trans_pol = 0. This value will store the key value for the dictionary. Then a for-loop starts. The for-loop has the range reversed so that the we keep the items to the left of the list being more significant. This is important because in the the next step we multiply the value of interact_row[i] with the 2^index value. By reversing the order we have that the item most to left in the list will be multiplied by 2^4 if we follow the example from before, the item next to it by 2^3 and so on. The product of the multiplications is added on every loop to the trans_pol value. At the end we have a decimal value. We transform the decimal value and the output is a key we can use in the dictionaries from the fitness contribution. For example for the first row from before we get '0b0', for the second '0b10', for the third '0b011' and for the last row, '0b1010'.  \n",
    "Below you see an example of this function for the same policy we have used in this example but for the randomly generate dependency matrix from before. "
   ]
  },
  {
   "cell_type": "code",
   "execution_count": 4,
   "metadata": {},
   "outputs": [
    {
     "data": {
      "text/plain": [
       "'0b10'"
      ]
     },
     "execution_count": 4,
     "metadata": {},
     "output_type": "execute_result"
    }
   ],
   "source": [
    "def transform_row(policy,dep_row):\n",
    "    interact_row = []\n",
    "    for i in range(len(policy)):\n",
    "        if dep_row[i] == 1: interact_row.append(policy[i])\n",
    "    trans_pol = 0\n",
    "    for j in reversed(range(len(interact_row))): trans_pol += (2**j)*interact_row[j]\n",
    "    return(bin(trans_pol))\n",
    "\n",
    "transform_row([0,1,0,1], dep_mat[1])"
   ]
  },
  {
   "cell_type": "markdown",
   "metadata": {},
   "source": [
    "### 3.2 Transform Matrix\n",
    "The transform_row function is called by a transform_matrix function whose job is to take a policy and output a set of keys for the the list of fitness contributions. To do this basically what it does is to to call the transform_row N times can fill out a list with the output of each of the calls of the function. In the example from above we would have: ['0b0',  '0b10', '0b011', '0b1010'] as an output. Below you see an example of the function working.  "
   ]
  },
  {
   "cell_type": "code",
   "execution_count": 5,
   "metadata": {},
   "outputs": [
    {
     "data": {
      "text/plain": [
       "['0b110', '0b10', '0b10', '0b1010']"
      ]
     },
     "execution_count": 5,
     "metadata": {},
     "output_type": "execute_result"
    }
   ],
   "source": [
    "def transform_matrix(policy,dep_mat):\n",
    "    int_mat = []\n",
    "    for i in range(len(dep_mat)): int_mat.append(transform_row(policy,dep_mat[i]))\n",
    "    return(int_mat)\n",
    "\n",
    "transform_matrix([0,1,0,1],dep_mat)"
   ]
  },
  {
   "cell_type": "markdown",
   "metadata": {},
   "source": [
    "### 3.3 Payoff\n",
    "The payoff function has three inputs, the policy for which to calculate a payoff, the interdependency matrix, and the list of fitness contributions.  The first action it does it to transform the policy into keys to the fitness cotnribution dictionaries. After this is done it sums the entries of all the fitness contributions of the key values and divides the sum by the length of the policy. The last part is done to get a value between 0 and 1. Below we see and example of the code working. "
   ]
  },
  {
   "cell_type": "code",
   "execution_count": 6,
   "metadata": {},
   "outputs": [
    {
     "data": {
      "text/plain": [
       "0.23903310305781653"
      ]
     },
     "execution_count": 6,
     "metadata": {},
     "output_type": "execute_result"
    }
   ],
   "source": [
    "def payoff(policy,dep_mat,fit_con):\n",
    "    pay = 0.0\n",
    "    keys = transform_matrix(policy, dep_mat)\n",
    "    for i in range(len(policy)): pay += fit_con[i][keys[i]]/len(policy)\n",
    "    return(pay)\n",
    "\n",
    "payoff([0,1,0,1],dep_mat,fit_con)"
   ]
  },
  {
   "cell_type": "markdown",
   "metadata": {},
   "source": [
    "## 4. Make full-landscape\n",
    "Now that we can calculate the payoff for one policy we can make the full-landscape. However, to calculate the landscape we need to make a function that takes integers and makes policies.\n",
    "\n",
    "### 4.1 Integer to List\n",
    "This function takes two arguments first a number in integer and then the length of the desired list. This is important because when one transforms an integer to binary in Python, the output cuts the 0s to the left. So the policy length is altered. This function prevents that.  Below you can see an example.  \n",
    "\n",
    "**Note:** In prior functions we had to translate policies from list to integer, this function does the opposite. If we used this functions only here, then it would be a waste. However, there are benefits to having policies as lists. Especially when regarding agents searching in the landscape."
   ]
  },
  {
   "cell_type": "code",
   "execution_count": 7,
   "metadata": {
    "scrolled": true
   },
   "outputs": [
    {
     "data": {
      "text/plain": [
       "[0, 1, 0, 1]"
      ]
     },
     "execution_count": 7,
     "metadata": {},
     "output_type": "execute_result"
    }
   ],
   "source": [
    "def int2list(pol_int, n):\n",
    "    pol_str = bin(pol_int)\n",
    "    policy = [int(pol) for pol in pol_str[2:]]\n",
    "    if len(policy) < n: policy = [0]*(n-len(policy))+policy\n",
    "    return(policy)\n",
    "\n",
    "int2list(5, 4)"
   ]
  },
  {
   "cell_type": "markdown",
   "metadata": {},
   "source": [
    "### 4.2 Calculate Landscape\n",
    "Having the translating function, the function that calculates the landscape is just a for-loop that fills up a dictionary with the payoffs for each policy and then puts them together into one dataframe we can use later while searching.   \n",
    "Below you can see an example of the full landscape. "
   ]
  },
  {
   "cell_type": "code",
   "execution_count": 8,
   "metadata": {},
   "outputs": [
    {
     "data": {
      "text/html": [
       "<div>\n",
       "<style scoped>\n",
       "    .dataframe tbody tr th:only-of-type {\n",
       "        vertical-align: middle;\n",
       "    }\n",
       "\n",
       "    .dataframe tbody tr th {\n",
       "        vertical-align: top;\n",
       "    }\n",
       "\n",
       "    .dataframe thead th {\n",
       "        text-align: right;\n",
       "    }\n",
       "</style>\n",
       "<table border=\"1\" class=\"dataframe\">\n",
       "  <thead>\n",
       "    <tr style=\"text-align: right;\">\n",
       "      <th></th>\n",
       "      <th>int_pol</th>\n",
       "      <th>payoff</th>\n",
       "      <th>policy</th>\n",
       "    </tr>\n",
       "  </thead>\n",
       "  <tbody>\n",
       "    <tr>\n",
       "      <th>0</th>\n",
       "      <td>0</td>\n",
       "      <td>0.685655</td>\n",
       "      <td>[0, 0, 0, 0]</td>\n",
       "    </tr>\n",
       "    <tr>\n",
       "      <th>1</th>\n",
       "      <td>1</td>\n",
       "      <td>0.707742</td>\n",
       "      <td>[0, 0, 0, 1]</td>\n",
       "    </tr>\n",
       "    <tr>\n",
       "      <th>2</th>\n",
       "      <td>2</td>\n",
       "      <td>0.573636</td>\n",
       "      <td>[0, 0, 1, 0]</td>\n",
       "    </tr>\n",
       "    <tr>\n",
       "      <th>3</th>\n",
       "      <td>3</td>\n",
       "      <td>0.658322</td>\n",
       "      <td>[0, 0, 1, 1]</td>\n",
       "    </tr>\n",
       "    <tr>\n",
       "      <th>4</th>\n",
       "      <td>4</td>\n",
       "      <td>0.432577</td>\n",
       "      <td>[0, 1, 0, 0]</td>\n",
       "    </tr>\n",
       "    <tr>\n",
       "      <th>5</th>\n",
       "      <td>5</td>\n",
       "      <td>0.239033</td>\n",
       "      <td>[0, 1, 0, 1]</td>\n",
       "    </tr>\n",
       "    <tr>\n",
       "      <th>6</th>\n",
       "      <td>6</td>\n",
       "      <td>0.682751</td>\n",
       "      <td>[0, 1, 1, 0]</td>\n",
       "    </tr>\n",
       "    <tr>\n",
       "      <th>7</th>\n",
       "      <td>7</td>\n",
       "      <td>0.483099</td>\n",
       "      <td>[0, 1, 1, 1]</td>\n",
       "    </tr>\n",
       "    <tr>\n",
       "      <th>8</th>\n",
       "      <td>8</td>\n",
       "      <td>0.498511</td>\n",
       "      <td>[1, 0, 0, 0]</td>\n",
       "    </tr>\n",
       "    <tr>\n",
       "      <th>9</th>\n",
       "      <td>9</td>\n",
       "      <td>0.451651</td>\n",
       "      <td>[1, 0, 0, 1]</td>\n",
       "    </tr>\n",
       "    <tr>\n",
       "      <th>10</th>\n",
       "      <td>10</td>\n",
       "      <td>0.654775</td>\n",
       "      <td>[1, 0, 1, 0]</td>\n",
       "    </tr>\n",
       "    <tr>\n",
       "      <th>11</th>\n",
       "      <td>11</td>\n",
       "      <td>0.673204</td>\n",
       "      <td>[1, 0, 1, 1]</td>\n",
       "    </tr>\n",
       "    <tr>\n",
       "      <th>12</th>\n",
       "      <td>12</td>\n",
       "      <td>0.518774</td>\n",
       "      <td>[1, 1, 0, 0]</td>\n",
       "    </tr>\n",
       "    <tr>\n",
       "      <th>13</th>\n",
       "      <td>13</td>\n",
       "      <td>0.741424</td>\n",
       "      <td>[1, 1, 0, 1]</td>\n",
       "    </tr>\n",
       "    <tr>\n",
       "      <th>14</th>\n",
       "      <td>14</td>\n",
       "      <td>0.395386</td>\n",
       "      <td>[1, 1, 1, 0]</td>\n",
       "    </tr>\n",
       "    <tr>\n",
       "      <th>15</th>\n",
       "      <td>15</td>\n",
       "      <td>0.463847</td>\n",
       "      <td>[1, 1, 1, 1]</td>\n",
       "    </tr>\n",
       "  </tbody>\n",
       "</table>\n",
       "</div>"
      ],
      "text/plain": [
       "    int_pol    payoff        policy\n",
       "0         0  0.685655  [0, 0, 0, 0]\n",
       "1         1  0.707742  [0, 0, 0, 1]\n",
       "2         2  0.573636  [0, 0, 1, 0]\n",
       "3         3  0.658322  [0, 0, 1, 1]\n",
       "4         4  0.432577  [0, 1, 0, 0]\n",
       "5         5  0.239033  [0, 1, 0, 1]\n",
       "6         6  0.682751  [0, 1, 1, 0]\n",
       "7         7  0.483099  [0, 1, 1, 1]\n",
       "8         8  0.498511  [1, 0, 0, 0]\n",
       "9         9  0.451651  [1, 0, 0, 1]\n",
       "10       10  0.654775  [1, 0, 1, 0]\n",
       "11       11  0.673204  [1, 0, 1, 1]\n",
       "12       12  0.518774  [1, 1, 0, 0]\n",
       "13       13  0.741424  [1, 1, 0, 1]\n",
       "14       14  0.395386  [1, 1, 1, 0]\n",
       "15       15  0.463847  [1, 1, 1, 1]"
      ]
     },
     "execution_count": 8,
     "metadata": {},
     "output_type": "execute_result"
    }
   ],
   "source": [
    "def calc_landscape(dep_mat, fit_con):\n",
    "    lands = []\n",
    "    n = dep_mat.shape[0]\n",
    "    for i in range(2**n): \n",
    "        lands.append({'int_pol':i, 'policy': np.asarray(int2list(i,n)), 'payoff':payoff(int2list(i,n), dep_mat, fit_con)})\n",
    "    return(pd.DataFrame(lands))\n",
    "calc_landscape(dep_mat, fit_con)"
   ]
  },
  {
   "cell_type": "markdown",
   "metadata": {},
   "source": [
    "## Search in a Rugged Landscape\n",
    "Below I introduce the code for searching in NK landscape, equivalent to the one from Levithnal (1997)\n",
    "For this I create a agent class. The agent is very simple, it just knows the percentage of time it can make a long jump. \n",
    "Levinthal includes other aspects like myopia but this is not in the code at the moment. \n",
    "\n",
    "### Agent"
   ]
  },
  {
   "cell_type": "code",
   "execution_count": 9,
   "metadata": {},
   "outputs": [],
   "source": [
    "import numpy as np\n",
    "import pandas as pd\n",
    "import matplotlib.pyplot as plt\n",
    "\n",
    "def transform_row(policy,dep_row):\n",
    "    interact_row = [policy[i] for i in range(len(policy)) if dep_row[i] == 1]\n",
    "    trans_pol = list2int(interact_row)\n",
    "    return(bin(trans_pol))\n",
    "\n",
    "def transform_matrix(policy,dep_mat):\n",
    "    int_mat = [transform_row(policy,dep_mat[i]) for i in range(len(dep_mat))]\n",
    "    return(int_mat)\n",
    "\n",
    "def int2list(pol_int, n):\n",
    "    pol_str = bin(pol_int)\n",
    "    policy = [int(pol) for pol in pol_str[2:]]\n",
    "    if len(policy) < n: policy = [0]*(n-len(policy))+policy\n",
    "    return(policy)\n",
    "\n",
    "def list2int(pol_list):\n",
    "    pol_int = np.sum([(2**j)*pol_list[j] for j in reversed(range(len(pol_list)))])\n",
    "    return(pol_int)\n",
    "\n",
    "def find_neighbors(policy):\n",
    "    neighbors = []\n",
    "    random_order = np.random.choice(range(len(policy)), replace = False, size = len(policy))\n",
    "    for i in random_order:\n",
    "        neighbor = policy\n",
    "        if policy[i] == 1: neighbor[i] = 0\n",
    "        else: neighbor[i] = 1\n",
    "        neighbors.append(list2int(neighbor))\n",
    "    return(neighbors)\n",
    "\n",
    "class landscape:\n",
    "    def __init__(self,n,k):\n",
    "        self.n = n\n",
    "        self.k = k\n",
    "        self.reset()\n",
    "    def calc_landscape(self):\n",
    "        land = [{'int_pol':i, 'policy': np.asarray(int2list(i,self.n)), 'payoff':self.payoff(int2list(i,self.n))}\n",
    "                for i in range(2**self.n)]\n",
    "        self.lands = pd.DataFrame(land)\n",
    "    def create_dependencies(self):\n",
    "        prob = float(self.k)/(self.n-1)\n",
    "        self.dep_mat = np.zeros((self.n,self.n)).astype(int)\n",
    "        for i in range(self.n):\n",
    "            for j in range(self.n):\n",
    "                if i != j: self.dep_mat[i][j] = np.random.choice([1,0], p = [prob,1-prob])\n",
    "                else: self.dep_mat[i][i] = 1\n",
    "    def fitness_contribution(self):\n",
    "        self.fit_con = []\n",
    "        for i in range(self.n): \n",
    "            epi_row = {bin(j): np.random.random() for j in range(2**sum(self.dep_mat[i]))}\n",
    "            self.fit_con.append(epi_row)\n",
    "    def payoff(self, policy):\n",
    "        keys = transform_matrix(policy, self.dep_mat)\n",
    "        pay = np.sum([self.fit_con[i][keys[i]]/len(policy) for i in range(len(policy))])\n",
    "        return(pay)\n",
    "    def reset(self):\n",
    "        self.create_dependencies()\n",
    "        self.fitness_contribution()\n",
    "        self.calc_landscape()   \n",
    "\n",
    "class agent:\n",
    "    def __init__(self, long_jump):\n",
    "        self.long_jump = long_jump\n",
    "    def search(self, lands, num_periods):\n",
    "        current_row = lands.loc[np.random.choice(lands.shape[0]),:]\n",
    "        global_max = lands.loc[np.argmax(lands.payoff),:]\n",
    "        log_short = [current_row]\n",
    "        log_long = [current_row]\n",
    "        for j in range(num_periods):\n",
    "            if np.random.choice([\"Walk\", \"Jump\"], p = [1-long_jump, long_jump]) == \"Jump\": \n",
    "                proposed_row = np.random.choice(lands.shape[0])\n",
    "            else:\n",
    "                randomized_neighbors = find_neighbors(current_row.policy)\n",
    "                for proposed_row in randomized_neighbors:\n",
    "                    if lands.payoff[proposed_row] > current_row.payoff: break # weird but works\n",
    "            if lands.payoff[proposed_row] > current_row.payoff:\n",
    "                current_row = lands.loc[proposed_row,:]\n",
    "                log_short.append(current_row) #stores changes\n",
    "            log_long.append(current_row) #stores every period\n",
    "            if current_row.int_pol == global_max.int_pol & j < num_periods-1: \n",
    "                for k in range(num_periods-j-1): log_long.append(current_row) # makes all dataframes the same length\n",
    "                break # avoid doing irrelevant calculations\n",
    "        log_short.append(global_max) # add global max for comparison later on\n",
    "        log_long.append(global_max) # add global max for comparison later on\n",
    "        reached_max = 1*(current_row.int_pol == global_max.int_pol)\n",
    "        return([reached_max, len(log_short)-1, j, pd.DataFrame(log_short), pd.DataFrame(log_long)])\n",
    "    \n",
    "def run_simulation(num_reps, num_periods, Alice, Environment):\n",
    "        all_reached_max = 0\n",
    "        all_num_steps = 0\n",
    "        all_num_trials = 0\n",
    "        all_payoffs = np.zeros(num_periods+2)\n",
    "        for j in range(num_reps):\n",
    "            Environment.reset() # 23 of 35s\n",
    "            reached_max, n_step, n_trial, o_short, o_long = Alice.search(lands = Environment.lands, num_periods = num_periods) # 11 of 35s\n",
    "            all_reached_max += reached_max\n",
    "            all_num_steps += n_step\n",
    "            all_num_trials += n_trial\n",
    "            all_payoffs = np.add(all_payoffs, o_long.payoff)\n",
    "        return([all_reached_max, all_num_steps, all_num_trials, all_payoffs])"
   ]
  },
  {
   "cell_type": "markdown",
   "metadata": {},
   "source": [
    "## Run Simulation\n",
    "Having the agent and the environment we can create the simulation. "
   ]
  },
  {
   "cell_type": "code",
   "execution_count": 10,
   "metadata": {},
   "outputs": [
    {
     "name": "stderr",
     "output_type": "stream",
     "text": [
      "C:\\ProgramData\\Anaconda3\\lib\\site-packages\\numpy\\core\\fromnumeric.py:56: FutureWarning: \n",
      "The current behaviour of 'Series.argmax' is deprecated, use 'idxmax'\n",
      "instead.\n",
      "The behavior of 'argmax' will be corrected to return the positional\n",
      "maximum in the future. For now, use 'series.values.argmax' or\n",
      "'np.argmax(np.array(values))' to get the position of the maximum\n",
      "row.\n",
      "  return getattr(obj, method)(*args, **kwds)\n"
     ]
    },
    {
     "data": {
      "text/html": [
       "<div>\n",
       "<style scoped>\n",
       "    .dataframe tbody tr th:only-of-type {\n",
       "        vertical-align: middle;\n",
       "    }\n",
       "\n",
       "    .dataframe tbody tr th {\n",
       "        vertical-align: top;\n",
       "    }\n",
       "\n",
       "    .dataframe thead th {\n",
       "        text-align: right;\n",
       "    }\n",
       "</style>\n",
       "<table border=\"1\" class=\"dataframe\">\n",
       "  <thead>\n",
       "    <tr style=\"text-align: right;\">\n",
       "      <th></th>\n",
       "      <th>int_pol</th>\n",
       "      <th>payoff</th>\n",
       "      <th>policy</th>\n",
       "    </tr>\n",
       "  </thead>\n",
       "  <tbody>\n",
       "    <tr>\n",
       "      <th>9</th>\n",
       "      <td>9</td>\n",
       "      <td>0.432086</td>\n",
       "      <td>[1, 1, 1, 1, 1, 1, 0, 1, 1, 0]</td>\n",
       "    </tr>\n",
       "    <tr>\n",
       "      <th>64</th>\n",
       "      <td>64</td>\n",
       "      <td>0.501938</td>\n",
       "      <td>[1, 1, 1, 0, 1, 1, 1, 1, 1, 1]</td>\n",
       "    </tr>\n",
       "    <tr>\n",
       "      <th>0</th>\n",
       "      <td>0</td>\n",
       "      <td>0.501948</td>\n",
       "      <td>[1, 1, 1, 1, 1, 1, 1, 1, 1, 1]</td>\n",
       "    </tr>\n",
       "    <tr>\n",
       "      <th>4</th>\n",
       "      <td>4</td>\n",
       "      <td>0.638571</td>\n",
       "      <td>[1, 1, 1, 1, 1, 1, 1, 0, 1, 1]</td>\n",
       "    </tr>\n",
       "    <tr>\n",
       "      <th>529</th>\n",
       "      <td>529</td>\n",
       "      <td>0.663877</td>\n",
       "      <td>[0, 1, 1, 1, 1, 0, 1, 1, 1, 0]</td>\n",
       "    </tr>\n",
       "    <tr>\n",
       "      <th>470</th>\n",
       "      <td>470</td>\n",
       "      <td>0.670125</td>\n",
       "      <td>[0, 1, 1, 1, 0, 1, 0, 1, 1, 0]</td>\n",
       "    </tr>\n",
       "    <tr>\n",
       "      <th>395</th>\n",
       "      <td>395</td>\n",
       "      <td>0.733331</td>\n",
       "      <td>[1, 0, 0, 1, 1, 1, 0, 1, 0, 0]</td>\n",
       "    </tr>\n",
       "    <tr>\n",
       "      <th>127</th>\n",
       "      <td>127</td>\n",
       "      <td>0.753351</td>\n",
       "      <td>[0, 0, 0, 1, 1, 1, 1, 1, 1, 1]</td>\n",
       "    </tr>\n",
       "    <tr>\n",
       "      <th>205</th>\n",
       "      <td>205</td>\n",
       "      <td>0.758952</td>\n",
       "      <td>[0, 0, 1, 1, 0, 0, 1, 1, 0, 1]</td>\n",
       "    </tr>\n",
       "    <tr>\n",
       "      <th>205</th>\n",
       "      <td>205</td>\n",
       "      <td>0.758952</td>\n",
       "      <td>[0, 0, 1, 1, 0, 0, 1, 1, 0, 1]</td>\n",
       "    </tr>\n",
       "  </tbody>\n",
       "</table>\n",
       "</div>"
      ],
      "text/plain": [
       "     int_pol    payoff                          policy\n",
       "9          9  0.432086  [1, 1, 1, 1, 1, 1, 0, 1, 1, 0]\n",
       "64        64  0.501938  [1, 1, 1, 0, 1, 1, 1, 1, 1, 1]\n",
       "0          0  0.501948  [1, 1, 1, 1, 1, 1, 1, 1, 1, 1]\n",
       "4          4  0.638571  [1, 1, 1, 1, 1, 1, 1, 0, 1, 1]\n",
       "529      529  0.663877  [0, 1, 1, 1, 1, 0, 1, 1, 1, 0]\n",
       "470      470  0.670125  [0, 1, 1, 1, 0, 1, 0, 1, 1, 0]\n",
       "395      395  0.733331  [1, 0, 0, 1, 1, 1, 0, 1, 0, 0]\n",
       "127      127  0.753351  [0, 0, 0, 1, 1, 1, 1, 1, 1, 1]\n",
       "205      205  0.758952  [0, 0, 1, 1, 0, 0, 1, 1, 0, 1]\n",
       "205      205  0.758952  [0, 0, 1, 1, 0, 0, 1, 1, 0, 1]"
      ]
     },
     "execution_count": 10,
     "metadata": {},
     "output_type": "execute_result"
    }
   ],
   "source": [
    "n = 10\n",
    "k = 9\n",
    "num_periods = 100\n",
    "num_reps = 100\n",
    "long_jump = 0.0\n",
    "Environment = landscape(n,k)    \n",
    "Alice = agent(long_jump = long_jump)\n",
    "reached_max, n_step, n_trial, output_short, output_long = Alice.search(Environment.lands, num_periods)\n",
    "output_short"
   ]
  },
  {
   "cell_type": "code",
   "execution_count": 11,
   "metadata": {
    "scrolled": true
   },
   "outputs": [
    {
     "name": "stdout",
     "output_type": "stream",
     "text": [
      "50.0\n",
      "6.44\n",
      "95.61\n",
      "35.2\n"
     ]
    }
   ],
   "source": [
    "import time\n",
    "start_time = time.time()\n",
    "all_reached_max, all_num_steps, all_num_trials, all_payoffs= run_simulation(num_reps, num_periods, Alice, Environment)\n",
    "print(100*all_reached_max/num_reps)\n",
    "print(all_num_steps/num_reps)\n",
    "print(all_num_trials/num_reps)\n",
    "print(round(time.time()-start_time,1))"
   ]
  },
  {
   "cell_type": "code",
   "execution_count": 12,
   "metadata": {},
   "outputs": [
    {
     "data": {
      "text/plain": [
       "<matplotlib.collections.PathCollection at 0xbfba393c18>"
      ]
     },
     "execution_count": 12,
     "metadata": {},
     "output_type": "execute_result"
    },
    {
     "data": {
      "image/png": "[encoded data removed]",
      "text/plain": [
       "<Figure size 432x288 with 1 Axes>"
      ]
     },
     "metadata": {
      "needs_background": "light"
     },
     "output_type": "display_data"
    }
   ],
   "source": [
    "plt.scatter(range(num_periods+2), all_payoffs[:num_periods+2])"
   ]
  },
  {
   "cell_type": "code",
   "execution_count": 13,
   "metadata": {},
   "outputs": [
    {
     "name": "stdout",
     "output_type": "stream",
     "text": [
      "23.152421236038208\n"
     ]
    }
   ],
   "source": [
    "Environment = landscape(n,k)    \n",
    "start_time = time.time()\n",
    "for i in range(100): Environment.reset() # 90% from cal_lands\n",
    "print(time.time()-start_time)"
   ]
  },
  {
   "cell_type": "code",
   "execution_count": 14,
   "metadata": {},
   "outputs": [
    {
     "name": "stdout",
     "output_type": "stream",
     "text": [
      "8.827234268188477\n"
     ]
    }
   ],
   "source": [
    "start_time = time.time()\n",
    "for i in range(100): Alice.search(Environment.lands, num_periods)\n",
    "print(time.time()-start_time)"
   ]
  },
  {
   "cell_type": "code",
   "execution_count": null,
   "metadata": {},
   "outputs": [],
   "source": []
  }
 ],
 "metadata": {
  "kernelspec": {
   "display_name": "Python 3",
   "language": "python",
   "name": "python3"
  },
  "language_info": {
   "codemirror_mode": {
    "name": "ipython",
    "version": 3
   },
   "file_extension": ".py",
   "mimetype": "text/x-python",
   "name": "python",
   "nbconvert_exporter": "python",
   "pygments_lexer": "ipython3",
   "version": "3.7.3"
  }
 },
 "nbformat": 4,
 "nbformat_minor": 2
}
